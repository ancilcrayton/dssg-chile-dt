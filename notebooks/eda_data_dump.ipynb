{
 "cells": [
  {
   "cell_type": "markdown",
   "metadata": {},
   "source": [
    "# Exploration of new data dump tables"
   ]
  },
  {
   "cell_type": "code",
   "execution_count": null,
   "metadata": {},
   "outputs": [],
   "source": [
    "import sys\n",
    "sys.path.append('../')\n",
    "import pipeline.sql as plsql\n",
    "import pipeline.eda as pleda"
   ]
  },
  {
   "cell_type": "code",
   "execution_count": null,
   "metadata": {},
   "outputs": [],
   "source": [
    "engine = plsql.create_engine('../config.yaml')"
   ]
  },
  {
   "cell_type": "code",
   "execution_count": null,
   "metadata": {},
   "outputs": [],
   "source": [
    "role = \"set role direccion_trabajo_inspections_write;\""
   ]
  },
  {
   "cell_type": "code",
   "execution_count": null,
   "metadata": {},
   "outputs": [],
   "source": [
    "tables = plsql.query(\"\"\"{} SELECT table_name FROM information_schema.tables\n",
    "                      WHERE table_schema='public'\n",
    "                      and table_name like '{}';\"\"\".format(role, '%%dt%%'), engine)"
   ]
  },
  {
   "cell_type": "code",
   "execution_count": null,
   "metadata": {},
   "outputs": [],
   "source": [
    "def descriptive_stats(table, engine, role, schema):\n",
    "    print(\"\\nTable name: {}\".format(table))\n",
    "    print(\"Total rows: {}\".format(pleda.total_rows(engine, role, schema, table)))\n",
    "    table = plsql.query(\"set role '{}'; select * from {}.{} limit 0;\".format(role, schema, table), engine)\n",
    "    print(\"Column names: {}\".format(table.columns.values))\n",
    "    #nulls = pleda.proportion_nulls_all_columns(engine, role, schema, table)\n",
    "    #print(\"Total nulls by column: {}\".format(nulls['count']))\n",
    "    #print(\"Proportion nulls by column: {}\".format(nulls['proportion']))"
   ]
  },
  {
   "cell_type": "code",
   "execution_count": null,
   "metadata": {},
   "outputs": [],
   "source": [
    "for index, table in tables.iterrows():\n",
    "    descriptive_stats(table.table_name, engine, \"direccion_trabajo_inspections_write\", \"public\")"
   ]
  },
  {
   "cell_type": "markdown",
   "metadata": {},
   "source": [
    "## dt_fi_detallemateria\n",
    "\n",
    "Guess of what this is: details about materials? Maybe helpful for creating \"severity\" feature. Looks like it goes through materials code-by-code and gives information about them."
   ]
  },
  {
   "cell_type": "markdown",
   "metadata": {},
   "source": [
    "## dt_fi_detallemateriaturno\n",
    "\n",
    "Guess of what this is: a different table of material codes??? Significantly smaller than the other table."
   ]
  },
  {
   "cell_type": "markdown",
   "metadata": {},
   "source": [
    "## dt_fi_estadofiscalizacion\n",
    "\n",
    "Translation: \"Inspection status\"\n",
    "\n",
    "Guess: this includes a gloss for the codes, so looking at the contents should help in figuring out what's in here. Probably it's a table explaining the codes for inspection status, which isn't a variable I think we've seen before."
   ]
  },
  {
   "cell_type": "markdown",
   "metadata": {},
   "source": [
    "## dt_fi_informefiscalizacion\n",
    "\n",
    "Translation: Inspection report!!!!\n",
    "\n",
    "Guess: this is the information inspectors enter when they create their reports. So, this is the closest thing to our inspections data.\n",
    "\n",
    "PROBLEM: this table is empty, even though it didn't error in the SQL Server --> Postgres conversion"
   ]
  },
  {
   "cell_type": "markdown",
   "metadata": {},
   "source": [
    "## dt_fi_informemateriafisc\n",
    "\n",
    "Translation: Inspection matter report\n",
    "\n",
    "Guess: Maybe this is the equivalent of our long table for violations?\n",
    "\n",
    "PROBLEM: this table is empty. This one did have an error in the SQL Server --> Postgres conversion."
   ]
  },
  {
   "cell_type": "markdown",
   "metadata": {},
   "source": [
    "## dt_fi_tipodocumento\n",
    "\n",
    "Translation: Document type\n",
    "\n",
    "Guess: another code table of some kind"
   ]
  },
  {
   "cell_type": "markdown",
   "metadata": {},
   "source": [
    "## dt_fi_tipomateria\n",
    "\n",
    "Translation: Material type\n",
    "\n",
    "Guess: another code table"
   ]
  },
  {
   "cell_type": "markdown",
   "metadata": {},
   "source": [
    "## dt_fi_tipoterminofiscalizacion\n",
    "\n",
    "Translation: ?? my guess is the type of result of inspections but I'm not sure"
   ]
  },
  {
   "cell_type": "markdown",
   "metadata": {},
   "source": [
    "## dt_fi_auditasignacion\n",
    "\n",
    "Translation: Audit assignment"
   ]
  },
  {
   "cell_type": "markdown",
   "metadata": {},
   "source": [
    "# BELOW THIS IS MY SECTION"
   ]
  },
  {
   "cell_type": "markdown",
   "metadata": {},
   "source": [
    "## dt_mul_capitulonormasan\n",
    "\n",
    "**Translation:** Rules chapter (chapter number from a handbook of some kind?)\n",
    "\n",
    "**Number of rows:** 0\n",
    "\n",
    "**Columns:** codigo, glosa\n",
    "\n",
    "**Column translation:** code, gloss"
   ]
  },
  {
   "cell_type": "code",
   "execution_count": null,
   "metadata": {},
   "outputs": [],
   "source": [
    "plsql.query(\"\"\"{} select * from dt_mul_capitulonormasan limit 5;\"\"\".format(role), engine)"
   ]
  },
  {
   "cell_type": "markdown",
   "metadata": {},
   "source": [
    "## dt_mul_categnorma\n",
    "\n",
    "**Translation:** Rule category\n",
    "\n",
    "**Number of rows:** 2043\n",
    "\n",
    "**Columns:** codcategoria, coddetcategoria, idnormasan, ponderacion, excluyente, urgente, vigente\n",
    "\n",
    "**Column translation:** code_category, code_category_detailed, rule_id, weight, excluding?, urgency, validity\n",
    "\n",
    "**Observations:** \n",
    "* Can be joined with other tables by `codcategoria`, `coddetcategoria,` and `idnormasan`, but none of the columns in this table are unique in this table"
   ]
  },
  {
   "cell_type": "code",
   "execution_count": null,
   "metadata": {},
   "outputs": [],
   "source": [
    "plsql.query(\"\"\"{} select * from dt_mul_categnorma limit 5;\"\"\".format(role), engine)"
   ]
  },
  {
   "cell_type": "code",
   "execution_count": null,
   "metadata": {},
   "outputs": [],
   "source": [
    "pleda.count_distinct(engine, \"direccion_trabajo_inspections_write\", \"public\", \"dt_mul_categnorma\", \"idnormasan\")"
   ]
  },
  {
   "cell_type": "markdown",
   "metadata": {},
   "source": [
    "## dt_mul_conceptonormasan\n",
    "\n",
    "**Translation:** Rule concept\n",
    "\n",
    "**Number of rows:** 14\n",
    "\n",
    "**Columns:** codigo, glosa\n",
    "\n",
    "**Column translation:** code, gloss\n",
    "\n",
    "**Observations:**\n",
    "* Can be joined with other tables with `codigo` matching `codconcepto`"
   ]
  },
  {
   "cell_type": "code",
   "execution_count": null,
   "metadata": {},
   "outputs": [],
   "source": [
    "plsql.query(\"\"\"{} select * from dt_mul_conceptonormasan limit 5;\"\"\".format(role), engine)"
   ]
  },
  {
   "cell_type": "markdown",
   "metadata": {},
   "source": [
    "## dt_mul_detallenormasan\n",
    "\n",
    "**Translation:** Detailed rule\n",
    "\n",
    "**Number of rows:** 3399\n",
    "\n",
    "**Columns:** normasan, codigo, nl_infringida, nl_sancionada, cuerpolegal, desde, hasta, codgravedad, enunciado, hecho, codtipomoneda, junji, capitulo, codconcepto\n",
    "\n",
    "**Column translation:** rule_id, code_in_handbook, article_location_infringed, article_location_sanctioned, legal_body, from_when, until_when, gravity_code, statement, fact, currency_type_code, ????, chapter, concept_code\n",
    "\n",
    "**Observations:**\n",
    "* `desde` and `hasta` are integers and I have zero idea what they mean\n",
    "* `capitulo` can probably be joined with `dt_mul_capitulonormasan`\n",
    "* `codconcepto` can probably be joined with `dt_mul_conceptonormasan`"
   ]
  },
  {
   "cell_type": "code",
   "execution_count": null,
   "metadata": {},
   "outputs": [],
   "source": [
    "plsql.query(\"\"\"{} select * from dt_mul_detallenormasan limit 5;\"\"\".format(role), engine)"
   ]
  },
  {
   "cell_type": "markdown",
   "metadata": {},
   "source": [
    "## dt_mul_tipocategorias\n",
    "\n",
    "**Translation:** Category types\n",
    "\n",
    "**Number of rows:** 86\n",
    "\n",
    "**Columns:** codigo, glosa, vigente\n",
    "\n",
    "**Column translation:** code, gloss, validity\n",
    "\n",
    "**Observations:** \n",
    "* Can possibly match to other tables on `codcategoria`"
   ]
  },
  {
   "cell_type": "code",
   "execution_count": null,
   "metadata": {},
   "outputs": [],
   "source": [
    "plsql.query(\"\"\"{} select * from dt_mul_tipocategorias limit 5;\"\"\".format(role), engine)"
   ]
  },
  {
   "cell_type": "markdown",
   "metadata": {},
   "source": [
    "## dt_mul_tipocategoriasturno\n",
    "\n",
    "**Translation:** Changed category types?\n",
    "\n",
    "**Number of rows:** 32\n",
    "\n",
    "**Columns:** codigo, glosa, vigente\n",
    "\n",
    "**Column translation:** code, gloss, validity\n",
    "\n",
    "**Observations:**\n",
    "* I suspect that this is a different version of the tipocategorias. maybe for a different time period, this is the appropriate code table?\n",
    "* If so, can be joined using `codcategorias`"
   ]
  },
  {
   "cell_type": "code",
   "execution_count": null,
   "metadata": {},
   "outputs": [],
   "source": [
    "plsql.query(\"\"\"{} select * from dt_mul_tipocategoriasturno limit 5;\"\"\".format(role), engine)"
   ]
  },
  {
   "cell_type": "markdown",
   "metadata": {},
   "source": [
    "## missing: dt_fi_informemateriafisc\n",
    "\n",
    "**Translation:** \n",
    "\n",
    "**Number of rows:** 4825047\n",
    "\n",
    "**Columns:** idinformat, idfiscalizacion, codmateria, informe, proced, coddetecinfrac, nrovisitacorreccion, codsituatcionfinal, codaccion\n",
    "\n",
    "**Column translation:** \n",
    "\n",
    "**Observations:**"
   ]
  },
  {
   "cell_type": "markdown",
   "metadata": {},
   "source": [
    "# Questions\n",
    "\n",
    "* Should `dt_mul_capitulonormasan` be empty?\n",
    "* How are `dt_mul_tipocategorias` are `dt_mul_tipocategoriasturno` related?\n",
    "* What is `nrovisitacorreccion` in `dt_fi_informemateriafisc`?"
   ]
  },
  {
   "cell_type": "code",
   "execution_count": null,
   "metadata": {},
   "outputs": [],
   "source": [
    "tables"
   ]
  },
  {
   "cell_type": "code",
   "execution_count": null,
   "metadata": {},
   "outputs": [],
   "source": [
    "plsql.query(\"\"\"{} select * from dt_fi_informemateriafisc;\"\"\".format(role), engine)"
   ]
  }
 ],
 "metadata": {
  "kernelspec": {
   "display_name": "Python 3",
   "language": "python",
   "name": "python3"
  },
  "language_info": {
   "codemirror_mode": {
    "name": "ipython",
    "version": 3
   },
   "file_extension": ".py",
   "mimetype": "text/x-python",
   "name": "python",
   "nbconvert_exporter": "python",
   "pygments_lexer": "ipython3",
   "version": "3.6.5"
  }
 },
 "nbformat": 4,
 "nbformat_minor": 2
}
