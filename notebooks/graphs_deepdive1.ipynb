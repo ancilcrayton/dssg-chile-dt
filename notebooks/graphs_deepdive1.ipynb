{
 "cells": [
  {
   "cell_type": "markdown",
   "metadata": {},
   "source": [
    "# Deep Dive"
   ]
  },
  {
   "cell_type": "code",
   "execution_count": null,
   "metadata": {},
   "outputs": [],
   "source": [
    "import sys\n",
    "sys.path.append('../')\n",
    "\n",
    "import pipeline.sql as plsql\n",
    "import pipeline.eda as pleda\n",
    "import eda.functions_eda as lceda\n",
    "\n",
    "\n",
    "from plotnine import *\n",
    "import pandas as pd\n",
    "from mizani.breaks import date_breaks\n",
    "from mizani.formatters import date_format\n",
    "from datetime import date\n",
    "\n",
    "theme_set(theme_bw())"
   ]
  },
  {
   "cell_type": "code",
   "execution_count": null,
   "metadata": {},
   "outputs": [],
   "source": []
  },
  {
   "cell_type": "code",
   "execution_count": null,
   "metadata": {},
   "outputs": [],
   "source": [
    "def custom_date_format2(breaks):\n",
    "    \"\"\"\n",
    "    Function to format the date\n",
    "    \"\"\"\n",
    "    res = []\n",
    "    for x in breaks:\n",
    "        # First day of the year\n",
    "        if x.month == 1 and x.day == 1:\n",
    "            fmt = '%Y'\n",
    "        # Every other month\n",
    "        elif x.month % 2 != 0:\n",
    "            fmt = '%b'\n",
    "        else:\n",
    "            fmt = ''\n",
    "\n",
    "        res.append(date.strftime(x, fmt))\n",
    "\n",
    "    return res\n",
    "\n",
    "def custom_date_format3(breaks):\n",
    "    \"\"\"\n",
    "    Function to format the date\n",
    "    \"\"\"\n",
    "    res = []\n",
    "    for x in breaks:\n",
    "        # First day of the year\n",
    "        if x.month == 1:\n",
    "            fmt = '%Y'\n",
    "        else:\n",
    "            fmt = '%b'\n",
    "\n",
    "        res.append(date.strftime(x, fmt))\n",
    "\n",
    "    return res\n",
    "\n",
    "\n",
    "def custom_date_breaks(width=None):\n",
    "    \"\"\"\n",
    "    Create a function that calculates date breaks\n",
    "\n",
    "    It delegates the work to `date_breaks`\n",
    "    \"\"\"\n",
    "    def filter_func(limits):\n",
    "        breaks = date_breaks(width)(limits)\n",
    "        # filter\n",
    "        return [x for x in breaks if x.month % 2]\n",
    "\n",
    "    return filter_func"
   ]
  },
  {
   "cell_type": "code",
   "execution_count": null,
   "metadata": {},
   "outputs": [],
   "source": [
    "engine = plsql.create_engine('../config.yaml')\n",
    "role = 'direccion_trabajo_inspections_write'"
   ]
  },
  {
   "cell_type": "code",
   "execution_count": null,
   "metadata": {},
   "outputs": [],
   "source": [
    "qry = \"\"\"set role {}; \n",
    "        select agno, count( distinct idfiscalizacion)\n",
    "        from cleaned.inspections_complete\n",
    "        group by agno;\"\"\".format(role)\n",
    "tab = plsql.query(qry, engine)"
   ]
  },
  {
   "cell_type": "code",
   "execution_count": null,
   "metadata": {},
   "outputs": [],
   "source": [
    "print( tab['count'].mean() )\n",
    "print( tab[tab['agno']< 2016]['count'].mean() )"
   ]
  },
  {
   "cell_type": "code",
   "execution_count": null,
   "metadata": {},
   "outputs": [],
   "source": [
    "qry = \"\"\"set role {}; \n",
    "        select idfiscalizacion, count( * )\n",
    "        from cleaned.inspected_matters\n",
    "        group by idfiscalizacion;\"\"\".format(role)\n",
    "tab = plsql.query(qry, engine)\n",
    "print( tab['count'].describe() )"
   ]
  },
  {
   "cell_type": "code",
   "execution_count": null,
   "metadata": {},
   "outputs": [],
   "source": [
    "qry = \"\"\"set role {}; \n",
    "        select idfiscalizacion, count( * )\n",
    "        from cleaned.infracted_matters_detailed\n",
    "        group by idfiscalizacion;\"\"\".format(role)\n",
    "tab = plsql.query(qry, engine)\n",
    "print( tab['count'].describe() )"
   ]
  },
  {
   "cell_type": "code",
   "execution_count": null,
   "metadata": {},
   "outputs": [],
   "source": [
    "qry = \"\"\"set role {}; \n",
    "        select idfiscalizacion, count( * )\n",
    "        from cleaned.infracted_matters_updatedbook\n",
    "        group by idfiscalizacion;\"\"\".format(role)\n",
    "tab = plsql.query(qry, engine)\n",
    "print( tab['count'].describe() )"
   ]
  },
  {
   "cell_type": "code",
   "execution_count": null,
   "metadata": {},
   "outputs": [],
   "source": [
    "qry = \"\"\"set role {}; \n",
    "        select avg(num_materias)\n",
    "        from cleaned.inspections_complete;\"\"\".format(role)\n",
    "plsql.query(qry, engine)"
   ]
  },
  {
   "cell_type": "code",
   "execution_count": null,
   "metadata": {},
   "outputs": [],
   "source": [
    "qry = \"\"\"set role {}; \n",
    "        select avg(infra)\n",
    "        from cleaned.inspections_complete;\"\"\".format(role)\n",
    "plsql.query(qry, engine)"
   ]
  },
  {
   "cell_type": "code",
   "execution_count": null,
   "metadata": {},
   "outputs": [],
   "source": [
    "qry = \"\"\"set role {}; \n",
    "        select avg(infra/num_materias)\n",
    "        from cleaned.inspections_complete;\"\"\".format(role)\n",
    "plsql.query(qry, engine)"
   ]
  },
  {
   "cell_type": "code",
   "execution_count": null,
   "metadata": {},
   "outputs": [],
   "source": [
    "qry = \"\"\"set role {}; \n",
    "        select *\n",
    "        from raw.taxes\n",
    "        limit 4;\"\"\".format(role)\n",
    "plsql.query(qry, engine)"
   ]
  },
  {
   "cell_type": "code",
   "execution_count": null,
   "metadata": {},
   "outputs": [],
   "source": [
    "qry = \"\"\"set role {}; \n",
    "        select agno, count( distinct rutempresamask ) as num_facility\n",
    "        from cleaned.inspections_complete\n",
    "        group by agno;\"\"\".format(role)\n",
    "tab_insp = plsql.query(qry, engine)"
   ]
  },
  {
   "cell_type": "code",
   "execution_count": null,
   "metadata": {},
   "outputs": [],
   "source": [
    "tab_insp"
   ]
  },
  {
   "cell_type": "code",
   "execution_count": null,
   "metadata": {},
   "outputs": [],
   "source": []
  },
  {
   "cell_type": "code",
   "execution_count": null,
   "metadata": {},
   "outputs": [],
   "source": [
    "qry = \"\"\"set role {}; \n",
    "        select agno, count( distinct rutmask ) as num_companies\n",
    "        from raw.taxes\n",
    "        group by agno;\"\"\".format(role)\n",
    "tab_tax = plsql.query(qry, engine)"
   ]
  },
  {
   "cell_type": "code",
   "execution_count": null,
   "metadata": {},
   "outputs": [],
   "source": [
    "tab_tax['num_companies'].describe()"
   ]
  },
  {
   "cell_type": "code",
   "execution_count": null,
   "metadata": {},
   "outputs": [],
   "source": [
    "tab = tab_insp.merge(tab_tax, left_on='agno', right_on='agno')\n",
    "tab[tab['agno'] < 2016]['prop'].mean()"
   ]
  },
  {
   "cell_type": "code",
   "execution_count": null,
   "metadata": {},
   "outputs": [],
   "source": []
  },
  {
   "cell_type": "markdown",
   "metadata": {},
   "source": [
    "### Number of infractions/inspections"
   ]
  },
  {
   "cell_type": "code",
   "execution_count": null,
   "metadata": {},
   "outputs": [],
   "source": [
    "qry = \"\"\"set role direccion_trabajo_inspections_write;\n",
    "    select agno, sum( case when infra = 0 then 1 else 0 end) as num_infra_zero,\n",
    "    count (*) as num_insp, \n",
    "    sum(case when infra > 0 then 1 else 0 end) as num_infra_pos\n",
    "    from cleaned.inspections_complete\n",
    "    group by agno;\"\"\"\n",
    "tab = plsql.query(qry, engine)\n",
    "tab"
   ]
  },
  {
   "cell_type": "code",
   "execution_count": null,
   "metadata": {},
   "outputs": [],
   "source": [
    "print( round(100*(tab['num_infra_zero']/tab['num_insp']).mean() ))\n",
    "print( (tab['num_infra_pos']/tab['num_insp']).mean() )"
   ]
  },
  {
   "cell_type": "code",
   "execution_count": null,
   "metadata": {},
   "outputs": [],
   "source": []
  },
  {
   "cell_type": "code",
   "execution_count": null,
   "metadata": {},
   "outputs": [],
   "source": [
    "qry = \"\"\"set role direccion_trabajo_inspections_write;\n",
    "    select agno, count (*) as num_insp_zero\n",
    "    from cleaned.inspections_complete\n",
    "    where infra = 0\n",
    "    group by agno;\"\"\"\n",
    "tab_zero = plsql.query(qry, engine)\n",
    "tab_zero"
   ]
  },
  {
   "cell_type": "code",
   "execution_count": null,
   "metadata": {},
   "outputs": [],
   "source": [
    "qry = \"\"\"set role direccion_trabajo_inspections_write;\n",
    "    select agno, sum(infra) as num_infra, count (*) as num_insp\n",
    "    from cleaned.inspections_complete\n",
    "    where infra > 0\n",
    "    group by agno\n",
    "    order by num_infra desc;\"\"\"\n",
    "tab = plsql.query(qry, engine)\n",
    "tab"
   ]
  },
  {
   "cell_type": "code",
   "execution_count": null,
   "metadata": {},
   "outputs": [],
   "source": [
    "tab['ratio'] = tab['num_infra']/tab['num_insp']\n",
    "tab['ratio_lab'] = round(tab['num_infra']/tab['num_insp'], 1)\n",
    "tab"
   ]
  },
  {
   "cell_type": "code",
   "execution_count": null,
   "metadata": {},
   "outputs": [],
   "source": [
    "tab.ratio.mean()"
   ]
  },
  {
   "cell_type": "code",
   "execution_count": null,
   "metadata": {},
   "outputs": [],
   "source": [
    "(ggplot(tab, aes(x = 'agno')) + \n",
    " geom_linerange(aes(ymin = 1, ymax = 'ratio'), size = 4) + \n",
    " geom_hline(yintercept = 1, color = \"#e91d63\", size = 1) + \n",
    " ylab('infractions / inspections') + \n",
    " xlab('year') + \n",
    " theme(axis_text_x = element_text(rotation = 90, vjust = 1, hjust = 1),\n",
    "       figure_size = (4, 3)))"
   ]
  },
  {
   "cell_type": "code",
   "execution_count": null,
   "metadata": {},
   "outputs": [],
   "source": [
    "qry = \"\"\"set role direccion_trabajo_inspections_write;\n",
    "    select region, count(*)\n",
    "    from cleaned.inspections_complete\n",
    "    group by region;\"\"\"\n",
    "tab = plsql.query(qry, engine)"
   ]
  },
  {
   "cell_type": "code",
   "execution_count": null,
   "metadata": {},
   "outputs": [],
   "source": [
    "tab['region'] = tab['region'].astype('int')\n",
    "tab['santiago'] = tab['region'] == 13\n",
    "tab"
   ]
  },
  {
   "cell_type": "code",
   "execution_count": null,
   "metadata": {},
   "outputs": [],
   "source": [
    "(ggplot(tab, aes(x = 'region')) + \n",
    " geom_linerange(aes(ymin = 1, \n",
    "                    ymax = 'count', \n",
    "                    color = 'santiago'), size = 4) + \n",
    " ylab('inspections') + \n",
    " xlab('region') + \n",
    " scale_color_manual(values = (\"gray\", \"#e91d63\"),\n",
    "                   guide = False) +\n",
    " scale_x_continuous(breaks = range(0, 17)) + \n",
    " theme(figure_size = (4, 3)))"
   ]
  },
  {
   "cell_type": "code",
   "execution_count": null,
   "metadata": {},
   "outputs": [],
   "source": []
  },
  {
   "cell_type": "code",
   "execution_count": null,
   "metadata": {},
   "outputs": [],
   "source": [
    "qry = \"\"\"set role direccion_trabajo_inspections_write;\n",
    "    select date(agno || '-' || mesreg || '-01') as date,\n",
    "    count(*) as inspections, \n",
    "    sum(infra)  as infractions,\n",
    "    sum(num_mateias) as matters,\n",
    "    sum(case when solicitante = 'Por Programa' then 1 else 0 end) as proactive,\n",
    "    sum(case when solicitante = 'Por Programa' then 0 else 1 end) as reactive\n",
    "    from raw.inspections_complete\n",
    "    group by date;\"\"\""
   ]
  },
  {
   "cell_type": "code",
   "execution_count": null,
   "metadata": {},
   "outputs": [],
   "source": [
    "tab = plsql.query(qry, engine)"
   ]
  },
  {
   "cell_type": "code",
   "execution_count": null,
   "metadata": {},
   "outputs": [],
   "source": [
    "tab.dtypes"
   ]
  },
  {
   "cell_type": "code",
   "execution_count": null,
   "metadata": {},
   "outputs": [],
   "source": [
    "tab['date'] = pd.to_datetime(tab.date)\n",
    "tab.head()"
   ]
  },
  {
   "cell_type": "code",
   "execution_count": null,
   "metadata": {},
   "outputs": [],
   "source": [
    "tab['october'] = tab['date'] == '2014-10-01'"
   ]
  },
  {
   "cell_type": "code",
   "execution_count": null,
   "metadata": {},
   "outputs": [],
   "source": [
    "(ggplot(tab, aes(x = 'date', y = 'inspections', fill = 'october')) + \n",
    "    geom_bar(stat = 'identity') + \n",
    "    scale_x_datetime(\n",
    "         breaks=date_breaks('1 months'),\n",
    "         labels=custom_date_format2) +\n",
    "    scale_fill_manual(values = (\"gray\", \"#e91d63\"),\n",
    "                   guide = False) +\n",
    "    xlab(\"month year\") +\n",
    "    theme(axis_text_x = element_text(angle = 90, size= 6),\n",
    "         figure_size = (11, 3)))"
   ]
  },
  {
   "cell_type": "code",
   "execution_count": null,
   "metadata": {},
   "outputs": [],
   "source": [
    "(ggplot(tab, aes(x = 'date', y = 'proactive')) + \n",
    "    geom_bar(stat = 'identity') + \n",
    "    scale_x_datetime(\n",
    "         breaks=date_breaks('1 months'),\n",
    "         labels=custom_date_format2) +\n",
    "    xlab(\"month year\") +\n",
    "    theme(axis_text_x = element_text(angle = 90, size= 6),\n",
    "         figure_size = (11, 3)))"
   ]
  },
  {
   "cell_type": "code",
   "execution_count": null,
   "metadata": {},
   "outputs": [],
   "source": [
    "tab.proactive.mean()"
   ]
  },
  {
   "cell_type": "code",
   "execution_count": null,
   "metadata": {},
   "outputs": [],
   "source": [
    "import datetime"
   ]
  },
  {
   "cell_type": "code",
   "execution_count": null,
   "metadata": {},
   "outputs": [],
   "source": [
    "tab['year'] = [x.year for x in tab['date']]\n",
    "tab['month'] = [x.month for x in tab['date']]\n",
    "tab.head()"
   ]
  },
  {
   "cell_type": "code",
   "execution_count": null,
   "metadata": {},
   "outputs": [],
   "source": []
  },
  {
   "cell_type": "code",
   "execution_count": null,
   "metadata": {},
   "outputs": [],
   "source": [
    "def my_agg(x):\n",
    "    names = {\n",
    "        'mean proactive': x['proactive'].mean(),\n",
    "        'mean reactive': x['reactive'].mean(),\n",
    "        'mean inspections': x['inspections'].mean()}\n",
    "    return pd.Series(names, index=['mean proactive', \n",
    "                                   'mean reactive', \n",
    "                                   'mean inspections'])"
   ]
  },
  {
   "cell_type": "code",
   "execution_count": null,
   "metadata": {},
   "outputs": [],
   "source": [
    "tab.groupby('year').apply(my_agg).reset_index().sort_values('mean proactive')"
   ]
  },
  {
   "cell_type": "code",
   "execution_count": null,
   "metadata": {},
   "outputs": [],
   "source": [
    "tt = tab.groupby('month').apply(my_agg).reset_index()\n",
    "(ggplot(tt, aes(x = 'month', y = 'mean proactive')) + \n",
    "        geom_bar(stat = 'identity') + \n",
    "        scale_x_continuous(breaks = range(1, 13)))"
   ]
  },
  {
   "cell_type": "code",
   "execution_count": null,
   "metadata": {},
   "outputs": [],
   "source": [
    "(ggplot(tab, aes(x = 'month', y = 'proactive', fill = 'year')) + \n",
    "        geom_bar(stat = 'identity') + \n",
    "        scale_x_continuous(breaks = range(1, 13)))"
   ]
  },
  {
   "cell_type": "code",
   "execution_count": null,
   "metadata": {},
   "outputs": [],
   "source": [
    "tt"
   ]
  },
  {
   "cell_type": "code",
   "execution_count": null,
   "metadata": {},
   "outputs": [],
   "source": []
  }
 ],
 "metadata": {
  "kernelspec": {
   "display_name": "Python 3",
   "language": "python",
   "name": "python3"
  },
  "language_info": {
   "codemirror_mode": {
    "name": "ipython",
    "version": 3
   },
   "file_extension": ".py",
   "mimetype": "text/x-python",
   "name": "python",
   "nbconvert_exporter": "python",
   "pygments_lexer": "ipython3",
   "version": "3.6.5"
  }
 },
 "nbformat": 4,
 "nbformat_minor": 2
}
