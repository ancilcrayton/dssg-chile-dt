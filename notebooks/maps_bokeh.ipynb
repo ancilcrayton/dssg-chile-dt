{
 "cells": [
  {
   "cell_type": "code",
   "execution_count": null,
   "metadata": {},
   "outputs": [],
   "source": [
    "import psycopg2\n",
    "import numpy as np\n",
    "import pandas as pd\n",
    "from sqlalchemy import create_engine\n",
    "import yaml\n",
    "import matplotlib.pyplot as plt\n",
    "from plotnine import *\n",
    "\n",
    "file = open(\"../pop.yaml\", 'r')\n",
    "config = yaml.load(file)\n",
    "\n",
    "engine_path = 'postgresql://{}:{}@{}/{}'\n",
    "engine = create_engine(engine_path.format(config['db']['username'], config['db']['password'], config['db']['host'],\n",
    "                                          config['db']['database']))"
   ]
  },
  {
   "cell_type": "code",
   "execution_count": null,
   "metadata": {},
   "outputs": [],
   "source": [
    "#importing required packages -- bokeh, geopandas, shapely, fiona\n",
    "import requests\n",
    "import zipfile\n",
    "import io \n",
    "\n",
    "\n",
    "!pip install fiona\n",
    "import fiona\n",
    "\n",
    "import geopandas as gp\n",
    "\n",
    "!pip install shapely \n",
    "from shapely.geometry.polygon import Polygon\n",
    "from shapely.geometry.multipolygon import MultiPolygon\n",
    "\n",
    "!pip install pysal\n",
    "import pysal as ps\n",
    "\n",
    "import matplotlib.pyplot as plt\n",
    "\n",
    "from bokeh.io import show, output_file, output_notebook, export_png\n",
    "from bokeh.models import ColumnDataSource, HoverTool, PanTool, WheelZoomTool, LinearColorMapper, BasicTicker, ColorBar, LogColorMapper\n",
    "from bokeh.palettes import brewer \n",
    "from bokeh.plotting import figure, save\n",
    "from bokeh.resources import CDN\n",
    "from bokeh.transform import transform\n",
    "output_notebook()"
   ]
  },
  {
   "cell_type": "code",
   "execution_count": null,
   "metadata": {},
   "outputs": [],
   "source": [
    "#Region wise chile map\n",
    "url = 'https://www.bcn.cl/siit/obtienearchivo?id=repositorio/10221/10398/1/division_regional.zip'\n",
    "request_file = requests.get(url)\n",
    "file_zip = zipfile.ZipFile(io.BytesIO(request_file.content))\n",
    "file_zip.extractall()"
   ]
  },
  {
   "cell_type": "code",
   "execution_count": null,
   "metadata": {},
   "outputs": [],
   "source": [
    "#reading the shapefile with geopandas\n",
    "regions = gp.read_file('division_regional.shp')"
   ]
  },
  {
   "cell_type": "code",
   "execution_count": null,
   "metadata": {},
   "outputs": [],
   "source": [
    "p = regions.plot()"
   ]
  },
  {
   "cell_type": "code",
   "execution_count": null,
   "metadata": {},
   "outputs": [],
   "source": [
    "#splitting multipolygons into single polygons for efficient extraction of lat long/ x y co-ords\n",
    "extract_multi = regions.set_index(['NOM_REG'])['geometry'].apply(pd.Series).stack().reset_index()"
   ]
  },
  {
   "cell_type": "code",
   "execution_count": null,
   "metadata": {},
   "outputs": [],
   "source": [
    "#fucntion for extraction of x,y co-ords\n",
    "def getPolyCoords(row, geom, coord_type):\n",
    "    \"\"\"Returns the coordinates ('x' or 'y') of edges of a Polygon exterior\"\"\"\n",
    "\n",
    "    # Parse the exterior of the coordinate\n",
    "    exterior = row[geom].exterior\n",
    "\n",
    "    if coord_type == 'x':\n",
    "        # Get the x coordinates of the exterior\n",
    "        return list( exterior.coords.xy[0] )\n",
    "    elif coord_type == 'y':\n",
    "        # Get the y coordinates of the exterior\n",
    "        return list( exterior.coords.xy[1] )"
   ]
  },
  {
   "cell_type": "code",
   "execution_count": null,
   "metadata": {},
   "outputs": [],
   "source": [
    "extract_multi['x'] = extract_multi.apply(getPolyCoords, geom=0, coord_type='x', axis=1)\n",
    "extract_multi['y'] = extract_multi.apply(getPolyCoords, geom=0, coord_type='y', axis=1)"
   ]
  },
  {
   "cell_type": "code",
   "execution_count": null,
   "metadata": {},
   "outputs": [],
   "source": [
    "def region_to_number(var):\n",
    "    if(var == \"Región de Valparaíso\"): \n",
    "        return('5')\n",
    "    elif(var == \"Región del Libertador Bernardo O'Higgins\"): \n",
    "        return('6')\n",
    "    elif(var == \"Región de Los Lagos\"): \n",
    "        return('10')\n",
    "    elif(var == \"Región de Atacama\"): \n",
    "        return('3')\n",
    "    elif(var == \"Región Metropolitana de Santiago\"): \n",
    "        return('13')\n",
    "    elif(var == \"Región de Aysén del Gral.Ibañez del Campo\"): \n",
    "        return('11')\n",
    "    elif(var == \"Región de La Araucanía\"): \n",
    "        return('9')\n",
    "    elif(var == \"Región del Maule\"): \n",
    "        return('7')\n",
    "    elif(var == \"Región de Tarapacá\"): \n",
    "        return('1')\n",
    "    elif(var == \"Región de Los Ríos\"): \n",
    "        return('14')\n",
    "    elif(var == \"Región de Arica y Parinacota\"): \n",
    "        return('15')\n",
    "    elif(var == \"Región de Antofagasta\"): \n",
    "        return('2')\n",
    "    elif(var == \"Región de Coquimbo\"): \n",
    "        return('4')\n",
    "    elif(var == \"Región del Bío-Bío\"): \n",
    "        return('8')\n",
    "    else: #(NOM_REG == \"Región de Magallanes y Antártica Chilena\"): \n",
    "        return('12')"
   ]
  },
  {
   "cell_type": "code",
   "execution_count": null,
   "metadata": {},
   "outputs": [],
   "source": [
    "extract_multi['Region_Code'] = extract_multi.NOM_REG.apply(region_to_number)"
   ]
  },
  {
   "cell_type": "code",
   "execution_count": null,
   "metadata": {},
   "outputs": [],
   "source": [
    "#preparing df to build map on\n",
    "qry = \"\"\"\n",
    "        set role direccion_trabajo_inspections_write;\n",
    "        SELECT count(IDFiscalizacion) as No_Inspections, Region\n",
    "        FROM raw.inspections_complete\n",
    "        group by Region;\n",
    "        \"\"\"\n",
    "\n",
    "inspections_per_region = pd.read_sql_query(qry, engine)\n",
    "\n",
    "inspections_per_region = inspections_per_region.rename(columns={'region': 'Region_Code'})"
   ]
  },
  {
   "cell_type": "code",
   "execution_count": null,
   "metadata": {},
   "outputs": [],
   "source": [
    "#merging on region number\n",
    "extract_multi = extract_multi.merge(inspections_per_region, 'left', on='Region_Code')"
   ]
  },
  {
   "cell_type": "code",
   "execution_count": null,
   "metadata": {},
   "outputs": [],
   "source": [
    "from bokeh.models import NumeralTickFormatter\n",
    "from bokeh.models import PrintfTickFormatter\n"
   ]
  },
  {
   "cell_type": "code",
   "execution_count": null,
   "metadata": {},
   "outputs": [],
   "source": [
    "#make map\n",
    "colors = brewer['RdPu'][9]\n",
    "mapper = LinearColorMapper(palette=colors,low=extract_multi.no_inspections.min(), \n",
    "                           high=extract_multi.no_inspections.max(), nan_color='#EAE8E7')\n",
    "\n",
    "source = ColumnDataSource(data=dict(\n",
    "    x=extract_multi['x'], \n",
    "    y=extract_multi['y'], \n",
    "    inspections=extract_multi['no_inspections'],\n",
    "    reg_name=extract_multi['NOM_REG']\n",
    "))\n",
    "\n",
    "p = figure(\n",
    "    title=\"No. of Inspections by Region in Chile\",\n",
    "    x_axis_location=None, y_axis_location=None,\n",
    "    plot_width=2500, plot_height=900\n",
    ")\n",
    "\n",
    "p.patches('x', 'y', source=source,\n",
    "          fill_color=transform('inspections', mapper),\n",
    "          fill_alpha=0.8, line_color=\"black\", line_width=0.5)\n",
    "\n",
    "color_bar = ColorBar(color_mapper=mapper, ticker=BasicTicker(),\n",
    "                 label_standoff=13, border_line_color=None, location=(0,0),\n",
    "                 major_label_text_font_size='13pt'\n",
    "                 major_label_text_font = 'nunito')\n",
    "\n",
    "p.add_layout(color_bar, 'right')\n",
    "\n",
    "#Add tools\n",
    "hover= HoverTool(tooltips = [\n",
    "   (\"Region Name\",\"@reg_name\"),\n",
    "    (\"No. of Inspections\",\"@inspections\")])\n",
    "\n",
    "p.add_tools(PanTool(), WheelZoomTool(), hover)\n"
   ]
  },
  {
   "cell_type": "code",
   "execution_count": null,
   "metadata": {},
   "outputs": [],
   "source": [
    "#output_file(\"test.html\")\n",
    "#save(p)"
   ]
  },
  {
   "cell_type": "code",
   "execution_count": null,
   "metadata": {},
   "outputs": [],
   "source": [
    "show(p)"
   ]
  },
  {
   "cell_type": "code",
   "execution_count": null,
   "metadata": {},
   "outputs": [],
   "source": [
    "#comuna map\n",
    "url = 'https://www.bcn.cl/siit/obtienearchivo?id=repositorio/10221/10396/1/division_comunal.zip'\n",
    "request_file = requests.get(url)\n",
    "file_zip = zipfile.ZipFile(io.BytesIO(request_file.content))\n",
    "file_zip.extractall()"
   ]
  },
  {
   "cell_type": "code",
   "execution_count": null,
   "metadata": {},
   "outputs": [],
   "source": [
    "comunas = gp.read_file('division_comunal.shp')"
   ]
  },
  {
   "cell_type": "code",
   "execution_count": null,
   "metadata": {},
   "outputs": [],
   "source": [
    "#c = comunas.plot()"
   ]
  },
  {
   "cell_type": "code",
   "execution_count": null,
   "metadata": {},
   "outputs": [],
   "source": [
    "comunas.head(5)"
   ]
  },
  {
   "cell_type": "code",
   "execution_count": null,
   "metadata": {},
   "outputs": [],
   "source": [
    "qry = \"\"\"\n",
    "        set role direccion_trabajo_inspections_write;\n",
    "        SELECT count(IDFiscalizacion) as No_Inspections, empdfcodcomuna\n",
    "        FROM raw.inspections_complete\n",
    "        group by empdfcodcomuna;\n",
    "        \"\"\""
   ]
  },
  {
   "cell_type": "code",
   "execution_count": null,
   "metadata": {},
   "outputs": [],
   "source": [
    "comuna_inspections =pd.read_sql_query(qry, engine)"
   ]
  },
  {
   "cell_type": "code",
   "execution_count": null,
   "metadata": {},
   "outputs": [],
   "source": [
    "comuna_inspections = comuna_inspections.rename(columns={'empdfcodcomuna': 'COD_COMUNA'})"
   ]
  },
  {
   "cell_type": "code",
   "execution_count": null,
   "metadata": {},
   "outputs": [],
   "source": [
    "comuna_inspections[\"COD_COMUNA\"] = comuna_inspections.COD_COMUNA.astype(float)"
   ]
  },
  {
   "cell_type": "code",
   "execution_count": null,
   "metadata": {},
   "outputs": [],
   "source": [
    "comuna_mp = comuna.set_index(['COD_COMUNA'])['geometry'].apply(pd.Series).stack().reset_index()"
   ]
  },
  {
   "cell_type": "code",
   "execution_count": null,
   "metadata": {},
   "outputs": [],
   "source": [
    "comuna_mp[\"COD_COMUNA\"] = comuna_mp.COD_COMUNA.astype(float)"
   ]
  },
  {
   "cell_type": "code",
   "execution_count": null,
   "metadata": {},
   "outputs": [],
   "source": [
    "comunas_mp['x'] = comunas_mp.apply(getPolyCoords, geom=0, coord_type='x', axis=1)\n",
    "comunas_mp['y'] = comunas_mp.apply(getPolyCoords, geom=0, coord_type='y', axis=1)"
   ]
  },
  {
   "cell_type": "code",
   "execution_count": null,
   "metadata": {},
   "outputs": [],
   "source": [
    "comunas_mp = comunas_mp.merge(comuna_inspections, 'left', on='COD_COMUNA')"
   ]
  },
  {
   "cell_type": "code",
   "execution_count": null,
   "metadata": {},
   "outputs": [],
   "source": [
    "#make map\n",
    "colors = brewer['RdPu'][9]\n",
    "mapper = LinearColorMapper(palette=colors,low=extract_multi.no_inspections.min(), \n",
    "                           high=extract_multi.no_inspections.max(), nan_color='#EAE8E7')\n",
    "\n",
    "source = ColumnDataSource(data=dict(\n",
    "    x=extract_multi['x'], \n",
    "    y=extract_multi['y'], \n",
    "    inspections=extract_multi['no_inspections']\n",
    "))\n",
    "\n",
    "c = figure(\n",
    "    title=\"Heatmap for No. of Inspections/ Region in Chile\",\n",
    "    x_axis_location=None, y_axis_location=None,\n",
    "    plot_width=2500, plot_height=900\n",
    ")\n",
    "\n",
    "c.patches('x', 'y', source=source,\n",
    "          fill_color=transform('inspections', mapper),\n",
    "          fill_alpha=0.8, line_color=\"black\", line_width=0.5)\n",
    "\n",
    "color_bar = ColorBar(color_mapper=mapper, ticker=BasicTicker(),\n",
    "                 label_standoff=12, border_line_color=None, location=(0,0),\n",
    "                 major_label_text_font = 'No. of Inspections')\n",
    "\n",
    "c.add_layout(color_bar, 'right')"
   ]
  },
  {
   "cell_type": "code",
   "execution_count": null,
   "metadata": {},
   "outputs": [],
   "source": [
    "show(c)"
   ]
  },
  {
   "cell_type": "code",
   "execution_count": null,
   "metadata": {},
   "outputs": [],
   "source": []
  },
  {
   "cell_type": "code",
   "execution_count": null,
   "metadata": {},
   "outputs": [],
   "source": []
  },
  {
   "cell_type": "code",
   "execution_count": null,
   "metadata": {},
   "outputs": [],
   "source": []
  }
 ],
 "metadata": {
  "kernelspec": {
   "display_name": "Python 3",
   "language": "python",
   "name": "python3"
  },
  "language_info": {
   "codemirror_mode": {
    "name": "ipython",
    "version": 3
   },
   "file_extension": ".py",
   "mimetype": "text/x-python",
   "name": "python",
   "nbconvert_exporter": "python",
   "pygments_lexer": "ipython3",
   "version": "3.6.5"
  }
 },
 "nbformat": 4,
 "nbformat_minor": 2
}
