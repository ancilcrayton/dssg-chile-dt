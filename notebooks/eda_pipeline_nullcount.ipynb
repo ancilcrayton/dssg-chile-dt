{
 "cells": [
  {
   "cell_type": "code",
   "execution_count": null,
   "metadata": {},
   "outputs": [],
   "source": [
    "import psycopg2\n",
    "import numpy as np\n",
    "import pandas as pd\n",
    "from sqlalchemy import create_engine\n",
    "import yaml\n",
    "import matplotlib.pyplot as plt\n",
    "from plotnine import *\n",
    "\n",
    "file = open(\"../config.yaml\", 'r')\n",
    "config = yaml.load(file)\n",
    "\n",
    "engine_path = 'postgresql://{}:{}@{}/{}'\n",
    "engine = create_engine(engine_path.format(config['db']['username'], config['db']['password'], config['db']['host'],\n",
    "                                          config['db']['database']))"
   ]
  },
  {
   "cell_type": "code",
   "execution_count": null,
   "metadata": {},
   "outputs": [],
   "source": [
    "qry = 'set role direccion_trabajo_inspections_write;select * from raw.inspections_sample limit 3;'"
   ]
  },
  {
   "cell_type": "code",
   "execution_count": null,
   "metadata": {},
   "outputs": [],
   "source": [
    "inspections = pd.read_sql_query(qry, engine)"
   ]
  },
  {
   "cell_type": "code",
   "execution_count": null,
   "metadata": {},
   "outputs": [],
   "source": [
    "def count_nulls_different_na_value(engine, role, schema, table, column, value):\n",
    "\n",
    "    qry = \"\"\"set role {};\n",
    "        select sum(case when {} {} then 1 else 0 end) from {}.{};\n",
    "        \"\"\"\n",
    "    na = value\n",
    "    #print(na) \n",
    "    na_qry = '= ' + na\n",
    "    \n",
    "    result = pd.read_sql_query(qry.format(role, column, na_qry, \n",
    "        schema, table), engine)\n",
    "\n",
    "    print(\"\\nNumber of rows where {} {} in {}.{}:\".format(column, na_qry, schema, table))\n",
    "    print(na)\n",
    "    print(result)\n",
    "    return result"
   ]
  },
  {
   "cell_type": "code",
   "execution_count": null,
   "metadata": {},
   "outputs": [],
   "source": [
    "count_nulls(engine, 'direccion_trabajo_inspections_write', 'raw', 'inspections_complete', 'urgencia', value)"
   ]
  },
  {
   "cell_type": "code",
   "execution_count": null,
   "metadata": {},
   "outputs": [],
   "source": [
    "count_nulls(engine,'direccion_trabajo_inspections_write', 'raw', 'inspections_complete', 'grupocodtipomaterias', 'false')"
   ]
  },
  {
   "cell_type": "code",
   "execution_count": null,
   "metadata": {},
   "outputs": [],
   "source": [
    "def get_nulls_all_columns(engine, role, schema, table, na = '__null__', ind = 'enter_na'):\n",
    "    \n",
    "    # Query counts nulls when na value in the column is null\n",
    "    def count_nulls_na(engine, role, schema, table, column, na):\n",
    "\n",
    "        qry = \"\"\"set role {};\n",
    "        select sum(case when {} {} then 1 else 0 end) from {}.{};\n",
    "        \"\"\"\n",
    "        # Create NA condition for query\n",
    "        if na == '__null__':\n",
    "            na_qry = 'is null'\n",
    "        \n",
    "        result = plsql.query(qry.format(role, column, na_qry, \n",
    "        schema, table), engine)\n",
    "\n",
    "        print(\"\\nNumber of rows where {} {} in {}.{}:\".format(column, na_qry, schema, table))\n",
    "        #print(na)\n",
    "        print(result)\n",
    "        return result\n",
    "\n",
    "    # Query counts nulls when na value in the column is different from null\n",
    "    def count_nulls_different_na_value(engine, role, schema, table, column, value):\n",
    "\n",
    "        qry = \"\"\"set role {};\n",
    "        select sum(case when {} {} then 1 else 0 end) from {}.{};\n",
    "        \"\"\"\n",
    "        na = value\n",
    "        #print(na) \n",
    "        na_qry = '= ' + na\n",
    "    \n",
    "        result = plsql.query(qry.format(role, column, na_qry, \n",
    "        schema, table), engine)\n",
    "\n",
    "        print(\"\\nNumber of rows where {} {} in {}.{}:\".format(column, na_qry, schema, table))\n",
    "        #print(na)\n",
    "        print(result)\n",
    "        return result\n",
    "    \n",
    "    # Query returns a list of column names of the dataframe\n",
    "    qry = \"\"\"\n",
    "    set role {};\n",
    "    select column_name \n",
    "    from information_schema.columns \n",
    "    where table_name = '{}';\n",
    "    \"\"\"\n",
    "    result = plsql.query(qry.format(role, table), engine)\n",
    "    \n",
    "    if na == '__null__':\n",
    "        for i, row in result.iterrows():\n",
    "            count_nulls_1(engine, role, schema, table, row.column_name, na)\n",
    "    \n",
    "    else:\n",
    "        if ind == 'enter_na':\n",
    "            value = input('Please enter the value of NA/null that you want to compute: ')\n",
    "            for i, row in result.iterrows():\n",
    "                try:\n",
    "                    count_nulls(engine, role, schema, table, row.column_name, value)\n",
    "                except:\n",
    "                    pass\n",
    "                \n",
    "            "
   ]
  },
  {
   "cell_type": "code",
   "execution_count": null,
   "metadata": {},
   "outputs": [],
   "source": [
    "get_nulls_columns(engine, 'direccion_trabajo_inspections_write', 'raw', 'inspections_complete')"
   ]
  },
  {
   "cell_type": "code",
   "execution_count": null,
   "metadata": {},
   "outputs": [],
   "source": [
    "inspections.dtypes"
   ]
  },
  {
   "cell_type": "code",
   "execution_count": null,
   "metadata": {},
   "outputs": [],
   "source": [
    "def count_nulls_na(engine, role, schema, table, column, na):\n",
    "\n",
    "    qry = \"\"\"set role {};\n",
    "        select sum(case when {} {} then 1 else 0 end) from {}.{};\n",
    "        \"\"\"\n",
    "    # Create NA condition for query\n",
    "    if na == '__null__':\n",
    "        na_qry = 'is null'\n",
    "        \n",
    "    result = pd.read_sql_query(qry.format(role, column, na_qry, \n",
    "        schema, table), engine)\n",
    "\n",
    "    print(\"\\nNumber of rows where {} {} in {}.{}:\".format(column, na_qry, schema, table))\n",
    "    print(na)\n",
    "    print(result)\n",
    "    return result"
   ]
  },
  {
   "cell_type": "code",
   "execution_count": null,
   "metadata": {},
   "outputs": [],
   "source": [
    "def count_nulls_check(engine, role, schema, table, column, \n",
    "        na = '__null__', ind = 'false'):\n",
    "\n",
    "    qry = \"\"\"set role {};\n",
    "        select sum(case when {} {} then 1 else 0 end) from {}.{};\n",
    "        \"\"\"\n",
    "\n",
    "    # Create NA condition for query\n",
    "    if na == '__null__':\n",
    "        na_qry = 'is null'\n",
    "    else:\n",
    "        if ind == 'false':\n",
    "            na = \"'{}'\".format(na)\n",
    "        na_qry = '= ' + na\n",
    "\n",
    "    result = pd.read_sql_query(qry.format(role, column, na_qry, \n",
    "        schema, table), engine)\n",
    "    print(\"\\nNumber of rows where {} {} in {}.{}:\".format(column, na_qry, \n",
    "        schema, table))\n",
    "    print(result)\n",
    "    return result\n"
   ]
  },
  {
   "cell_type": "code",
   "execution_count": null,
   "metadata": {},
   "outputs": [],
   "source": [
    "count_nulls_check(engine, 'direccion_trabajo_inspections_write', 'raw', 'taxes', 'ntrabajadores')"
   ]
  },
  {
   "cell_type": "code",
   "execution_count": null,
   "metadata": {},
   "outputs": [],
   "source": [
    "def get_nulls_all_columns(engine, role, schema, table, na = '__null__', ind = 'enter_na'):\n",
    "    \n",
    "    # Query counts nulls when na value in the column is null\n",
    "    def count_nulls_na(engine, role, schema, table, column, na):\n",
    "\n",
    "        qry = \"\"\"set role {};\n",
    "        select sum(case when {} {} then 1 else 0 end) from {}.{};\n",
    "        \"\"\"\n",
    "        # Create NA condition for query\n",
    "        if na == '__null__':\n",
    "            na_qry = 'is null'\n",
    "        \n",
    "        result = plsql.query(qry.format(role, column, na_qry, \n",
    "        schema, table), engine)\n",
    "\n",
    "        print(\"\\nNumber of rows where {} {} in {}.{}:\".format(column, na_qry, schema, table))\n",
    "        #print(na)\n",
    "        print(result)\n",
    "        return result\n",
    "\n",
    "    # Query counts nulls when na value in the column is different from null\n",
    "    def count_nulls_different_na_value(engine, role, schema, table, column, value):\n",
    "\n",
    "        qry = \"\"\"set role {};\n",
    "        select sum(case when {} {} then 1 else 0 end) from {}.{};\n",
    "        \"\"\"\n",
    "        na = value\n",
    "        #print(na) \n",
    "        na_qry = '= ' + na\n",
    "    \n",
    "        result = plsql.query(qry.format(role, column, na_qry, \n",
    "        schema, table), engine)\n",
    "\n",
    "        print(\"\\nNumber of rows where {} {} in {}.{}:\".format(column, na_qry, schema, table))\n",
    "        #print(na)\n",
    "        print(result)\n",
    "        return result\n",
    "    \n",
    "    # Query returns a list of column names of the dataframe\n",
    "    qry = \"\"\"\n",
    "    set role {};\n",
    "    select column_name \n",
    "    from information_schema.columns \n",
    "    where table_name = '{}';\n",
    "    \"\"\"\n",
    "    result = pd.read_sql_query(qry.format(role, table), engine)\n",
    "    \n",
    "    if na == '__null__':\n",
    "        for i, row in result.iterrows():\n",
    "            count_nulls_1(engine, role, schema, table, row.column_name, na)\n",
    "    \n",
    "    else:\n",
    "        if ind == 'enter_na':\n",
    "            value = input('Please enter the value of NA/null that you want to compute: ')\n",
    "            for i, row in result.iterrows():\n",
    "                try:\n",
    "                    count_nulls(engine, role, schema, table, row.column_name, value)\n",
    "                except:\n",
    "                    pass\n",
    "                \n",
    "            "
   ]
  },
  {
   "cell_type": "code",
   "execution_count": null,
   "metadata": {},
   "outputs": [],
   "source": []
  },
  {
   "cell_type": "code",
   "execution_count": null,
   "metadata": {},
   "outputs": [],
   "source": []
  },
  {
   "cell_type": "code",
   "execution_count": null,
   "metadata": {},
   "outputs": [],
   "source": []
  },
  {
   "cell_type": "code",
   "execution_count": null,
   "metadata": {},
   "outputs": [],
   "source": []
  },
  {
   "cell_type": "code",
   "execution_count": null,
   "metadata": {},
   "outputs": [],
   "source": []
  },
  {
   "cell_type": "code",
   "execution_count": null,
   "metadata": {},
   "outputs": [],
   "source": []
  },
  {
   "cell_type": "code",
   "execution_count": null,
   "metadata": {},
   "outputs": [],
   "source": []
  },
  {
   "cell_type": "code",
   "execution_count": null,
   "metadata": {},
   "outputs": [],
   "source": []
  },
  {
   "cell_type": "code",
   "execution_count": null,
   "metadata": {},
   "outputs": [],
   "source": []
  }
 ],
 "metadata": {
  "kernelspec": {
   "display_name": "Python 3",
   "language": "python",
   "name": "python3"
  },
  "language_info": {
   "codemirror_mode": {
    "name": "ipython",
    "version": 3
   },
   "file_extension": ".py",
   "mimetype": "text/x-python",
   "name": "python",
   "nbconvert_exporter": "python",
   "pygments_lexer": "ipython3",
   "version": "3.6.5"
  }
 },
 "nbformat": 4,
 "nbformat_minor": 2
}
