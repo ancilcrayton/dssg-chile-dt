{
 "cells": [
  {
   "cell_type": "code",
   "execution_count": null,
   "metadata": {},
   "outputs": [],
   "source": [
    "import sys\n",
    "sys.path.append('../')\n",
    "\n",
    "import pipeline.sql as plsql\n",
    "import pipeline.eda as pleda\n",
    "\n",
    "from plotnine import *\n",
    "import pandas as pd\n",
    "\n",
    "theme_set(theme_bw())"
   ]
  },
  {
   "cell_type": "code",
   "execution_count": null,
   "metadata": {},
   "outputs": [],
   "source": [
    "engine = plsql.create_engine('../config.yaml')\n",
    "role = 'direccion_trabajo_inspections_write'"
   ]
  },
  {
   "cell_type": "code",
   "execution_count": null,
   "metadata": {},
   "outputs": [],
   "source": []
  },
  {
   "cell_type": "markdown",
   "metadata": {},
   "source": [
    "## Infractions by inspection"
   ]
  },
  {
   "cell_type": "code",
   "execution_count": null,
   "metadata": {},
   "outputs": [],
   "source": [
    "qry = \"\"\"set role direccion_trabajo_inspections_write;\n",
    "    select agno, count(*) as count, sum( infra > 0) as inspections\n",
    "    from cleaned.inspections_se\n",
    "    group by agno\n",
    "    where infra >= 0\n",
    "    order by inspections desc;\"\"\""
   ]
  },
  {
   "cell_type": "code",
   "execution_count": null,
   "metadata": {},
   "outputs": [],
   "source": [
    "qry = \"\"\"set role direccion_trabajo_inspections_write;\n",
    "    select agno, count(*) as inspections,\n",
    "        sum( cast(infra > 0 as int)  ) as infractions\n",
    "    from raw.inspections_complete\n",
    "    group by agno;\"\"\""
   ]
  },
  {
   "cell_type": "code",
   "execution_count": null,
   "metadata": {},
   "outputs": [],
   "source": [
    "tab = plsql.query(qry, engine)\n",
    "tab['prop'] = tab['infractions']/tab['inspections']\n",
    "tab['prop_rnd'] = 100*round(tab['prop'], 2)\n",
    "tab['prop_rnd'] = tab['prop_rnd'].astype('int')\n",
    "tab['prop_rnd'] = tab['prop_rnd'].map(str) + \"%\"\n",
    "\n",
    "tab"
   ]
  },
  {
   "cell_type": "code",
   "execution_count": null,
   "metadata": {},
   "outputs": [],
   "source": [
    "(ggplot(tab, aes('agno', 'prop')) + \n",
    "       geom_bar(stat = 'identity', alpha = .5) + \n",
    "         geom_text(aes(y = 'prop + .04', \n",
    "                      label = 'prop_rnd'),\n",
    "                  size = 10)+\n",
    "         scale_x_continuous(breaks = range(2005, 2017)) +\n",
    "         ylab('Violations/Inpsections') + \n",
    "         xlab('Year') +\n",
    "        theme(figure_size = (6, 3.5)))"
   ]
  },
  {
   "cell_type": "code",
   "execution_count": null,
   "metadata": {},
   "outputs": [],
   "source": [
    "qry = \"\"\"set role direccion_trabajo_inspections_write;\n",
    "    select count(*) as inspections,\n",
    "        sum( cast(infra > 0 as int)  ) as infractions\n",
    "    from raw.inspections_complete;\"\"\""
   ]
  },
  {
   "cell_type": "code",
   "execution_count": null,
   "metadata": {},
   "outputs": [],
   "source": [
    "tab = plsql.query(qry, engine)\n",
    "tab['prop'] = tab['infractions']/tab['inspections']\n",
    "tab"
   ]
  },
  {
   "cell_type": "markdown",
   "metadata": {},
   "source": [
    "## Funciones Precision and Recall"
   ]
  },
  {
   "cell_type": "code",
   "execution_count": null,
   "metadata": {},
   "outputs": [],
   "source": [
    "def avg_fun(x):\n",
    "    names = {'average': x['value'].mean()}\n",
    "    return pd.Series(names, index=['average'])"
   ]
  },
  {
   "cell_type": "code",
   "execution_count": null,
   "metadata": {},
   "outputs": [],
   "source": [
    "def gg_tab_modelid(tab_gg, type_gg, type_model, label_name):\n",
    "    gg1 = (ggplot(tab_gg,\n",
    "                  aes('popul', 'value',\n",
    "                    color = 'model_id',\n",
    "                    group = 'model_id')) + \n",
    "        geom_line(alpha = .9) + \n",
    "        ylab('Precision') + \n",
    "        xlab('Population\\n({})'.format(type_gg)) + \n",
    "        ggtitle(type_model+ '\\n' + label_name) +\n",
    "        theme(figure_size = (5, 3)))\n",
    "    gg2 = (ggplot(tab_gg, \n",
    "                  aes('popul', 'value', \n",
    "                      color = 'last_model',\n",
    "                      group = 'model_id')) + \n",
    "        geom_line() + \n",
    "        scale_color_manual(values = (\"#d8d8d8\", '#e91d63'),\n",
    "                           guide = False)+\n",
    "        ylab('Precision') + \n",
    "        xlab('Population\\n({})'.format(type_gg)) + \n",
    "        ggtitle(type_model+ '\\n' + label_name) +\n",
    "        theme(figure_size = (5, 3)) )\n",
    "    \n",
    "    gg3 = (ggplot(tab_gg[tab_gg['last_model']], \n",
    "                  aes('popul', 'value',\n",
    "                      group = 'model_id')) + \n",
    "        geom_line(color = \"#2c3571\", size = 2) + \n",
    "        ylab('Precision Last ') + \n",
    "        xlab('Population\\n({})'.format(type_gg)) + \n",
    "        ggtitle(type_model+ '\\n' + label_name) +\n",
    "        theme(figure_size = (5, 3)) )\n",
    "    \n",
    "    tab_avg = tab_gg.groupby(['metric', 'popul', 'type']).apply(avg_fun).reset_index()\n",
    "    gg4 = (ggplot(tab_avg, \n",
    "                  aes('popul', 'average',\n",
    "                      group = 'type')) + \n",
    "        geom_line(color = \"#2c3571\", size = 2) + \n",
    "        ylab('Precision Avg') + \n",
    "        xlab('Population\\n({})'.format(type_gg)) + \n",
    "        ggtitle(type_model+ '\\n' + label_name) +\n",
    "        theme(figure_size = (5, 3)) )\n",
    "    \n",
    "    \n",
    "    return gg1, gg2, gg3, gg4"
   ]
  },
  {
   "cell_type": "code",
   "execution_count": null,
   "metadata": {},
   "outputs": [],
   "source": [
    "def describe_model(model_id, label_name):\n",
    "    \n",
    "    qry = \"\"\"set role {}; \n",
    "        select * \n",
    "        from results.models\n",
    "        where model_group_id = {};\"\"\".format(role, model_id)\n",
    "    tab_gpmod = plsql.query(qry, engine)\n",
    "    \n",
    "    print('Model type: ' + str(tab_gpmod.model_type.unique()) )\n",
    "    print('Running time: ' + str(tab_gpmod.run_time.max() - tab_gpmod.run_time.min()) )\n",
    "    print('Models: ' + str(len(tab_gpmod.model_id)))\n",
    "    \n",
    "    \n",
    "    qry = \"\"\"set role {}; \n",
    "        select * \n",
    "        from results.evaluations;\"\"\".format(role)\n",
    "    df = plsql.query(qry, engine)\n",
    "    df = df.merge(tab_gpmod, how='inner', left_on='model_id', right_on='model_id').reset_index(drop = True)\n",
    "    \n",
    "    df['metric'], df['popul'] = zip(*df['metric'].map(lambda x: x.split('|')))\n",
    "    df['popul'], df['type'] = zip(*df['popul'].map(lambda x: x.split('_')))\n",
    "    df.popul = df.popul.astype('float')\n",
    "    \n",
    "    tab_met = df.merge(tab_gpmod, how='left', left_on='model_id', right_on='model_id')\n",
    "    tab_met['last_model'] = (tab_met['model_id'] == tab_met.model_id.max())\n",
    "    \n",
    "    gg1, gg2, gg3, gg7 = gg_tab_modelid(tab_gg = tab_met[(tab_met['type'] == 'abs') & \n",
    "                                               (tab_met['metric'] == 'recall_one')], \n",
    "                              type_gg = 'Absolute', \n",
    "                              type_model = str(tab_gpmod.model_type.unique()),\n",
    "                              label_name = label_name)\n",
    "    gg4, gg5, gg6, gg8 = gg_tab_modelid(tab_gg = tab_met[(tab_met['type'] == 'pct') & \n",
    "                                               (tab_met['metric'] == 'recall_one')], \n",
    "                              type_gg = 'Percentage', \n",
    "                              type_model = str(tab_gpmod.model_type.unique()),\n",
    "                              label_name = label_name)\n",
    "    print(gg4)\n",
    "    print(gg5)\n",
    "    print(gg6)\n",
    "    print(gg8)"
   ]
  },
  {
   "cell_type": "code",
   "execution_count": null,
   "metadata": {},
   "outputs": [],
   "source": [
    "qry = \"\"\"set role {}; \n",
    "        select * from results.model_groups;\n",
    "        \"\"\".format(role)\n",
    "tab_model_group = plsql.query(engine=engine, qry=qry)\n",
    "tab_model_group"
   ]
  },
  {
   "cell_type": "code",
   "execution_count": null,
   "metadata": {},
   "outputs": [],
   "source": [
    "tab_model_group.iloc[2,2]"
   ]
  },
  {
   "cell_type": "code",
   "execution_count": null,
   "metadata": {},
   "outputs": [],
   "source": [
    "describe_model(model_id = '8', label_name = 'P(violation|inspection)')"
   ]
  },
  {
   "cell_type": "code",
   "execution_count": null,
   "metadata": {},
   "outputs": [],
   "source": [
    "describe_model(model_id = '4', label_name = 'P(violation|inspection)')"
   ]
  },
  {
   "cell_type": "code",
   "execution_count": null,
   "metadata": {},
   "outputs": [],
   "source": [
    "describe_model(model_id = '1', label_name = 'P(inspection)')"
   ]
  },
  {
   "cell_type": "code",
   "execution_count": null,
   "metadata": {},
   "outputs": [],
   "source": [
    "describe_model(model_id = '6', label_name = 'P(inspection)')"
   ]
  },
  {
   "cell_type": "code",
   "execution_count": null,
   "metadata": {},
   "outputs": [],
   "source": []
  },
  {
   "cell_type": "code",
   "execution_count": null,
   "metadata": {},
   "outputs": [],
   "source": []
  },
  {
   "cell_type": "code",
   "execution_count": null,
   "metadata": {},
   "outputs": [],
   "source": [
    "df.dtypes"
   ]
  },
  {
   "cell_type": "code",
   "execution_count": null,
   "metadata": {},
   "outputs": [],
   "source": [
    "df.head()"
   ]
  },
  {
   "cell_type": "code",
   "execution_count": null,
   "metadata": {},
   "outputs": [],
   "source": []
  },
  {
   "cell_type": "code",
   "execution_count": null,
   "metadata": {},
   "outputs": [],
   "source": []
  },
  {
   "cell_type": "code",
   "execution_count": null,
   "metadata": {},
   "outputs": [],
   "source": [
    "tab_met[(tab_met['type'] == 'abs') & \n",
    "        (tab_met['metric'] == 'precision')]"
   ]
  },
  {
   "cell_type": "code",
   "execution_count": null,
   "metadata": {},
   "outputs": [],
   "source": []
  },
  {
   "cell_type": "code",
   "execution_count": null,
   "metadata": {},
   "outputs": [],
   "source": [
    "\n"
   ]
  },
  {
   "cell_type": "code",
   "execution_count": null,
   "metadata": {},
   "outputs": [],
   "source": [
    "model_id = '3'\n",
    "qry = \"\"\"set role {}; \n",
    "        select * \n",
    "        from results.models\n",
    "        where model_group_id = {};\"\"\".format(role, model_id)\n",
    "tab_gpmod = plsql.query(qry, engine)\n",
    "\n",
    "qry = \"\"\"set role {}; \n",
    "    select * \n",
    "    from results.evaluations;\"\"\".format(role)\n",
    "df = plsql.query(qry, engine)\n",
    "df = df.merge(tab_gpmod, how='inner', left_on='model_id', right_on='model_id').reset_index(drop = True)\n",
    "\n",
    "df['metric'], df['popul'] = zip(*df['metric'].map(lambda x: x.split('|')))\n",
    "df['popul'], df['type'] = zip(*df['popul'].map(lambda x: x.split('_')))\n",
    "df.popul = df.popul.astype('float')\n",
    "\n",
    "tab_met = df.merge(tab_gpmod, how='left', left_on='model_id', right_on='model_id')\n",
    "tab_met['last_model'] = (tab_met['model_id'] == tab_met.model_id.max())"
   ]
  },
  {
   "cell_type": "code",
   "execution_count": null,
   "metadata": {},
   "outputs": [],
   "source": [
    "tab_met.head()"
   ]
  },
  {
   "cell_type": "code",
   "execution_count": null,
   "metadata": {},
   "outputs": [],
   "source": [
    "tab_avg = tab_met.groupby(['metric', 'popul', 'type']).apply(avg_fun).reset_index()\n",
    "gg4 = (ggplot(tab_avg, \n",
    "              aes('popul', 'average',\n",
    "                  group = '1')) + \n",
    "    geom_line(color = \"#2c3571\", size = 2) + \n",
    "    ylab('Precision Avg'))"
   ]
  },
  {
   "cell_type": "code",
   "execution_count": null,
   "metadata": {},
   "outputs": [],
   "source": [
    "gg4"
   ]
  },
  {
   "cell_type": "code",
   "execution_count": null,
   "metadata": {},
   "outputs": [],
   "source": []
  },
  {
   "cell_type": "code",
   "execution_count": null,
   "metadata": {},
   "outputs": [],
   "source": [
    "import pipeline.metrics as plmet\n",
    "\n",
    "scores = tab.score\n",
    "y_true = tab.label_value"
   ]
  },
  {
   "cell_type": "code",
   "execution_count": null,
   "metadata": {},
   "outputs": [],
   "source": []
  },
  {
   "cell_type": "code",
   "execution_count": null,
   "metadata": {},
   "outputs": [],
   "source": [
    "df = (pd.DataFrame(data = {'scores' : scores,\n",
    "                               'y_true' : y_true}).\n",
    "          sort_values('scores', ascending=False).\n",
    "          reset_index(drop = True))   \n",
    "df.head()"
   ]
  },
  {
   "cell_type": "code",
   "execution_count": null,
   "metadata": {},
   "outputs": [],
   "source": [
    "tab = plmet.precision(scores, y_true, 9000,'threshold_k', 'pessimist')"
   ]
  },
  {
   "cell_type": "code",
   "execution_count": null,
   "metadata": {},
   "outputs": [],
   "source": [
    "tab"
   ]
  },
  {
   "cell_type": "code",
   "execution_count": null,
   "metadata": {},
   "outputs": [],
   "source": [
    "import numpy as np\n",
    "\n",
    "threshold = 4000\n",
    "class_type = \"threshold_k\"\n",
    "\n",
    "\n",
    "# absolute range \n",
    "step = np.floor(threshold/100)\n",
    "\n",
    "# percentage range \n",
    "pct_rng = list(np.arange(.1, 1.1, 0.1))    \n",
    "\n",
    "# dictionary of types of cutoff\n",
    "cuts = { 'pct': pct_rng}\n",
    "\n",
    "# dictionary of metrics\n",
    "all_metrics = dict()\n",
    "\n",
    "\n",
    "for x_type, x_values in cuts.items():\n",
    "    for x_value in x_values:\n",
    "\n",
    "\n",
    "        # cutoff to number\n",
    "        cutoff = plmet.generate_cutoff_at_x(scores, x_value, unit = x_type)\n",
    "        print(cutoff)\n",
    "        \n",
    "        # precision 1's\n",
    "        all_metrics[\"precision_one|{}_{}\".format(str(x_value), x_type)] = plmet.precision(scores, y_true, cutoff, class_type, 'optimist')\n",
    "\n",
    "        # recall 1's\n",
    "        all_metrics[\"recall_one|{}_{}\".format(str(x_value), x_type)] = plmet.recall(scores, y_true, cutoff, class_type, 'optimist')                                                                   \n",
    "\n",
    "        # precision 0's                                                                      \n",
    "        all_metrics[\"precision_zero|{}_{}\".format(str(x_value), x_type)] = plmet.precision(scores, y_true, cutoff, class_type, 'pessimist')\n",
    "\n",
    "        # recall 0's\n",
    "        all_metrics[\"recall_zero|{}_{}\".format(str(x_value), x_type)] = plmet.recall(scores, y_true, cutoff, class_type, 'pessimist')\n",
    "        \n",
    "        all_metrics[\"fallout_one|{}_{}\".format(str(x_value), x_type)] = plmet.fallout(scores, y_true, cutoff, class_type, 'optimist')\n",
    "        \n",
    "        all_metrics[\"fallout_zero|{}_{}\".format(str(x_value), x_type)] = plmet.fallout(scores, y_true, cutoff, class_type, 'pessimist')\n",
    "        "
   ]
  },
  {
   "cell_type": "code",
   "execution_count": null,
   "metadata": {},
   "outputs": [],
   "source": [
    "import pandas as pd\n",
    "df = pd.DataFrame({ \"metric\" : list(all_metrics.keys()),\n",
    "              \"scores\" : list(all_metrics.values())})"
   ]
  },
  {
   "cell_type": "code",
   "execution_count": null,
   "metadata": {},
   "outputs": [],
   "source": [
    "df.head()"
   ]
  },
  {
   "cell_type": "code",
   "execution_count": null,
   "metadata": {},
   "outputs": [],
   "source": [
    "df['metric'], df['popul'] = zip(*df['metric'].map(lambda x: x.split('|')))\n",
    "df['popul'], df['type'] = zip(*df['popul'].map(lambda x: x.split('_')))\n",
    "df.popul = df.popul.astype('float')"
   ]
  },
  {
   "cell_type": "code",
   "execution_count": null,
   "metadata": {},
   "outputs": [],
   "source": [
    "df.head()"
   ]
  },
  {
   "cell_type": "code",
   "execution_count": null,
   "metadata": {},
   "outputs": [],
   "source": [
    "(ggplot(df, aes('popul', 'scores',\n",
    "                group = 'metric', \n",
    "               color = 'metric')) + \n",
    "        geom_line() + \n",
    "        ylab('Precision') + \n",
    "        xlab('Population\\n({})') + \n",
    "        theme(figure_size = (5, 3))) #+ \n",
    "        #facet_wrap('~metric', scales = 'free'))"
   ]
  },
  {
   "cell_type": "code",
   "execution_count": null,
   "metadata": {},
   "outputs": [],
   "source": []
  },
  {
   "cell_type": "code",
   "execution_count": null,
   "metadata": {},
   "outputs": [],
   "source": [
    "qry = \"\"\"set role direccion_trabajo_inspections_write;\n",
    "    select * from results.predictions where \n",
    "    matrix_uuid = 'a19c668d-573f-4a45-3768-eaeba20ab3cb';;\"\"\"\n",
    "tab = plsql.query(qry, engine)\n",
    "tab.head()"
   ]
  },
  {
   "cell_type": "code",
   "execution_count": null,
   "metadata": {},
   "outputs": [],
   "source": [
    "import matplotlib.pyplot as plt\n",
    "import seaborn as sns\n",
    "\n",
    "# matplotlib histogram\n",
    "plt.hist(tab['score'], edgecolor = 'black',\n",
    "         bins = int(180/5))\n",
    "\n",
    "# seaborn histogram\n",
    "sns.distplot(tab['score'], hist=True, kde=False, \n",
    "             bins=int(180/5), \n",
    "             hist_kws={'edgecolor':'black'})\n",
    "# Add labels\n",
    "plt.title('Histogram of Scores')\n",
    "plt.xlabel('Score')\n",
    "plt.ylabel('Frequency')"
   ]
  },
  {
   "cell_type": "code",
   "execution_count": null,
   "metadata": {},
   "outputs": [],
   "source": [
    "(ggplot(tab, aes(x = 'scores') ) + \n",
    "    geom_histogram(bins = 30) + \n",
    "    facet_wrap('~label_value'))"
   ]
  },
  {
   "cell_type": "code",
   "execution_count": null,
   "metadata": {},
   "outputs": [],
   "source": []
  }
 ],
 "metadata": {
  "kernelspec": {
   "display_name": "Python 3",
   "language": "python",
   "name": "python3"
  },
  "language_info": {
   "codemirror_mode": {
    "name": "ipython",
    "version": 3
   },
   "file_extension": ".py",
   "mimetype": "text/x-python",
   "name": "python",
   "nbconvert_exporter": "python",
   "pygments_lexer": "ipython3",
   "version": "3.6.5"
  }
 },
 "nbformat": 4,
 "nbformat_minor": 2
}
