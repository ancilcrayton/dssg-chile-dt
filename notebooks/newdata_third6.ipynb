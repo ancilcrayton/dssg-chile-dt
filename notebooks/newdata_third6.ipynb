{
 "cells": [
  {
   "cell_type": "markdown",
   "metadata": {},
   "source": [
    "## Tablas \n",
    "\n",
    "- dt_fi_tipodocumento\n",
    "- dt_fi_tipomateria\n",
    "- dt_fi_tiponacionalidades\n",
    "- dt_fi_tipoorigenact\n",
    "- dt_fi_tipoterminofiscalizacion\n",
    "- dt_fi_unidadorigen"
   ]
  },
  {
   "cell_type": "code",
   "execution_count": null,
   "metadata": {},
   "outputs": [],
   "source": [
    "import sys\n",
    "sys.path.append('../')\n",
    "\n",
    "import pandas as pd\n",
    "import numpy as np\n",
    "\n",
    "import pipeline.sql as plsql\n",
    "import pipeline.metrics as plmet\n",
    "import pipeline.eda as pleda\n",
    "import functions_eda as funeda"
   ]
  },
  {
   "cell_type": "code",
   "execution_count": null,
   "metadata": {},
   "outputs": [],
   "source": [
    "engine = plsql.create_engine('../config.yaml')\n",
    "role = 'direccion_trabajo_inspections_write'"
   ]
  },
  {
   "cell_type": "code",
   "execution_count": null,
   "metadata": {},
   "outputs": [],
   "source": [
    "def first_row_print(engine, role, schema, table, nrow = 5):\n",
    "    qry = \"\"\"set role {};\n",
    "    select * \n",
    "    from {}.{}\n",
    "    limit {}\"\"\".format(role, schema, table, nrow)\n",
    "    \n",
    "    return plsql.query(qry, engine)"
   ]
  },
  {
   "cell_type": "code",
   "execution_count": null,
   "metadata": {},
   "outputs": [],
   "source": [
    "def tables_extraction(engine, role, table_schema):\n",
    "    qry = \"\"\"set role {};\n",
    "        SELECT table_name\n",
    "        FROM information_schema.Tables\n",
    "        WHERE table_schema = '{}'\"\"\".format(role, table_schema)\n",
    "    tab_names = plsql.query(qry, engine)\n",
    "    columns = tab_names.table_name[[str.startswith(x, \"dt_\") for x in tab_names.table_name]]\n",
    "    return columns"
   ]
  },
  {
   "cell_type": "code",
   "execution_count": null,
   "metadata": {},
   "outputs": [],
   "source": [
    "def schema_column_info(engine, role, table_schema, table_name):\n",
    "    qry = \"\"\"set role {};\n",
    "            SELECT *\n",
    "            FROM information_schema.columns\n",
    "            WHERE table_schema = '{}'\n",
    "              AND table_name   = '{}'\"\"\".format(role, table_schema, table_name)\n",
    "    \n",
    "    tab = plsql.query(qry, engine)\n",
    "    \n",
    "    return tab"
   ]
  },
  {
   "cell_type": "code",
   "execution_count": null,
   "metadata": {},
   "outputs": [],
   "source": [
    "def table_name_column_exists(role, engine, table_schema, table_name, column_name):\n",
    "    qry = \"\"\"set role {};\n",
    "            SELECT *\n",
    "            FROM information_schema.columns\n",
    "            WHERE table_schema = '{}'\n",
    "              AND table_name   = '{}'\"\"\".format(role, table_schema, table_name)\n",
    "    columns = plsql.query(qry, engine).column_name\n",
    "\n",
    "\n",
    "    bins = (column_name == columns)\n",
    "    if (sum(bins) > 0):\n",
    "        return table_name"
   ]
  },
  {
   "cell_type": "code",
   "execution_count": null,
   "metadata": {},
   "outputs": [],
   "source": []
  },
  {
   "cell_type": "code",
   "execution_count": null,
   "metadata": {},
   "outputs": [],
   "source": [
    "def describe_table(engine, role, schema, table, nrow = 5):\n",
    "    \n",
    "    print(\"\\n------\\n\")\n",
    "    print(\"Table: \"  + str(table) )\n",
    "    nrows = pleda.total_rows(engine, role, schema, table)\n",
    "    print(\" number of rows: \" + str(nrows.iloc[0]))\n",
    "\n",
    "    tab_head = first_row_print(engine, role, schema, table, nrow)\n",
    "    print(\" columns: \" + str(tab_head.columns))\n",
    "    \n",
    "    print(\"\\n\")\n",
    "    print(tab_head)\n",
    "    \n",
    "    tables_list = tables_extraction(engine, role, schema)\n",
    "    tables_list = tables_list[(table == tables_list) == False]\n",
    "    \n",
    "    \n",
    "    print(\"\\n\")\n",
    "    print(\"Column description:\\n\")\n",
    "    \n",
    "    for col in tab_head.columns:\n",
    "        prop_nulls = pleda.proportion_nulls(engine, role, schema, table, col)\n",
    "        print ('. . . . .\\n' + col + ':')\n",
    "        \n",
    "        list_columns = list()\n",
    "        for tab in tables_list:\n",
    "            ll = table_name_column_exists(role, engine, table_schema = 'public', \n",
    "                             table_name = tab, \n",
    "                             column_name = col)\n",
    "            if (pd.isnull(ll) == False):\n",
    "                list_columns.append(ll)\n",
    "\n",
    "        print('proportion of nulls: ' + str(round(100*prop_nulls)) + '%' )\n",
    "        print(\"# of tables same column: \" + str(len(list_columns)) )\n",
    "        print(\"% of tables same column: \" + \n",
    "                  str(round(100*len(list_columns)/len(tables_list))) + \"%\")\n",
    "        #print(list_columns)\n",
    "\n",
    "    print(\"\\n\")\n",
    "    print(\"\\n\")\n",
    "    "
   ]
  },
  {
   "cell_type": "code",
   "execution_count": null,
   "metadata": {},
   "outputs": [],
   "source": [
    "tablas_l = ['dt_fi_tipodocumento', 'dt_fi_tipomateria', 'dt_fi_tiponacionalidades', \n",
    "            'dt_fi_tipoorigenact', 'dt_fi_tipoterminofiscalizacion', 'dt_fi_unidadorigen']"
   ]
  },
  {
   "cell_type": "code",
   "execution_count": null,
   "metadata": {},
   "outputs": [],
   "source": [
    "tablas_l = tables_extraction(engine, role, 'public')"
   ]
  },
  {
   "cell_type": "code",
   "execution_count": null,
   "metadata": {},
   "outputs": [],
   "source": [
    "for k in tablas_l:\n",
    "    describe_table(engine, role, schema = 'public', table = k, nrow = 5)"
   ]
  },
  {
   "cell_type": "code",
   "execution_count": null,
   "metadata": {},
   "outputs": [],
   "source": [
    "list_tables_comp = tables_extraction(engine, role, 'public')\n",
    "for tab in list_tables_comp:\n",
    "    print(\"-----------\\nTabla: \" + tab)\n",
    "    print(schema_column_info(engine, role, 'public', tab).column_name)\n",
    "    print(first_row_print(engine, role, 'public', tab) )\n",
    "    \n",
    "    print(\"fin\")"
   ]
  },
  {
   "cell_type": "code",
   "execution_count": null,
   "metadata": {},
   "outputs": [],
   "source": []
  }
 ],
 "metadata": {
  "kernelspec": {
   "display_name": "Python 3",
   "language": "python",
   "name": "python3"
  },
  "language_info": {
   "codemirror_mode": {
    "name": "ipython",
    "version": 3
   },
   "file_extension": ".py",
   "mimetype": "text/x-python",
   "name": "python",
   "nbconvert_exporter": "python",
   "pygments_lexer": "ipython3",
   "version": "3.6.5"
  }
 },
 "nbformat": 4,
 "nbformat_minor": 2
}
