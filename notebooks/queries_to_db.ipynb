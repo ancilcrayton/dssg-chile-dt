{
 "cells": [
  {
   "cell_type": "markdown",
   "metadata": {},
   "source": [
    "# How to query the database from a Jupyter notebook\n",
    "\n",
    "Using Team Chile's custom functions!"
   ]
  },
  {
   "cell_type": "code",
   "execution_count": null,
   "metadata": {},
   "outputs": [],
   "source": [
    "import sys\n",
    "sys.path.append('../') # Assumes that your notebook is in eda/\n",
    "import pipeline.sql as plsql\n",
    "from plotnine import *"
   ]
  },
  {
   "cell_type": "markdown",
   "metadata": {},
   "source": [
    "In order to run this correctly and securely, create a .yaml file in the format of `example_config.yaml` (roughly like below):\n",
    "```\n",
    "db:\n",
    "    username: \"emma\"\n",
    "    password: \"cats\"\n",
    "    host: \"sql.cats.io\"\n",
    "    database: \"example_database\"\n",
    "```\n",
    "Once you've created the appropriate .yaml file, run the following code:"
   ]
  },
  {
   "cell_type": "code",
   "execution_count": null,
   "metadata": {},
   "outputs": [],
   "source": [
    "# Create your engine\n",
    "# CHANGE THIS FILE NAME FOR YOUR YAML FILE!\n",
    "engine = plsql.create_engine('../config.yaml')"
   ]
  },
  {
   "cell_type": "markdown",
   "metadata": {},
   "source": [
    "Now we can actually query the database!"
   ]
  },
  {
   "cell_type": "code",
   "execution_count": null,
   "metadata": {},
   "outputs": [],
   "source": [
    "role = 'set role direccion_trabajo_inspections_write;'"
   ]
  },
  {
   "cell_type": "code",
   "execution_count": null,
   "metadata": {},
   "outputs": [],
   "source": [
    "# Example!!\n",
    "# Notice that you will have to set role at the beginning of each query\n",
    "qry = '{} select * from raw.inspections_sample limit 3;'\n",
    "plsql.query(qry.format(role), engine)"
   ]
  },
  {
   "cell_type": "markdown",
   "metadata": {},
   "source": [
    "Please let Emma know if you have any questions or problems!"
   ]
  }
 ],
 "metadata": {
  "kernelspec": {
   "display_name": "Python 3",
   "language": "python",
   "name": "python3"
  },
  "language_info": {
   "codemirror_mode": {
    "name": "ipython",
    "version": 3
   },
   "file_extension": ".py",
   "mimetype": "text/x-python",
   "name": "python",
   "nbconvert_exporter": "python",
   "pygments_lexer": "ipython3",
   "version": "3.6.5"
  }
 },
 "nbformat": 4,
 "nbformat_minor": 2
}
