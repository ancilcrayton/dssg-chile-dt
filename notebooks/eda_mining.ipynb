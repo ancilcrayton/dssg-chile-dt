{
 "cells": [
  {
   "cell_type": "code",
   "execution_count": null,
   "metadata": {},
   "outputs": [],
   "source": [
    "import sys\n",
    "sys.path.append('../')\n",
    "import pipeline.sql as plsql\n",
    "\n",
    "import pandas as pd\n",
    "import numpy as np\n",
    "\n",
    "from plotnine import *\n",
    "\n",
    "from mizani.breaks import date_breaks\n",
    "from mizani.formatters import date_format\n",
    "from datetime import date\n",
    "\n",
    "theme_set(theme_bw())"
   ]
  },
  {
   "cell_type": "code",
   "execution_count": null,
   "metadata": {},
   "outputs": [],
   "source": [
    "def custom_date_format2(breaks):\n",
    "    \"\"\"\n",
    "    Function to format the date\n",
    "    \"\"\"\n",
    "    res = []\n",
    "    for x in breaks:\n",
    "        # First day of the year\n",
    "        if x.month == 1 and x.day == 1:\n",
    "            fmt = '%Y'\n",
    "        # Every other month\n",
    "        elif x.month % 2 != 0:\n",
    "            fmt = '%b'\n",
    "        else:\n",
    "            fmt = ''\n",
    "\n",
    "        res.append(date.strftime(x, fmt))\n",
    "\n",
    "    return res\n",
    "\n",
    "def custom_date_format3(breaks):\n",
    "    \"\"\"\n",
    "    Function to format the date\n",
    "    \"\"\"\n",
    "    res = []\n",
    "    for x in breaks:\n",
    "        # First day of the year\n",
    "        if x.month == 1:\n",
    "            fmt = '%Y'\n",
    "        else:\n",
    "            fmt = '%b'\n",
    "\n",
    "        res.append(date.strftime(x, fmt))\n",
    "\n",
    "    return res\n",
    "\n",
    "\n",
    "def custom_date_breaks(width=None):\n",
    "    \"\"\"\n",
    "    Create a function that calculates date breaks\n",
    "\n",
    "    It delegates the work to `date_breaks`\n",
    "    \"\"\"\n",
    "    def filter_func(limits):\n",
    "        breaks = date_breaks(width)(limits)\n",
    "        # filter\n",
    "        return [x for x in breaks if x.month % 2]\n",
    "\n",
    "    return filter_func"
   ]
  },
  {
   "cell_type": "code",
   "execution_count": null,
   "metadata": {},
   "outputs": [],
   "source": []
  },
  {
   "cell_type": "code",
   "execution_count": null,
   "metadata": {},
   "outputs": [],
   "source": [
    "engine = plsql.create_engine('../config.yaml')"
   ]
  },
  {
   "cell_type": "code",
   "execution_count": null,
   "metadata": {},
   "outputs": [],
   "source": [
    "qry = \"\"\"set role direccion_trabajo_inspections_write;\n",
    "    select *\n",
    "    from raw.inspections_complete\n",
    "    limit 3;\"\"\"\n",
    "df = pd.read_sql_query(qry, engine)\n",
    "df.columns"
   ]
  },
  {
   "cell_type": "code",
   "execution_count": null,
   "metadata": {},
   "outputs": [],
   "source": [
    "df.head()"
   ]
  },
  {
   "cell_type": "code",
   "execution_count": null,
   "metadata": {},
   "outputs": [],
   "source": [
    "df.derechofund.head()"
   ]
  },
  {
   "cell_type": "markdown",
   "metadata": {},
   "source": [
    "Companies inspected by year"
   ]
  },
  {
   "cell_type": "code",
   "execution_count": null,
   "metadata": {},
   "outputs": [],
   "source": [
    "qry = \"\"\"set role direccion_trabajo_inspections_write;\n",
    "    select agno, count( distinct rutempresamask ) as count_insp\n",
    "    from raw.inspections_complete\n",
    "    group by agno\n",
    "    order by agno desc;\"\"\"\n",
    "tt1 = pd.read_sql_query(qry, engine)"
   ]
  },
  {
   "cell_type": "code",
   "execution_count": null,
   "metadata": {},
   "outputs": [],
   "source": [
    "qry = \"\"\"set role direccion_trabajo_inspections_write;\n",
    "    select agno, count( distinct rutmask ) as count_tax\n",
    "    from raw.taxes\n",
    "    group by agno\n",
    "    order by agno desc;\"\"\"\n",
    "tt2 = pd.read_sql_query(qry, engine)"
   ]
  },
  {
   "cell_type": "code",
   "execution_count": null,
   "metadata": {},
   "outputs": [],
   "source": [
    "tab_merge = pd.merge(tt1, tt2, on='agno')\n",
    "tab_merge['ratio'] = tab_merge['count_insp']/tab_merge['count_tax']\n",
    "(ggplot(tab_merge[tab_merge['agno']< 2016], \n",
    "        aes('agno', 'ratio')) + \n",
    "    geom_line() +\n",
    "    geom_point(color = \"#e91d63\", size = 2) +\n",
    "    ylim(0, .3) + \n",
    "    ylab('Inspected / Number') + \n",
    "    xlab('Year')+ \n",
    "    scale_x_continuous(breaks = (2006, 2008, 2010, 2012, 2014, 2016)) +\n",
    "    theme(figure_size = (5, 3)))"
   ]
  },
  {
   "cell_type": "code",
   "execution_count": null,
   "metadata": {},
   "outputs": [],
   "source": [
    "qry = \"\"\"set role direccion_trabajo_inspections_write;\n",
    "    select agno, count(*) as count, sum(infra) as inspections\n",
    "    from raw.inspections_complete\n",
    "    group by agno\n",
    "    order by inspections desc;\"\"\"\n",
    "pd.read_sql_query(qry, engine)"
   ]
  },
  {
   "cell_type": "code",
   "execution_count": null,
   "metadata": {},
   "outputs": [],
   "source": [
    "qry = \"\"\"set role direccion_trabajo_inspections_write;\n",
    "    select grae, crae, count(*) as count, sum(infra) as infractions\n",
    "    from raw.inspections_complete\n",
    "    group by grae, crae\n",
    "    order by infractions desc;\"\"\"\n",
    "pd.read_sql_query(qry, engine)"
   ]
  },
  {
   "cell_type": "code",
   "execution_count": null,
   "metadata": {},
   "outputs": [],
   "source": [
    "qry = \"\"\"set role direccion_trabajo_inspections_write;\n",
    "    select rutempresamask, avg(emptrabhombres) as workers, count(*) as inspections, sum(infra) as infractions\n",
    "    from raw.inspections_complete\n",
    "    group by rutempresamask;\"\"\"\n",
    "tab_all = pd.read_sql_query(qry, engine)"
   ]
  },
  {
   "cell_type": "code",
   "execution_count": null,
   "metadata": {},
   "outputs": [],
   "source": [
    "(ggplot(tab_all, aes('inspections', 'infractions')) + \n",
    "    geom_point(alpha = .5)+ \n",
    "    theme(figure_size = (5, 4)))"
   ]
  },
  {
   "cell_type": "code",
   "execution_count": null,
   "metadata": {},
   "outputs": [],
   "source": [
    "(ggplot(tab_all, aes('inspections', 'workers')) + \n",
    "    geom_point(alpha = .5) + \n",
    "    xlab('Average number of workers') + \n",
    "    theme(figure_size = (5, 4)))"
   ]
  },
  {
   "cell_type": "code",
   "execution_count": null,
   "metadata": {},
   "outputs": [],
   "source": []
  },
  {
   "cell_type": "code",
   "execution_count": null,
   "metadata": {},
   "outputs": [],
   "source": [
    "qry = \"\"\"set role direccion_trabajo_inspections_write;\n",
    "    select crae, grae, count( distinct rutempresamask)\n",
    "    from raw.inspections_complete\n",
    "    group by crae, grae\n",
    "    order by count;\"\"\"\n",
    "tab_numemp = pd.read_sql_query(qry, engine)"
   ]
  },
  {
   "cell_type": "code",
   "execution_count": null,
   "metadata": {},
   "outputs": [],
   "source": [
    "tab_numemp"
   ]
  },
  {
   "cell_type": "code",
   "execution_count": null,
   "metadata": {},
   "outputs": [],
   "source": [
    "tab_numemp['grae'] = tab_numemp['grae'].astype(str).str[0:33].str.lower()\n",
    "tab_numemp['mining'] = tab_numemp['crae'] == '103'\n",
    "tab_numemp['agriculture'] = tab_numemp['crae'] == '101'\n",
    "tab_numemp['grae'] = pd.Categorical(tab_numemp['grae'], categories=tab_numemp.grae.tolist())"
   ]
  },
  {
   "cell_type": "code",
   "execution_count": null,
   "metadata": {},
   "outputs": [],
   "source": [
    "(ggplot(tab_numemp, aes(x = 'grae', y = 'count', \n",
    "                       fill = 'agriculture')) + \n",
    " geom_bar(stat = 'identity') + \n",
    " xlab(\"Economic Activity\") + \n",
    " ylab('number of inspections') +\n",
    " scale_fill_manual(values = (\"gray\", \"#e91d63\"),\n",
    "                   guide = False) + \n",
    " coord_flip() + \n",
    " theme(figure_size = (4, 5)) )"
   ]
  },
  {
   "cell_type": "code",
   "execution_count": null,
   "metadata": {},
   "outputs": [],
   "source": []
  },
  {
   "cell_type": "code",
   "execution_count": null,
   "metadata": {},
   "outputs": [],
   "source": []
  },
  {
   "cell_type": "markdown",
   "metadata": {},
   "source": [
    "## Mining and quarrying (code 103)\t"
   ]
  },
  {
   "cell_type": "code",
   "execution_count": null,
   "metadata": {},
   "outputs": [],
   "source": [
    "qry = \"\"\"set role direccion_trabajo_inspections_write;\n",
    "    select *\n",
    "    from raw.inspections_complete\n",
    "    where crae = '103';\"\"\"\n",
    "df_mining = pd.read_sql_query(qry, engine)\n",
    "#df_mining.head()\n",
    "#df_mining.columns"
   ]
  },
  {
   "cell_type": "markdown",
   "metadata": {},
   "source": [
    "Mining has 2725 companies"
   ]
  },
  {
   "cell_type": "code",
   "execution_count": null,
   "metadata": {},
   "outputs": [],
   "source": [
    "len(df_mining['rutempresamask'].unique())"
   ]
  },
  {
   "cell_type": "code",
   "execution_count": null,
   "metadata": {},
   "outputs": [],
   "source": [
    "df_mining['gcae_rec'] = df_mining['gcae'].astype(str).str[0:35]\n",
    "df_mining['gcae_rec'] = pd.Categorical(df_mining['gcae_rec'], categories=df_mining.gcae_rec.value_counts().index.tolist())"
   ]
  },
  {
   "cell_type": "code",
   "execution_count": null,
   "metadata": {},
   "outputs": [],
   "source": [
    "(ggplot(df_mining, aes(x = 'gcae_rec')) + \n",
    " geom_histogram(stat = 'count', fill = 'purple') + \n",
    " xlab(\"Economic Activity\") + \n",
    " ylab('number of inspections') + \n",
    " theme(axis_text_x = element_text(rotation = 90, vjust = 1, hjust = 1),\n",
    "       figure_size = (5, 3)))"
   ]
  },
  {
   "cell_type": "code",
   "execution_count": null,
   "metadata": {},
   "outputs": [],
   "source": [
    "def my_agg(x):\n",
    "    names = {\n",
    "        'max_date': x['datereg'].max(),\n",
    "        'min_date': x['datereg'].min(),\n",
    "        'num_days': max(x['datereg']) - min(x['datereg']),\n",
    "        'inspections': x['idfiscalizacion'].count()}\n",
    "    return pd.Series(names, index=['max_date', 'min_date', 'num_days', 'inspections'])\n",
    "tab_agg = df_mining.groupby('rutempresamask').apply(my_agg).sort_values('num_days', ascending = False).reset_index() \n",
    "tab_agg.head()\n",
    "tab_agg.dtypes"
   ]
  },
  {
   "cell_type": "code",
   "execution_count": null,
   "metadata": {},
   "outputs": [],
   "source": [
    "qry = \"\"\"set role direccion_trabajo_inspections_write;\n",
    "    select gcae, sum(infra) as num_infra, count (*) as num_insp\n",
    "    from raw.inspections_complete\n",
    "    where crae = '103' and infra > 0\n",
    "    group by gcae\n",
    "    order by num_infra desc;\"\"\"\n",
    "tab = pd.read_sql_query(qry, engine)"
   ]
  },
  {
   "cell_type": "code",
   "execution_count": null,
   "metadata": {},
   "outputs": [],
   "source": [
    "tab['gcae_rec'] = tab['gcae'].astype(str).str[0:35]\n",
    "tab['ratio'] = tab['num_infra']/tab['num_insp']\n",
    "tab['ratio_lab'] = round(tab['num_infra']/tab['num_insp'], 0)"
   ]
  },
  {
   "cell_type": "code",
   "execution_count": null,
   "metadata": {},
   "outputs": [],
   "source": [
    "(ggplot(tab, aes(x = 'gcae_rec')) + \n",
    " #geom_bar(stat = 'identity', fill = 'gray') + \n",
    " geom_linerange(aes(ymin = 1, ymax = 'ratio'), size = 3) + \n",
    " geom_text(aes(y = 'ratio+.1', label = 'ratio_lab'), size = 8) + \n",
    " geom_hline(yintercept = 1, color = \"salmon\", size = 1) + \n",
    " ylab('infractions / inspections') + \n",
    " xlab('Mining subcategories') + \n",
    " theme(axis_text_x = element_text(rotation = 90, vjust = 1, hjust = 1),\n",
    "       figure_size = (6, 4)))"
   ]
  },
  {
   "cell_type": "code",
   "execution_count": null,
   "metadata": {},
   "outputs": [],
   "source": []
  },
  {
   "cell_type": "markdown",
   "metadata": {},
   "source": [
    "### Copper extraction "
   ]
  },
  {
   "cell_type": "code",
   "execution_count": null,
   "metadata": {},
   "outputs": [],
   "source": [
    "df_mining.loc[:, [\"gcae\", \"ccae\"]]\n",
    "df_copper = df_mining[df_mining['ccae'] == '133000']\n",
    "print ('Number of inspections: ' + str(df_copper.shape[0]))\n",
    "print ('Number of facilities: ' + str(len(df_copper['rutempresamask'].unique()))) \n",
    "df_copper.head()"
   ]
  },
  {
   "cell_type": "code",
   "execution_count": null,
   "metadata": {},
   "outputs": [],
   "source": []
  },
  {
   "cell_type": "code",
   "execution_count": null,
   "metadata": {},
   "outputs": [],
   "source": []
  },
  {
   "cell_type": "markdown",
   "metadata": {},
   "source": [
    "### Correlations\n",
    "\n",
    "Number of workers, number of inspections and number of infractions for copper extraction facilities. "
   ]
  },
  {
   "cell_type": "code",
   "execution_count": null,
   "metadata": {},
   "outputs": [],
   "source": [
    "qry = \"\"\"set role direccion_trabajo_inspections_write;\n",
    "    select rutempresamask, avg(emptrabhombres) as workers, count(*) as inspections, sum(infra) as infractions\n",
    "    from raw.inspections_complete\n",
    "    where ccae = '133000'\n",
    "    group by rutempresamask;\"\"\"\n",
    "tab = pd.read_sql_query(qry, engine)\n",
    "tab['ind'] = tab['inspections'] > 200\n",
    "tab.head()"
   ]
  },
  {
   "cell_type": "markdown",
   "metadata": {},
   "source": [
    "#### Scatter plots\n",
    "\n",
    "Data story facility highlighted in red."
   ]
  },
  {
   "cell_type": "code",
   "execution_count": null,
   "metadata": {},
   "outputs": [],
   "source": [
    "(ggplot(tab, aes('inspections', 'workers')) + \n",
    "    geom_point(aes( color = 'ind'), size = 2, alpha = .5) + \n",
    "    scale_color_manual(values = (\"black\", \"red\"),\n",
    "                   guide = False) +\n",
    "    theme(figure_size = (5, 4)))"
   ]
  },
  {
   "cell_type": "code",
   "execution_count": null,
   "metadata": {},
   "outputs": [],
   "source": [
    "(ggplot(tab[pd.isnull(tab['infractions']) == False], aes('inspections', 'infractions')) + \n",
    "    geom_point(aes( color = 'ind'), size = 2, \n",
    "              alpha = .7) + \n",
    "    scale_color_manual(values = (\"black\", \"#e91d63\"),\n",
    "                   guide = False) + \n",
    "    geom_abline(intercept = 0, slope = 1, color = \"salmon\") +\n",
    "    theme(figure_size = (5, 4)))"
   ]
  },
  {
   "cell_type": "code",
   "execution_count": null,
   "metadata": {},
   "outputs": [],
   "source": []
  },
  {
   "cell_type": "markdown",
   "metadata": {},
   "source": [
    "### Number of inspections"
   ]
  },
  {
   "cell_type": "code",
   "execution_count": null,
   "metadata": {},
   "outputs": [],
   "source": [
    "tab['inspections'].describe()"
   ]
  },
  {
   "cell_type": "code",
   "execution_count": null,
   "metadata": {},
   "outputs": [],
   "source": [
    "tab[tab['inspections'] > 500]"
   ]
  },
  {
   "cell_type": "code",
   "execution_count": null,
   "metadata": {},
   "outputs": [],
   "source": []
  },
  {
   "cell_type": "markdown",
   "metadata": {},
   "source": [
    "### Number of infractions"
   ]
  },
  {
   "cell_type": "code",
   "execution_count": null,
   "metadata": {},
   "outputs": [],
   "source": [
    "tab['infractions'].describe()"
   ]
  },
  {
   "cell_type": "code",
   "execution_count": null,
   "metadata": {},
   "outputs": [],
   "source": [
    "tab[tab['infractions'] > 200].rutempresamask"
   ]
  },
  {
   "cell_type": "code",
   "execution_count": null,
   "metadata": {},
   "outputs": [],
   "source": []
  },
  {
   "cell_type": "markdown",
   "metadata": {},
   "source": [
    "### Number of employees"
   ]
  },
  {
   "cell_type": "markdown",
   "metadata": {},
   "source": [
    "Number of employees by inspection"
   ]
  },
  {
   "cell_type": "code",
   "execution_count": null,
   "metadata": {},
   "outputs": [],
   "source": [
    "df_mining['emptrabhombres'].describe()"
   ]
  },
  {
   "cell_type": "code",
   "execution_count": null,
   "metadata": {},
   "outputs": [],
   "source": [
    "(ggplot(df_mining[pd.isnull(df_mining['emptrabhombres']) == False], \n",
    "        aes(x = 'grae', y = 'emptrabhombres')) + \n",
    "    geom_boxplot() + \n",
    "    ylab(\"number of workers\") + \n",
    "    xlab('') +\n",
    "#    scale_y_log10() + \n",
    "    coord_flip()+ \n",
    "    theme(figure_size = (10, 3)))"
   ]
  },
  {
   "cell_type": "markdown",
   "metadata": {},
   "source": [
    "Average number of employees per company from inspections information. "
   ]
  },
  {
   "cell_type": "code",
   "execution_count": null,
   "metadata": {},
   "outputs": [],
   "source": [
    "tab['workers'].describe()"
   ]
  },
  {
   "cell_type": "code",
   "execution_count": null,
   "metadata": {},
   "outputs": [],
   "source": [
    "(ggplot(tab[pd.isnull(tab['workers']) == False], \n",
    "        aes(x = '1', y = 'workers')) + \n",
    "    geom_boxplot() + \n",
    "    ylab(\"average number of employees\") + \n",
    "    coord_flip() + \n",
    "    theme(figure_size = (7, 3)))"
   ]
  },
  {
   "cell_type": "code",
   "execution_count": null,
   "metadata": {},
   "outputs": [],
   "source": [
    "df_mining[df_mining['emptrabhombres'] == 60000]"
   ]
  },
  {
   "cell_type": "code",
   "execution_count": null,
   "metadata": {},
   "outputs": [],
   "source": [
    "tab[tab['workers'] > 10000]"
   ]
  },
  {
   "cell_type": "code",
   "execution_count": null,
   "metadata": {},
   "outputs": [],
   "source": [
    "tab[tab['inspections']> 500]"
   ]
  },
  {
   "cell_type": "code",
   "execution_count": null,
   "metadata": {},
   "outputs": [],
   "source": []
  },
  {
   "cell_type": "markdown",
   "metadata": {},
   "source": [
    "### Urgent and Human Rights matters inspected"
   ]
  },
  {
   "cell_type": "code",
   "execution_count": null,
   "metadata": {},
   "outputs": [],
   "source": [
    "qry = \"\"\"set role direccion_trabajo_inspections_write;\n",
    "    select rutempresamask, sum(cast(urgencia as int)) as urgents, \n",
    "    sum(derechofund) as humanrights,\n",
    "    sum(infra) as infractions, count(*) as inspections\n",
    "    from raw.inspections_complete\n",
    "    where ccae = '133000'\n",
    "    group by rutempresamask;\"\"\"\n",
    "tab_ins = pd.read_sql_query(qry, engine)"
   ]
  },
  {
   "cell_type": "code",
   "execution_count": null,
   "metadata": {},
   "outputs": [],
   "source": [
    "tab_ins.head()"
   ]
  },
  {
   "cell_type": "markdown",
   "metadata": {},
   "source": [
    "The company that has a large amount of insepctions also has the highest number of urgent matters inspected. "
   ]
  },
  {
   "cell_type": "code",
   "execution_count": null,
   "metadata": {},
   "outputs": [],
   "source": [
    "(ggplot(tab_ins, aes('infractions', 'urgents')) +\n",
    "     geom_point() + \n",
    "    theme(figure_size = (5, 4)))"
   ]
  },
  {
   "cell_type": "markdown",
   "metadata": {},
   "source": [
    "Human rights matters haven't been an issue inspected in copper extraction companies. "
   ]
  },
  {
   "cell_type": "code",
   "execution_count": null,
   "metadata": {},
   "outputs": [],
   "source": [
    "tab_ins.humanrights.describe()"
   ]
  },
  {
   "cell_type": "markdown",
   "metadata": {},
   "source": [
    "Just one company had urgent matters inspected."
   ]
  },
  {
   "cell_type": "code",
   "execution_count": null,
   "metadata": {},
   "outputs": [],
   "source": [
    "tab_ins[tab_ins['urgents']>45]"
   ]
  },
  {
   "cell_type": "code",
   "execution_count": null,
   "metadata": {},
   "outputs": [],
   "source": []
  },
  {
   "cell_type": "code",
   "execution_count": null,
   "metadata": {},
   "outputs": [],
   "source": []
  },
  {
   "cell_type": "markdown",
   "metadata": {},
   "source": [
    "### Matters inspected"
   ]
  },
  {
   "cell_type": "code",
   "execution_count": null,
   "metadata": {},
   "outputs": [],
   "source": [
    "idsfisc_copper = df_copper.idfiscalizacion\n",
    "str1 = \"','\".join(idsfisc_copper)"
   ]
  },
  {
   "cell_type": "code",
   "execution_count": null,
   "metadata": {},
   "outputs": [],
   "source": [
    "qry = \"\"\"set role direccion_trabajo_inspections_write;\n",
    "    select rutempresamask, crae, grupocodigotipomaterias2, grupocodigotipomaterias\n",
    "    from raw.inspections_complete\n",
    "    where idfiscalizacion in {};\"\"\".format(\"('\" + str1 + \"')\")\n",
    "df_matters = pd.read_sql_query(qry, engine)"
   ]
  },
  {
   "cell_type": "code",
   "execution_count": null,
   "metadata": {},
   "outputs": [],
   "source": [
    "print (df_matters.shape)"
   ]
  },
  {
   "cell_type": "code",
   "execution_count": null,
   "metadata": {},
   "outputs": [],
   "source": [
    "df_matters_melt = pd.melt(df_matters, id_vars = ['rutempresamask', 'crae'])\n",
    "df_matters_melt = df_matters_melt[df_matters_melt['value'] != '99']\n",
    "df_matters_melt.head()"
   ]
  },
  {
   "cell_type": "code",
   "execution_count": null,
   "metadata": {},
   "outputs": [],
   "source": [
    "df_matters_melt.value.str.split(\";\").head()"
   ]
  },
  {
   "cell_type": "code",
   "execution_count": null,
   "metadata": {},
   "outputs": [],
   "source": []
  },
  {
   "cell_type": "markdown",
   "metadata": {},
   "source": [
    "### Matters of infractions"
   ]
  },
  {
   "cell_type": "code",
   "execution_count": null,
   "metadata": {},
   "outputs": [],
   "source": [
    "qry = \"\"\"set role direccion_trabajo_inspections_write;\n",
    "    select *\n",
    "    from cleaned.violations\n",
    "    limit 3;\"\"\"\n",
    "pd.read_sql_query(qry, engine)"
   ]
  },
  {
   "cell_type": "code",
   "execution_count": null,
   "metadata": {},
   "outputs": [],
   "source": []
  },
  {
   "cell_type": "markdown",
   "metadata": {},
   "source": [
    "## Data story"
   ]
  },
  {
   "cell_type": "code",
   "execution_count": null,
   "metadata": {},
   "outputs": [],
   "source": [
    "qry = \"\"\"set role direccion_trabajo_inspections_write;\n",
    "    select rutempresamask, sum(cast(urgencia as int)) as urgents, \n",
    "    sum(derechofund) as humanrights,\n",
    "    sum(infra) as infractions, count(*) as inspections\n",
    "    from raw.inspections_complete\n",
    "    where ccae = '133000'\n",
    "    group by rutempresamask;\"\"\"\n",
    "tab_ins = pd.read_sql_query(qry, engine)"
   ]
  },
  {
   "cell_type": "code",
   "execution_count": null,
   "metadata": {},
   "outputs": [],
   "source": [
    "id_company = ''.join(tab_ins[tab_ins['urgents']>45].rutempresamask)\n",
    "print (id_company)"
   ]
  },
  {
   "cell_type": "code",
   "execution_count": null,
   "metadata": {},
   "outputs": [],
   "source": [
    "qry = \"\"\"set role direccion_trabajo_inspections_write;\n",
    "    select *\n",
    "    from raw.taxes\n",
    "    where rutmask = {};\"\"\".format(\"'\" + id_company + \"'\")\n",
    "tab_tax = pd.read_sql_query(qry, engine)"
   ]
  },
  {
   "cell_type": "code",
   "execution_count": null,
   "metadata": {},
   "outputs": [],
   "source": [
    "tab_tax.ntrabajadores.mean()"
   ]
  },
  {
   "cell_type": "code",
   "execution_count": null,
   "metadata": {},
   "outputs": [],
   "source": [
    "qry = \"\"\"set role direccion_trabajo_inspections_write;\n",
    "    select *\n",
    "    from raw.inspections_complete\n",
    "    where rutempresamask = {};\"\"\".format(\"'\" + id_company + \"'\")\n",
    "tab_emp = pd.read_sql_query(qry, engine)\n",
    "tab_emp.shape"
   ]
  },
  {
   "cell_type": "code",
   "execution_count": null,
   "metadata": {},
   "outputs": [],
   "source": [
    "print('Total inspections:', tab_emp.idfiscalizacion.count())\n",
    "print('Total proactive inspections:', sum(tab_emp[\"solicitante\"] == 'Por Programa'))\n",
    "print('Total reactive inspections:', sum(tab_emp[\"solicitante\"] != 'Por Programa'))\n",
    "print('Total urgent inspections:', tab_emp.urgencia.sum())\n",
    "print('Total matters inspected:', tab_emp.num_materias.sum().astype('int'))\n",
    "print('Total infractions:', tab_emp.infra.sum().astype('int'))\n",
    "print('Total inspections with violations:', tab_emp.infractor.sum())"
   ]
  },
  {
   "cell_type": "code",
   "execution_count": null,
   "metadata": {},
   "outputs": [],
   "source": [
    "tab_emp[\"infractor\"].sum()\n",
    "tab_emp.infractor.sum()"
   ]
  },
  {
   "cell_type": "code",
   "execution_count": null,
   "metadata": {},
   "outputs": [],
   "source": [
    "qry = \"\"\"set role direccion_trabajo_inspections_write;\n",
    "    select rutempresamask,  \n",
    "    date(agno || '-' || mesreg || '-01') as date,    \n",
    "    count(rutempresamask) as inspections, \n",
    "    sum(infra)  as infractions,\n",
    "    sum(num_materias) as matters,\n",
    "    sum(case when solicitante = 'Por Programa' then 1 else 0 end) as proactive,\n",
    "    sum(case when solicitante = 'Por Programa' then 0 else 1 end) as reactive\n",
    "    from raw.inspections_complete\n",
    "    where rutempresamask = {} \n",
    "    group by rutempresamask, date\n",
    "    order by date;\"\"\".format(\"'\" + id_company + \"'\")\n",
    "tab_summ = pd.read_sql_query(qry, engine)\n",
    "tab_summ['date'] = pd.to_datetime(tab_summ.date)\n",
    "print(tab_summ.shape)"
   ]
  },
  {
   "cell_type": "code",
   "execution_count": null,
   "metadata": {},
   "outputs": [],
   "source": [
    "tab_summ['infractions'] = tab_summ['infractions'].astype('int')\n",
    "tab_summ['matters'] = tab_summ['matters'].astype('int')\n",
    "tab_summ['prop'] = round(100*tab_summ['infractions']/tab_summ['matters'])\n",
    "tab_summ['prop'] = tab_summ['prop'].astype('int')\n",
    "tab_summ['prop'] = tab_summ['prop'].map(str) + \"%\"\n",
    "tab_summ.dtypes"
   ]
  },
  {
   "cell_type": "code",
   "execution_count": null,
   "metadata": {},
   "outputs": [],
   "source": [
    "tab_summ.head()"
   ]
  },
  {
   "cell_type": "code",
   "execution_count": null,
   "metadata": {},
   "outputs": [],
   "source": []
  },
  {
   "cell_type": "code",
   "execution_count": null,
   "metadata": {},
   "outputs": [],
   "source": [
    "(ggplot(tab_summ, aes ( x = 'date', y = 'inspections')) + \n",
    "    geom_hline(yintercept = 0, color = 'gray') + \n",
    "    geom_bar(stat = 'identity', fill = 'purple', alpha = .5) + \n",
    "    geom_text(aes(y = 'inspections + 1', label = 'inspections'),\n",
    "              color = 'black', size = 10) + \n",
    "    ylim(0, 20) + \n",
    "    ylab('Count') + \n",
    "    xlab('Month of inspection')  +\n",
    "    #scale_x_datetime(breaks = date_breaks('1 month')) +\n",
    "    scale_x_datetime(\n",
    "         breaks=date_breaks('1 months'),\n",
    "         labels=custom_date_format2) +\n",
    "    theme(axis_text_x = element_text(angle = 90, size= 10), \n",
    "         figure_size = (25, 4)))"
   ]
  },
  {
   "cell_type": "code",
   "execution_count": null,
   "metadata": {},
   "outputs": [],
   "source": [
    "tab_summ.head()\n",
    "tab_gg = pd.melt(tab_summ[['rutempresamask', \"date\", \"proactive\",\"reactive\", \"inspections\"]], \n",
    "        id_vars = ['rutempresamask', 'date', 'inspections'])\n",
    "(ggplot(tab_gg, aes ( x = 'date', y = 'value', fill = 'variable')) + \n",
    "    geom_hline(yintercept = 0, color = 'gray') + \n",
    "    geom_bar(stat = 'identity', alpha = .5) + \n",
    "    geom_text(aes(y = 'inspections + 1', label = 'inspections'),\n",
    "              color = 'black', size = 10) + \n",
    "    ylim(0, 20) + \n",
    "    ylab('Count') + \n",
    "    xlab('Month of inspection')  +\n",
    "    scale_x_datetime(\n",
    "         breaks=date_breaks('1 months'),\n",
    "         labels=custom_date_format2) +\n",
    "    theme(axis_text_x = element_text(angle = 90, size= 10), \n",
    "         figure_size = (25, 4)))"
   ]
  },
  {
   "cell_type": "code",
   "execution_count": null,
   "metadata": {},
   "outputs": [],
   "source": [
    "(ggplot(tab_summ, aes ( x = 'date', y = -1)) + \n",
    "    geom_hline(yintercept = -1, color = 'gray') + \n",
    "    geom_linerange(aes(ymin =0, ymax = 'matters'), \n",
    "            color = 'blue') + \n",
    "    geom_linerange(aes(ymin =0, ymax = 'infractions'), \n",
    "            color = 'red') + \n",
    "    geom_point(aes(y = 'infractions'), \n",
    "            color = 'red', size = 4, \n",
    "               alpha = .3, shape  = 4) + \n",
    "    geom_text(aes(y = 'matters + 11', label = 'matters'), \n",
    "            size = 8, color = 'blue') + \n",
    "    geom_text(aes(y = 'matters + 6', label = 'prop'), \n",
    "            size = 6, color = 'gray') + \n",
    "    ylab('Count') + \n",
    "    xlab('Month of infractions') +\n",
    "    #scale_x_datetime(breaks=date_breaks('1 months')) +\n",
    "    scale_x_datetime(\n",
    "         breaks=date_breaks('1 months'),\n",
    "         labels=custom_date_format2) + \n",
    "    theme(axis_text_x = element_text(angle = 90, size= 10), \n",
    "         figure_size = (25, 4)))"
   ]
  },
  {
   "cell_type": "code",
   "execution_count": null,
   "metadata": {},
   "outputs": [],
   "source": []
  },
  {
   "cell_type": "code",
   "execution_count": null,
   "metadata": {},
   "outputs": [],
   "source": []
  },
  {
   "cell_type": "code",
   "execution_count": null,
   "metadata": {},
   "outputs": [],
   "source": [
    "qry = \"\"\"set role direccion_trabajo_inspections_write;\n",
    "    select rutempresamask, crae, grupoglosatipomaterias2, grupoglosatipomaterias,\n",
    "    date(agno || '-' || mesreg || '-01') as date   \n",
    "    from raw.inspections_complete\n",
    "    where rutempresamask = {};\"\"\".format(\"'\" + id_company + \"'\")\n",
    "df_matters = pd.read_sql_query(qry, engine)\n",
    "df_matters['date'] = pd.to_datetime(df_matters.date)\n",
    "df_matters.head()"
   ]
  },
  {
   "cell_type": "code",
   "execution_count": null,
   "metadata": {},
   "outputs": [],
   "source": [
    "subdf_matt = df_matters[df_matters['date'] == '2014-11-01']\n",
    "subdf_matt.head()\n",
    "tt_melt = pd.melt(subdf_matt, id_vars = ['rutempresamask', 'crae', 'date'])\n",
    "tt_melt = tt_melt[tt_melt['value'] != '99']\n",
    "tt_melt.value.value_counts()"
   ]
  },
  {
   "cell_type": "code",
   "execution_count": null,
   "metadata": {},
   "outputs": [],
   "source": []
  },
  {
   "cell_type": "code",
   "execution_count": null,
   "metadata": {},
   "outputs": [],
   "source": [
    "qry = \"\"\"set role direccion_trabajo_inspections_write;\n",
    "    select rutempresamask, crae, grupoglosainfra, grupoglosainfra2,\n",
    "    date(agno || '-' || mesreg || '-01') as date   \n",
    "    from raw.inspections_complete\n",
    "    where rutempresamask = {};\"\"\".format(\"'\" + id_company + \"'\")\n",
    "df_infra = pd.read_sql_query(qry, engine)\n",
    "df_infra['date'] = pd.to_datetime(df_infra.date)\n",
    "df_infra.head()"
   ]
  },
  {
   "cell_type": "code",
   "execution_count": null,
   "metadata": {},
   "outputs": [],
   "source": [
    "subdf_infra = df_infra[df_infra['date'] == '2014-11-01']\n",
    "subdf_infra.head()\n",
    "tt_melt = pd.melt(subdf_infra, id_vars = ['rutempresamask', 'crae', 'date'])\n",
    "tt_melt = tt_melt[tt_melt['value'] != '99']\n",
    "tt_melt.value.value_counts()"
   ]
  },
  {
   "cell_type": "code",
   "execution_count": null,
   "metadata": {},
   "outputs": [],
   "source": []
  },
  {
   "cell_type": "code",
   "execution_count": null,
   "metadata": {},
   "outputs": [],
   "source": [
    "qry = \"\"\"set role direccion_trabajo_inspections_write;\n",
    "    select rutempresamask, crae, grupoglosainfra_det, grupoglosainfra2_det,\n",
    "    date(agno || '-' || mesreg || '-01') as date   \n",
    "    from raw.inspections_complete\n",
    "    where rutempresamask = {};\"\"\".format(\"'\" + id_company + \"'\")\n",
    "df_infradet = pd.read_sql_query(qry, engine)\n",
    "df_infradet['date'] = pd.to_datetime(df_infradet.date)\n",
    "df_infradet.head()"
   ]
  },
  {
   "cell_type": "code",
   "execution_count": null,
   "metadata": {},
   "outputs": [],
   "source": [
    "subdf_infrad = df_infradet[df_infradet['date'] == '2014-11-01']\n",
    "subdf_infrad.head()\n",
    "tt_melt = pd.melt(subdf_infrad, id_vars = ['rutempresamask', 'crae', 'date'])\n",
    "tt_melt = tt_melt[tt_melt['value'] != '99']\n",
    "tt_melt.value.value_counts()"
   ]
  },
  {
   "cell_type": "code",
   "execution_count": null,
   "metadata": {},
   "outputs": [],
   "source": [
    "tt_melt = pd.melt(df_infradet, id_vars = ['rutempresamask', 'crae', 'date'])\n",
    "tt_melt = tt_melt[tt_melt['value'] != '99']\n",
    "tt_melt.value.value_counts()"
   ]
  },
  {
   "cell_type": "code",
   "execution_count": null,
   "metadata": {},
   "outputs": [],
   "source": []
  },
  {
   "cell_type": "code",
   "execution_count": null,
   "metadata": {},
   "outputs": [],
   "source": [
    "qry = \"\"\"set role direccion_trabajo_inspections_write;\n",
    "    select rutempresamask, crae, grupoCodigoNormaInfra2_det,\n",
    "    date(agno || '-' || mesreg || '-01') as date   \n",
    "    from raw.inspections_complete\n",
    "    where rutempresamask = {};\"\"\".format(\"'\" + id_company + \"'\")\n",
    "df_infranorma = pd.read_sql_query(qry, engine)\n",
    "df_infranorma['date'] = pd.to_datetime(df_infranorma.date)\n",
    "df_infranorma.head()"
   ]
  },
  {
   "cell_type": "code",
   "execution_count": null,
   "metadata": {},
   "outputs": [],
   "source": [
    "subdf_infranorma = df_infranorma[df_infranorma['date'] == '2014-11-01']\n",
    "subdf_infranorma.head()\n",
    "tt_melt = pd.melt(subdf_infranorma, id_vars = ['rutempresamask', 'crae', 'date'])\n",
    "tt_melt = tt_melt[tt_melt['value'] != '99']\n",
    "tt_melt.value.value_counts()"
   ]
  },
  {
   "cell_type": "code",
   "execution_count": null,
   "metadata": {},
   "outputs": [],
   "source": [
    "tt_melt.value.str.split('|')"
   ]
  },
  {
   "cell_type": "markdown",
   "metadata": {},
   "source": [
    "- GRAVISIMA\tDo not keep the main company sanitary and environmental conditions necessary to protect the life and health of workers who work in your work, business or work\n",
    "\n",
    "1305-h = 4\n",
    "\n",
    "- GRAVISIMA\tDo not implement the main company a management system of health and safety at work, in the work, work or services of their own business.\n",
    "\n",
    "1305-a = 2\n",
    "\n",
    "- GRAVISIMA\tDo not monitor the main company compliance that falls to the contractors of the obligation to inform the tts. of the risks; control and prevention measures; methods of correct work and functioning of the Joint Committees and Dept. of Risk Prevention.\n",
    "\n",
    "1307-b = 2\n",
    "\n",
    "- GRAVISIMA\tDo not make the main company a Labor Safety and Health Work Program.\n",
    "\n",
    "1307-d = 1\n",
    "\n",
    "- GRAVE\tDo not count the extractive mining company with a safe work procedure for the operation, maintenance and repair of machinery.\n",
    "\n",
    "1141-f = 1"
   ]
  },
  {
   "cell_type": "code",
   "execution_count": null,
   "metadata": {},
   "outputs": [],
   "source": [
    "tt_melt.value.str.split('|').head()"
   ]
  },
  {
   "cell_type": "code",
   "execution_count": null,
   "metadata": {},
   "outputs": [],
   "source": []
  },
  {
   "cell_type": "markdown",
   "metadata": {},
   "source": [
    "#### Matters inspected"
   ]
  },
  {
   "cell_type": "code",
   "execution_count": null,
   "metadata": {},
   "outputs": [],
   "source": [
    "qry = \"\"\" set role direccion_trabajo_inspections_write;\n",
    "    select *\n",
    "    from cleaned.inspected_matters_updatedbook\n",
    "    limit 3;\"\"\".format(\"'\" + id_company + \"'\")\n",
    "plsql.query(qry, engine)"
   ]
  },
  {
   "cell_type": "code",
   "execution_count": null,
   "metadata": {},
   "outputs": [],
   "source": [
    "qry = \"\"\" set role direccion_trabajo_inspections_write;\n",
    "    select matter_code, count(*) as count\n",
    "    from cleaned.inspected_matters_updatedbook\n",
    "    where rutempresamask = {}\n",
    "    group by matter_code\n",
    "    order by count desc;\"\"\".format(\"'\" + id_company + \"'\")\n",
    "plsql.query(qry, engine)"
   ]
  },
  {
   "cell_type": "code",
   "execution_count": null,
   "metadata": {},
   "outputs": [],
   "source": [
    "tab_matt.head()"
   ]
  },
  {
   "cell_type": "code",
   "execution_count": null,
   "metadata": {},
   "outputs": [],
   "source": [
    "qry = \"\"\"set role direccion_trabajo_inspections_write;\n",
    "    select rutempresamask, crae, grupoCodigoNormaInfra2_det,\n",
    "    date(agno || '-' || mesreg || '-01') as date   \n",
    "    from raw.inspections_complete\n",
    "    where rutempresamask = {};\"\"\".format(\"'\" + id_company + \"'\")\n",
    "df_infranorma = pd.read_sql_query(qry, engine)"
   ]
  },
  {
   "cell_type": "code",
   "execution_count": null,
   "metadata": {},
   "outputs": [],
   "source": []
  },
  {
   "cell_type": "markdown",
   "metadata": {},
   "source": []
  },
  {
   "cell_type": "code",
   "execution_count": null,
   "metadata": {},
   "outputs": [],
   "source": []
  },
  {
   "cell_type": "code",
   "execution_count": null,
   "metadata": {},
   "outputs": [],
   "source": []
  }
 ],
 "metadata": {
  "kernelspec": {
   "display_name": "Python 3",
   "language": "python",
   "name": "python3"
  },
  "language_info": {
   "codemirror_mode": {
    "name": "ipython",
    "version": 3
   },
   "file_extension": ".py",
   "mimetype": "text/x-python",
   "name": "python",
   "nbconvert_exporter": "python",
   "pygments_lexer": "ipython3",
   "version": "3.6.5"
  }
 },
 "nbformat": 4,
 "nbformat_minor": 2
}
