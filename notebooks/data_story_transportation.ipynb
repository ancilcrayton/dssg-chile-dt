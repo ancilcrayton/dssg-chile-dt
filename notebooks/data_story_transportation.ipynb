{
 "cells": [
  {
   "cell_type": "markdown",
   "metadata": {},
   "source": [
    "# Data Story: Company `a26f86c6ef...05c0750`"
   ]
  },
  {
   "cell_type": "code",
   "execution_count": null,
   "metadata": {},
   "outputs": [],
   "source": [
    "import sys\n",
    "sys.path.append('../')\n",
    "\n",
    "import pipeline.sql as plsql\n",
    "import eda.functions_datastory as funsds\n",
    "\n",
    "import pandas as pd\n",
    "from plotnine import *"
   ]
  },
  {
   "cell_type": "code",
   "execution_count": null,
   "metadata": {},
   "outputs": [],
   "source": [
    "engine = plsql.create_engine('../config.yaml')\n",
    "role = 'set role direccion_trabajo_inspections_write;'"
   ]
  },
  {
   "cell_type": "markdown",
   "metadata": {},
   "source": [
    "Let's look at the company with the most inspections."
   ]
  },
  {
   "cell_type": "code",
   "execution_count": null,
   "metadata": {},
   "outputs": [],
   "source": [
    "plsql.query(\"\"\"{}\n",
    "select rutempresamask, count(*) from raw.inspections_complete group by rutempresamask\n",
    "order by count desc limit 5;\"\"\".format(role), engine)"
   ]
  },
  {
   "cell_type": "markdown",
   "metadata": {},
   "source": [
    "The top company has had **7,639 inspections** in **ten years**."
   ]
  },
  {
   "cell_type": "code",
   "execution_count": null,
   "metadata": {},
   "outputs": [],
   "source": [
    "company = 'a26f86c6ef9fbb212858c435ae79a9a54546b9043def5e12907852f6c05c0750'"
   ]
  },
  {
   "cell_type": "code",
   "execution_count": null,
   "metadata": {},
   "outputs": [],
   "source": [
    "plsql.query(\"\"\"{}\n",
    "select sum(infra) as infractions, sum(cast(infractor as int)) as infractor, \n",
    "sum(case when solicitante = 'Por Programa' then 1 else 0 end) as proactive,\n",
    "sum(cast(urgencia as int)) as urgencia,\n",
    "sum(num_materias) as matters\n",
    "from raw.inspections_complete\n",
    "where rutempresamask = '{}';\n",
    "\"\"\".format(role, company), engine)"
   ]
  },
  {
   "cell_type": "code",
   "execution_count": null,
   "metadata": {},
   "outputs": [],
   "source": [
    "plsql.query(\"\"\"{} select crae, grae, ccae, gcae, num_sind, count(*)\n",
    "from raw.inspections_complete where rutempresamask = '{}' group by crae, grae, ccae, gcae, num_sind\n",
    "order by count desc;\"\"\".format(role, company), \n",
    "            engine)"
   ]
  },
  {
   "cell_type": "markdown",
   "metadata": {},
   "source": [
    "There's some variation in the industry codes used to describe the economic activities of this company, but the most common code is \"TRANSPORTE INTERURBANO DE PASAJEROS VÍA AUTOBUS\" or \"INTERIOR TRANSPORTATION OF PASSENGERS VIA BUS\". Other common codes include \"URBAN TRANSPORTATION OF PASSENGERS VIA BUS (COLLECTIVE LOCOMOTION)\", \"OTHER TYPES OF REGULAR TRANSPORTATION OF PASSENGERS BY TERRESTRIAL ROAD N.C.P.\", and \"CARGO FREIGHT TRANSPORTATION\". \n",
    "\n",
    "So, it appears that this company is a major corporation involved in **transportation of passengers and goods** and it is involved with many **unions**.\n",
    "\n",
    "One other think I noticed is that many inspections are labeled as \"Activities not specified\". Is this a result of laziness by inspectors, or versatility by this company?"
   ]
  },
  {
   "cell_type": "code",
   "execution_count": null,
   "metadata": {},
   "outputs": [],
   "source": [
    "df = plsql.query(\"\"\"{} select cast(region as int), count(*)\n",
    "from raw.inspections_complete where rutempresamask = '{}' group by region order by region;\"\"\".format(role, company), \n",
    "            engine)"
   ]
  },
  {
   "cell_type": "code",
   "execution_count": null,
   "metadata": {},
   "outputs": [],
   "source": [
    "(ggplot(df, aes('region', 'count') ) +\n",
    "    geom_bar(stat = 'identity', fill = \"purple\") +\n",
    "    scale_x_continuous(breaks = range(0, 16)) +\n",
    "    theme_bw() + \n",
    "    #coord_flip() +\n",
    "    ggtitle(\"Number of Inspections by Region\"))"
   ]
  },
  {
   "cell_type": "markdown",
   "metadata": {},
   "source": [
    "This company has locations all over Chile except in regions XI and XII, which are in the far south and the least populous of all of Chile's regions. There are the greatest number of inspections in regions II, V, XIII, and RM. Regions V, XIII, and RM are the most populous in Chile."
   ]
  },
  {
   "cell_type": "code",
   "execution_count": null,
   "metadata": {},
   "outputs": [],
   "source": [
    "df = plsql.query(\"\"\"{} select agno, sum(infra) as infra, sum(num_materias) as num_matters, \n",
    "sum(cast(infractor as int)) as infractor, count(*)\n",
    "from raw.inspections_complete where rutempresamask = '{}' group by agno order by agno;\"\"\".format(role, company), engine)"
   ]
  },
  {
   "cell_type": "code",
   "execution_count": null,
   "metadata": {},
   "outputs": [],
   "source": [
    "(ggplot(df, aes('agno', 'count')) + \n",
    "    geom_point() + \n",
    "    geom_line() + \n",
    "    geom_point(aes('agno', 'infractor'), color = 'red') +\n",
    "    geom_line(aes('agno', 'infractor'), color = 'red') +\n",
    "    theme_bw() + \n",
    "    theme(axis_text_x=element_text(angle=90)) +\n",
    "    ggtitle(\"Number of inspections over time\"))"
   ]
  },
  {
   "cell_type": "code",
   "execution_count": null,
   "metadata": {},
   "outputs": [],
   "source": [
    "df = plsql.query(\"\"\"{} select agno, region, sum(infra) as infra, sum(num_materias) as num_matters, \n",
    "sum(cast(infractor as int)) as infractor, count(*)\n",
    "from raw.inspections_complete where rutempresamask = '{}' group by agno, region\n",
    "order by agno, region;\"\"\".format(role, company), engine)"
   ]
  },
  {
   "cell_type": "code",
   "execution_count": null,
   "metadata": {},
   "outputs": [],
   "source": [
    "(ggplot(df, aes('agno', 'count')) + \n",
    "    #geom_point() + \n",
    "    geom_line() + \n",
    "    #geom_point(aes('agno', 'infractor'), color = 'red') +\n",
    "    geom_line(aes('agno', 'infractor'), color = 'red') +\n",
    "    theme_bw() + \n",
    "    theme(axis_text_x=element_text(angle=90)) +\n",
    "    facet_wrap('~region') +\n",
    "    ggtitle(\"Number of inspections over time\"))"
   ]
  },
  {
   "cell_type": "code",
   "execution_count": null,
   "metadata": {},
   "outputs": [],
   "source": [
    "df = plsql.query(\"\"\"{} select agno, sum(infra) as infra, sum(num_materias) as num_matters, count(*)\n",
    "from raw.inspections_complete where rutempresamask = '{}' and infractor = 'true' \n",
    "group by agno order by agno;\"\"\".format(role, company), engine)"
   ]
  },
  {
   "cell_type": "code",
   "execution_count": null,
   "metadata": {},
   "outputs": [],
   "source": [
    "(ggplot(df, aes('agno', 'num_matters')) + \n",
    "    geom_point() + \n",
    "    geom_line() + \n",
    "    geom_point(aes('agno', 'infra'), color = 'red') +\n",
    "    geom_line(aes('agno', 'infra'), color = 'red') +\n",
    "    theme_bw() + \n",
    "    theme(axis_text_x=element_text(angle=90)) +\n",
    "    ggtitle(\"Number of matters over time for inspections that result in infractions\"))"
   ]
  },
  {
   "cell_type": "markdown",
   "metadata": {},
   "source": [
    "We see that the number of inspections (and infractions) has decreased over time. Perhaps this company isn't as prevalent as it once was? Also, many inspections do not result in infractions. Maybe because this company transports passengers, it has many complaints."
   ]
  },
  {
   "cell_type": "code",
   "execution_count": null,
   "metadata": {},
   "outputs": [],
   "source": [
    "df = plsql.query(\"\"\"{} select agno, region, sum(infra) as infra, sum(num_materias) as num_matters, \n",
    "sum(cast(infractor as int)) as infractor, count(*)\n",
    "from raw.inspections_complete where rutempresamask = '{}' group by agno, region \n",
    "order by agno, region;\"\"\".format(role, company), engine)"
   ]
  },
  {
   "cell_type": "code",
   "execution_count": null,
   "metadata": {},
   "outputs": [],
   "source": [
    "(ggplot(df, aes('agno', 'num_matters')) + \n",
    "    #geom_point() + \n",
    "    geom_line() + \n",
    "    #geom_point(aes('agno', 'infra'), color = 'red') +\n",
    "    geom_line(aes('agno', 'infra'), color = 'red') +\n",
    "    theme_bw() + \n",
    "    theme(axis_text_x=element_text(angle=90)) +\n",
    "    facet_wrap('~region') +\n",
    "    ggtitle(\"Number of matters over time for inspections that result in infractions by region\"))"
   ]
  },
  {
   "cell_type": "code",
   "execution_count": null,
   "metadata": {},
   "outputs": [],
   "source": [
    "df = plsql.query(\"\"\"{} select agno, sum(case when solicitante = 'Por Programa' then 1 else 0 end) as proactive,\n",
    "sum(case when solicitante = 'Por Programa' then 0 else 1 end) as reactive,\n",
    "sum(infra) as infra, sum(num_materias) as num_matters, count(*)\n",
    "from raw.inspections_complete where rutempresamask = '{}' \n",
    "group by agno order by agno;\"\"\".format(role, company), engine)"
   ]
  },
  {
   "cell_type": "code",
   "execution_count": null,
   "metadata": {},
   "outputs": [],
   "source": [
    "(ggplot(df, aes('agno', 'count')) + \n",
    "    geom_point() + \n",
    "    geom_line() + \n",
    "    geom_point(aes('agno', 'reactive'), color = 'red') +\n",
    "    geom_line(aes('agno', 'reactive'), color = 'red') +\n",
    "    geom_point(aes('agno', 'proactive'), color = 'blue') +\n",
    "    geom_line(aes('agno', 'proactive'), color = 'blue') +\n",
    "    theme_bw() + \n",
    "    theme(axis_text_x=element_text(angle=90)) +\n",
    "    ggtitle(\"Number of total and proactive inspections over time\"))"
   ]
  },
  {
   "cell_type": "markdown",
   "metadata": {},
   "source": [
    "This is really surprising! I expected that the large number of inspections would have been caused by customer complaints, because this seems to be a passenger transportation company. However, we see that the vast majority of inspections have been **proactive, not reactive** (with the exception of in 2010). So, something else is happening here regarding the relationship between this company and DT."
   ]
  },
  {
   "cell_type": "code",
   "execution_count": null,
   "metadata": {},
   "outputs": [],
   "source": [
    "df = plsql.query(\"\"\"{} select cast(region as int), \n",
    "(case when solicitante = 'Por Programa' then 'proactive' else 'reactive' end) as proactive,\n",
    "sum(infra) as infra, sum(num_materias) as num_matters, count(*)\n",
    "from raw.inspections_complete where rutempresamask = '{}' \n",
    "group by region, proactive order by region;\"\"\".format(role, company), engine)"
   ]
  },
  {
   "cell_type": "code",
   "execution_count": null,
   "metadata": {},
   "outputs": [],
   "source": [
    "(ggplot(df, aes('region', 'count', fill = 'proactive')) +\n",
    "    geom_col(stat = 'identity', position = 'dodge') +\n",
    "    scale_x_continuous(breaks = range(0, 16)) +\n",
    "    theme_bw() + \n",
    "    #coord_flip() +\n",
    "    ggtitle(\"Number of Inspections by Region\"))"
   ]
  },
  {
   "cell_type": "code",
   "execution_count": null,
   "metadata": {},
   "outputs": [],
   "source": [
    "df = plsql.query(\"\"\"{} select agno, region, sum(case when solicitante = 'Por Programa' then 1 else 0 end) as proactive,\n",
    "sum(case when solicitante = 'Por Programa' then 0 else 1 end) as reactive,\n",
    "sum(infra) as infra, sum(num_materias) as num_matters, count(*)\n",
    "from raw.inspections_complete where rutempresamask = '{}' \n",
    "group by agno, region order by agno, region;\"\"\".format(role, company), engine)"
   ]
  },
  {
   "cell_type": "code",
   "execution_count": null,
   "metadata": {},
   "outputs": [],
   "source": [
    "(ggplot(df, aes('agno', 'count')) + \n",
    "    geom_line() + \n",
    "    geom_line(aes('agno', 'reactive'), color = 'red') +\n",
    "    geom_line(aes('agno', 'proactive'), color = 'blue') +\n",
    "    theme_bw() + \n",
    "    theme(axis_text_x=element_text(angle=90)) +\n",
    "    facet_wrap('~region') +\n",
    "    ggtitle(\"Number of total and proactive inspections over time by region\"))"
   ]
  },
  {
   "cell_type": "code",
   "execution_count": null,
   "metadata": {},
   "outputs": [],
   "source": [
    "df = plsql.query(\"\"\"{} select agno, sum(cast(urgencia as int)) as urgencia, sum(derechofund) as derechofund,\n",
    "sum(infra) as infra, sum(num_materias) as num_matters, count(*)\n",
    "from raw.inspections_complete where rutempresamask = '{}' \n",
    "group by agno order by agno;\"\"\".format(role, company), engine)"
   ]
  },
  {
   "cell_type": "code",
   "execution_count": null,
   "metadata": {},
   "outputs": [],
   "source": [
    "(ggplot(df, aes('agno', 'count')) + \n",
    "    geom_point() + \n",
    "    geom_line() + \n",
    "    geom_point(aes('agno', 'urgencia'), color = 'red') +\n",
    "    geom_line(aes('agno', 'urgencia'), color = 'red') +\n",
    "    theme_bw() + \n",
    "    theme(axis_text_x=element_text(angle=90)) +\n",
    "    ggtitle(\"Inspections that are urgent over time\"))"
   ]
  },
  {
   "cell_type": "code",
   "execution_count": null,
   "metadata": {},
   "outputs": [],
   "source": [
    "df = plsql.query(\"\"\"{} select agno, region, sum(cast(urgencia as int)) as urgencia, sum(derechofund) as derechofund,\n",
    "sum(infra) as infra, sum(num_materias) as num_matters, count(*)\n",
    "from raw.inspections_complete where rutempresamask = '{}' \n",
    "group by agno, region order by agno;\"\"\".format(role, company), engine)"
   ]
  },
  {
   "cell_type": "code",
   "execution_count": null,
   "metadata": {},
   "outputs": [],
   "source": [
    "(ggplot(df, aes('agno', 'count')) + \n",
    "    geom_line() + \n",
    "    geom_line(aes('agno', 'urgencia'), color = 'red') +\n",
    "    theme_bw() + \n",
    "    theme(axis_text_x=element_text(angle=90)) +\n",
    "    facet_wrap('~region') +\n",
    "    ggtitle(\"Inspections that are urgent over time\"))"
   ]
  },
  {
   "cell_type": "code",
   "execution_count": null,
   "metadata": {},
   "outputs": [],
   "source": [
    "plsql.query(\"\"\"{} select cast(matter_code as int), count(*)\n",
    "from cleaned.violations where rutempresamask = '{}' and matter_code != '99' group by matter_code\n",
    "order by count desc;\"\"\".format(role, company), engine)"
   ]
  },
  {
   "cell_type": "markdown",
   "metadata": {},
   "source": [
    "The most common non-null violation code is 10, which corresponds with \"JORNADA Y DESCANSOS\" or \"DAY AND BREAKS\", which presumably is related to workers getting appropriate hours. Other common violations include \"REMUNERATIONS\" and \"HYGIENE AND SECURITY\". "
   ]
  },
  {
   "cell_type": "code",
   "execution_count": null,
   "metadata": {},
   "outputs": [],
   "source": [
    "plsql.query(\"\"\"{} select cast(matter_code as int), count(*)\n",
    "from cleaned.complaints where rutempresamask = '{}' and matter_code != '99' group by matter_code\n",
    "order by count desc;\"\"\".format(role, company), engine)"
   ]
  },
  {
   "cell_type": "markdown",
   "metadata": {},
   "source": [
    "The matters most often complained about are \"DAY AND BREAKS\", \"HYGIENE AND SECURITY\" and \"REMUNERATIONS\". These are the same as the matters violated, but in a different order."
   ]
  },
  {
   "cell_type": "code",
   "execution_count": null,
   "metadata": {},
   "outputs": [],
   "source": [
    "plsql.query(\"\"\"{} select cast(matter_code as int), count(*)\n",
    "from cleaned.inspected_matters where rutempresamask = '{}' and matter_code != '99' group by matter_code\n",
    "order by count desc;\"\"\".format(role, company), engine)"
   ]
  },
  {
   "cell_type": "markdown",
   "metadata": {},
   "source": [
    "The most common inspected matters are \"REMUNERATIONS\", \"THE WORKING DAY\", \"INDIVIDUAL WORK CONTRACT\", and \"PROTECTION OF LIFE AND HEALTH OF WORKERS\". Across the violated, complained, and inspected matters, there is a focus on worker rights and conditions. This is consistent with my idea of a bus company, as I'd expect bus drivers to work odd hours with possibly short-term contracts."
   ]
  },
  {
   "cell_type": "code",
   "execution_count": null,
   "metadata": {},
   "outputs": [],
   "source": [
    "df = plsql.query(\"\"\"{} select agno, ntrabajadores, actividadeconomica \n",
    "from raw.taxes where rutmask = '{}'\"\"\".format(role, company), engine)"
   ]
  },
  {
   "cell_type": "code",
   "execution_count": null,
   "metadata": {},
   "outputs": [],
   "source": [
    "(ggplot(df, aes('agno', 'ntrabajadores')) + \n",
    "    geom_point() + \n",
    "    geom_line() + \n",
    "    theme_bw() + \n",
    "    theme(axis_text_x=element_text(angle=90)) +\n",
    "    ggtitle(\"Number of employees over time\") + \n",
    "    ylim((0, 8700))\n",
    ")"
   ]
  },
  {
   "cell_type": "markdown",
   "metadata": {},
   "source": [
    "The number of employees over time for this company gives results consistent with previous assumptions: it's a large company that employs many people, and it seems like its prevalence has been declining slightly over the past ten years (the company has shrunk by around 1000 employees)."
   ]
  },
  {
   "cell_type": "code",
   "execution_count": null,
   "metadata": {},
   "outputs": [],
   "source": [
    "eds.time_graphs(engine, company)"
   ]
  },
  {
   "cell_type": "code",
   "execution_count": null,
   "metadata": {},
   "outputs": [],
   "source": [
    "plsql.query(\"{} select calle, numero from raw.taxes where rutmask = '{}';\".format(role, company), engine)"
   ]
  },
  {
   "cell_type": "markdown",
   "metadata": {},
   "source": [
    "## Functions Data Story"
   ]
  },
  {
   "cell_type": "code",
   "execution_count": null,
   "metadata": {},
   "outputs": [],
   "source": [
    "role = 'direccion_trabajo_inspections_write'\n",
    "id_company = 'a26f86c6ef9fbb212858c435ae79a9a54546b9043def5e12907852f6c05c0750'\n",
    "id_company"
   ]
  },
  {
   "cell_type": "code",
   "execution_count": null,
   "metadata": {},
   "outputs": [],
   "source": [
    "funsds.facility_info(engine = engine, id_company = id_company)"
   ]
  },
  {
   "cell_type": "code",
   "execution_count": null,
   "metadata": {},
   "outputs": [],
   "source": [
    "funsds.time_graphs(engine = engine, id_company = id_company)"
   ]
  },
  {
   "cell_type": "code",
   "execution_count": null,
   "metadata": {},
   "outputs": [],
   "source": [
    "tab_result = funsds.freq_matters_bookupdated(engine, role, id_company)\n",
    "tab_result.head()"
   ]
  },
  {
   "cell_type": "code",
   "execution_count": null,
   "metadata": {},
   "outputs": [],
   "source": [
    "funsds.text_wordcloud_matters(tab_result)"
   ]
  },
  {
   "cell_type": "code",
   "execution_count": null,
   "metadata": {},
   "outputs": [],
   "source": []
  }
 ],
 "metadata": {
  "kernelspec": {
   "display_name": "Python 3",
   "language": "python",
   "name": "python3"
  },
  "language_info": {
   "codemirror_mode": {
    "name": "ipython",
    "version": 3
   },
   "file_extension": ".py",
   "mimetype": "text/x-python",
   "name": "python",
   "nbconvert_exporter": "python",
   "pygments_lexer": "ipython3",
   "version": "3.6.5"
  }
 },
 "nbformat": 4,
 "nbformat_minor": 2
}
