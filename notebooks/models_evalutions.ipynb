{
 "cells": [
  {
   "cell_type": "code",
   "execution_count": null,
   "metadata": {},
   "outputs": [],
   "source": []
  },
  {
   "cell_type": "code",
   "execution_count": null,
   "metadata": {},
   "outputs": [],
   "source": [
    "import sys\n",
    "sys.path.append('../')\n",
    "\n",
    "import utils.evaluation as ueva\n",
    "import pipeline.sql as plsql\n",
    "\n",
    "import pandas as pd\n",
    "import numpy as np\n",
    "\n",
    "import matplotlib.pyplot as plt\n",
    "%matplotlib inline\n",
    "\n",
    "from plotnine import *\n",
    "theme_set(theme_bw())"
   ]
  },
  {
   "cell_type": "code",
   "execution_count": null,
   "metadata": {},
   "outputs": [],
   "source": [
    "engine = plsql.create_engine('../config.yaml')\n",
    "role = 'direccion_trabajo_inspections_write'"
   ]
  },
  {
   "cell_type": "code",
   "execution_count": null,
   "metadata": {},
   "outputs": [],
   "source": [
    "# Model ID graphs\n",
    "# This is in the pipeline\n",
    "#pleva.model_id_graphs(141, role, engine, \"\")"
   ]
  },
  {
   "cell_type": "code",
   "execution_count": null,
   "metadata": {},
   "outputs": [],
   "source": [
    "model_group_list = [str(x) for x in range(139, 400)]\n",
    "cutoff_list = [str(x) for x in [2000, 3000, 4000]]\n",
    "model_group_list[0]"
   ]
  },
  {
   "cell_type": "code",
   "execution_count": null,
   "metadata": {},
   "outputs": [],
   "source": [
    "model_group_list[0]"
   ]
  },
  {
   "cell_type": "code",
   "execution_count": null,
   "metadata": {},
   "outputs": [],
   "source": [
    "# Model Group graphs\n",
    "ueva.model_group_id_graphs(model_group_list, cutoff_list,  role, engine)"
   ]
  },
  {
   "cell_type": "code",
   "execution_count": null,
   "metadata": {},
   "outputs": [],
   "source": []
  },
  {
   "cell_type": "code",
   "execution_count": null,
   "metadata": {},
   "outputs": [],
   "source": [
    "#select model_group_id from results.model_groups order by model_group_id desc limit 15;"
   ]
  },
  {
   "cell_type": "code",
   "execution_count": null,
   "metadata": {},
   "outputs": [],
   "source": [
    "pleva.comp_modelid_jaccard_scores(353, 354, 2000, role, engine)"
   ]
  },
  {
   "cell_type": "code",
   "execution_count": null,
   "metadata": {},
   "outputs": [],
   "source": []
  },
  {
   "cell_type": "code",
   "execution_count": null,
   "metadata": {},
   "outputs": [],
   "source": [
    "qry = \"\"\"\n",
    "SET ROLE {};\n",
    "SELECT \n",
    "    model_group_id,\n",
    "    model_type,\n",
    "    metric_name,\n",
    "    null_par,\n",
    "    AVG(value) as avg, \n",
    "    stddev(value) as sd\n",
    "FROM results.view_modelgroup \n",
    "WHERE cutoff = '2000' AND \n",
    "    metric_name = 'precision' AND\n",
    "    null_par = 'all'\n",
    "GROUP BY model_group_id, metric_name, null_par, model_type\n",
    "ORDER BY avg desc, sd asc;\n",
    "\"\"\".format(role)\n",
    "df = pd.read_sql_query(qry, engine)"
   ]
  },
  {
   "cell_type": "code",
   "execution_count": null,
   "metadata": {},
   "outputs": [],
   "source": [
    "df[19:29]"
   ]
  },
  {
   "cell_type": "code",
   "execution_count": null,
   "metadata": {},
   "outputs": [],
   "source": []
  },
  {
   "cell_type": "code",
   "execution_count": null,
   "metadata": {},
   "outputs": [],
   "source": []
  },
  {
   "cell_type": "code",
   "execution_count": null,
   "metadata": {},
   "outputs": [],
   "source": [
    "group_ins = '282'\n",
    "group_vio = '540'\n",
    "\n",
    "qry = \"\"\"SET ROLE {}; \n",
    "    SELECT * \n",
    "    FROM \n",
    "        (SELECT entity_id, \n",
    "            score as score_ins, \n",
    "            label_value as label_value_ins, \n",
    "            as_of_date as as_of_date_ins\n",
    "        FROM results.predictions\n",
    "        WHERE model_id = '{group_ins}') i\n",
    "    INNER JOIN\n",
    "        (SELECT entity_id, \n",
    "            score AS score_vio, \n",
    "            CASE WHEN label_value IS NULL THEN 'not inspected' \n",
    "                ELSE cast(label_value as VARCHAR) \n",
    "                END AS label_value_vio, \n",
    "            as_of_date AS as_of_date_vio\n",
    "        FROM results.predictions\n",
    "        WHERE model_id = '{group_vio}') v\n",
    "    ON i.entity_id = v.entity_id;\n",
    "    \"\"\".format(role, \n",
    "               group_ins = group_ins, \n",
    "               group_vio = group_vio)\n",
    "df = pd.read_sql_query(qry, engine)\n",
    "## order the features\n",
    "order_features = df.label_value_vio.unique().tolist()\n",
    "df['violation'] = df.label_value_vio.astype('category', \n",
    "                                ordered = True,\n",
    "                                categories = order_features)\n",
    "(ggplot(df, aes(x = 'score_ins', \n",
    "                y = 'score_vio')) + \n",
    "    geom_point(alpha = .1, size = 2) +\n",
    "    #scale_color_manual(values=('gray', 'salmon', 'green')) + \n",
    "    xlab('Inspection score') + \n",
    "    ylab('Violation score'))"
   ]
  },
  {
   "cell_type": "code",
   "execution_count": null,
   "metadata": {},
   "outputs": [],
   "source": []
  },
  {
   "cell_type": "code",
   "execution_count": null,
   "metadata": {},
   "outputs": [],
   "source": [
    "df.head()"
   ]
  },
  {
   "cell_type": "code",
   "execution_count": null,
   "metadata": {},
   "outputs": [],
   "source": []
  },
  {
   "cell_type": "code",
   "execution_count": null,
   "metadata": {},
   "outputs": [],
   "source": [
    "#df['label_value_vio'][pd.isna(df['label_value_vio'])] = 'Never inspected'\n",
    "#df_rep = df.replace([None], ['Never inspected'])\n"
   ]
  },
  {
   "cell_type": "code",
   "execution_count": null,
   "metadata": {},
   "outputs": [],
   "source": []
  },
  {
   "cell_type": "code",
   "execution_count": null,
   "metadata": {},
   "outputs": [],
   "source": [
    "## create categorical version for graph\n"
   ]
  },
  {
   "cell_type": "code",
   "execution_count": null,
   "metadata": {},
   "outputs": [],
   "source": []
  },
  {
   "cell_type": "code",
   "execution_count": null,
   "metadata": {},
   "outputs": [],
   "source": []
  },
  {
   "cell_type": "code",
   "execution_count": null,
   "metadata": {},
   "outputs": [],
   "source": []
  },
  {
   "cell_type": "code",
   "execution_count": null,
   "metadata": {},
   "outputs": [],
   "source": []
  },
  {
   "cell_type": "code",
   "execution_count": null,
   "metadata": {},
   "outputs": [],
   "source": []
  },
  {
   "cell_type": "code",
   "execution_count": null,
   "metadata": {},
   "outputs": [],
   "source": []
  },
  {
   "cell_type": "code",
   "execution_count": null,
   "metadata": {},
   "outputs": [],
   "source": [
    "#groupid_metricat_eval_time(role, engine, group_ins, group_vio metric_name = 'precision', cutoff = 2000)\n",
    "#model_id, as_of_date, entity_id, score,\n",
    "#        model_group_id, s.model_type, s.label\n",
    "#model_group_id, model_id, a.model_type, a.label\n",
    "group_ins = '282'\n",
    "group_vio = '196'\n",
    "\n",
    "def comp_modelid_inspections_violations(model_id_ins, model_group_id_vio):\n",
    "\n",
    "qry = \"\"\"set role {}; \n",
    "    select *\n",
    "    from results.predictions \n",
    "\tleft join \n",
    "\t\t(select *\n",
    "\t\tfrom results.models \n",
    "\t   \tleft join \n",
    "\t\t\t(select model_group_id, model_type, label\n",
    "\t    \tfrom results.model_groups) a\n",
    "\t  \tusing (model_group_id)) s\n",
    "\tusing (model_id) \n",
    "   \twhere model_id in ({model_id});\n",
    "    \"\"\".format(role, model_group_id = ', '.join([group_ins, group_vio]))\n",
    "qry\n",
    "df = pd.read_sql_query(qry, engine)\n",
    "\n",
    "tab = df.loc[:, [\"entity_id\", \"label\", \"score\"]].reset_index()\n",
    "tabc = tab.pivot_table(index=['entity_id'], columns='label', values='score').reset_index()\n",
    "\n",
    "(ggplot(tabc, aes(x = 'inspected', y = 'infractor')) + \n",
    "    geom_point(alpha = .5) +\n",
    "    xlab('Inspection score\\n'.format(model_id_ins)) + \n",
    "    ylab('Violation score'.format(model_id_vio)))\n",
    "\n"
   ]
  },
  {
   "cell_type": "code",
   "execution_count": null,
   "metadata": {},
   "outputs": [],
   "source": [
    "df.head()"
   ]
  },
  {
   "cell_type": "code",
   "execution_count": null,
   "metadata": {},
   "outputs": [],
   "source": []
  },
  {
   "cell_type": "code",
   "execution_count": null,
   "metadata": {},
   "outputs": [],
   "source": [
    "#tab_label = df[tab['label'] == 'infractor'].reset_index()\n",
    "#tab_label['violation label'] = tab_label.label_value\n",
    "#tabc.merge(tab_label[['entity_id', 'violation label']], left_on = 'entity_id', right_on = 'entity_id')\n"
   ]
  },
  {
   "cell_type": "code",
   "execution_count": null,
   "metadata": {},
   "outputs": [],
   "source": []
  },
  {
   "cell_type": "code",
   "execution_count": null,
   "metadata": {},
   "outputs": [],
   "source": [
    "qry = \"\"\"\n",
    "SET ROLE direccion_trabajo_inspections_write;\n",
    "select random_feature, infractor\n",
    "from staging.train_monthly_split_20120201_20120301;\n",
    "\"\"\"\n",
    "df = plsql.query(qry, engine)"
   ]
  },
  {
   "cell_type": "code",
   "execution_count": null,
   "metadata": {},
   "outputs": [],
   "source": [
    "#(qplot(x = df.infractor, y = df.random_feature))\n",
    "(ggplot(df, aes(x = 'infractor', y = 'random_feature')) + \n",
    "    geom_boxplot())"
   ]
  },
  {
   "cell_type": "code",
   "execution_count": null,
   "metadata": {},
   "outputs": [],
   "source": []
  },
  {
   "cell_type": "code",
   "execution_count": null,
   "metadata": {},
   "outputs": [],
   "source": []
  },
  {
   "cell_type": "code",
   "execution_count": null,
   "metadata": {},
   "outputs": [],
   "source": []
  },
  {
   "cell_type": "code",
   "execution_count": null,
   "metadata": {},
   "outputs": [],
   "source": []
  },
  {
   "cell_type": "code",
   "execution_count": null,
   "metadata": {},
   "outputs": [],
   "source": []
  },
  {
   "cell_type": "code",
   "execution_count": null,
   "metadata": {},
   "outputs": [],
   "source": []
  },
  {
   "cell_type": "code",
   "execution_count": null,
   "metadata": {},
   "outputs": [],
   "source": []
  }
 ],
 "metadata": {
  "kernelspec": {
   "display_name": "Python 3",
   "language": "python",
   "name": "python3"
  },
  "language_info": {
   "codemirror_mode": {
    "name": "ipython",
    "version": 3
   },
   "file_extension": ".py",
   "mimetype": "text/x-python",
   "name": "python",
   "nbconvert_exporter": "python",
   "pygments_lexer": "ipython3",
   "version": "3.6.5"
  }
 },
 "nbformat": 4,
 "nbformat_minor": 2
}
