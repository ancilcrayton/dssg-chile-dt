{
 "cells": [
  {
   "cell_type": "markdown",
   "metadata": {},
   "source": [
    "Social Security "
   ]
  },
  {
   "cell_type": "code",
   "execution_count": null,
   "metadata": {},
   "outputs": [],
   "source": [
    "import sys\n",
    "sys.path.append('../')\n",
    "\n",
    "import pipeline.sql as plsql\n",
    "import pipeline.eda as pleda\n",
    "\n",
    "import eda.functions_datastory as edads\n",
    "\n",
    "import numpy as np\n",
    "import pandas as pd\n",
    "from plotnine import *\n",
    "\n",
    "engine = plsql.create_engine('../config.yaml')\n",
    "role = 'direccion_trabajo_inspections_write'"
   ]
  },
  {
   "cell_type": "code",
   "execution_count": null,
   "metadata": {},
   "outputs": [],
   "source": [
    "qry = \"\"\"set role direccion_trabajo_inspections_write;\n",
    "    select *\n",
    "    from cleaned.social\n",
    "    limit 3;\"\"\"\n",
    "df = plsql.query(qry, engine)\n",
    "df.columns"
   ]
  },
  {
   "cell_type": "code",
   "execution_count": null,
   "metadata": {},
   "outputs": [],
   "source": [
    "tt = pleda.total_rows(engine, role, 'cleaned', 'social')"
   ]
  },
  {
   "cell_type": "code",
   "execution_count": null,
   "metadata": {},
   "outputs": [],
   "source": [
    "# Distinct values\n",
    "vars_selec = ['razonsocialmask', 'rutempleadormask', 'nombredelafiliadomask']\n",
    "for i in vars_selec:\n",
    "    print(pleda.count_distinct(engine, role, 'cleaned', 'social', i))"
   ]
  },
  {
   "cell_type": "code",
   "execution_count": null,
   "metadata": {},
   "outputs": [],
   "source": [
    "for i in vars_selec:\n",
    "    print(pleda.count_nulls(engine, role, 'cleaned', 'social', i))"
   ]
  },
  {
   "cell_type": "code",
   "execution_count": null,
   "metadata": {},
   "outputs": [],
   "source": [
    "# Compared to taxes\n",
    "print(pleda.count_distinct(engine, role, 'raw', 'taxes', 'razonsocialmask'))\n",
    "print(pleda.count_distinct(engine, role, 'raw', 'taxes', 'rutmask'))"
   ]
  },
  {
   "cell_type": "code",
   "execution_count": null,
   "metadata": {},
   "outputs": [],
   "source": [
    "# Compared to inspections\n",
    "print(pleda.count_distinct(engine, role, 'raw', 'inspections_complete', 'rutempresamask'))"
   ]
  },
  {
   "cell_type": "code",
   "execution_count": null,
   "metadata": {},
   "outputs": [],
   "source": []
  },
  {
   "cell_type": "code",
   "execution_count": null,
   "metadata": {},
   "outputs": [],
   "source": [
    "pleda.proportion_nulls(engine, role, 'raw', 'social', 'administradora')"
   ]
  },
  {
   "cell_type": "code",
   "execution_count": null,
   "metadata": {},
   "outputs": [],
   "source": [
    "for i in df.columns:\n",
    "    tt = pleda.rows_by_group(engine, role, 'cleaned', 'social', i)\n",
    "    print( tt.dtypes )\n",
    "    print( tt )"
   ]
  },
  {
   "cell_type": "code",
   "execution_count": null,
   "metadata": {},
   "outputs": [],
   "source": [
    "df_propnull = pleda.proportion_nulls_all_columns(engine, role, 'cleaned', 'social')\n",
    "(ggplot(df_propnull, aes(x = 'column_name', y = '1', fill = 'proportion')) + \n",
    "    geom_tile() + \n",
    "    theme(axis_text_x = element_text(angle = 90),\n",
    "          figure_size = (7, 2)) + \n",
    "    ggtitle(\"Social Security Dataset\"))"
   ]
  },
  {
   "cell_type": "code",
   "execution_count": null,
   "metadata": {},
   "outputs": [],
   "source": [
    "df_propnull = pleda.proportion_nulls_all_columns(engine, role, 'raw', 'taxes')\n",
    "(ggplot(df_propnull, aes(x = 'column_name', y = '1', fill = 'proportion')) + \n",
    "    geom_tile() + \n",
    "    theme(axis_text_x = element_text(angle = 90),\n",
    "          figure_size = (6, 2))+ \n",
    "    ggtitle(\"Taxes Dataset\") )"
   ]
  },
  {
   "cell_type": "code",
   "execution_count": null,
   "metadata": {},
   "outputs": [],
   "source": [
    "df_propnull = pleda.proportion_nulls_all_columns(engine, role, 'raw', 'inspections_complete')\n",
    "(ggplot(df_propnull, aes(x = 'column_name', y = '1', fill = 'proportion')) + \n",
    "    geom_tile() + \n",
    "    theme(axis_text_x = element_text(angle = 90),\n",
    "          figure_size = (10, 2)) + \n",
    "    ggtitle(\"Inspections Complete Dataset\"))"
   ]
  },
  {
   "cell_type": "code",
   "execution_count": null,
   "metadata": {},
   "outputs": [],
   "source": []
  },
  {
   "cell_type": "code",
   "execution_count": null,
   "metadata": {},
   "outputs": [],
   "source": [
    "df_propnull[df_propnull['column_name'] == 'fechapago']"
   ]
  },
  {
   "cell_type": "markdown",
   "metadata": {},
   "source": [
    "Union de tablas"
   ]
  },
  {
   "cell_type": "code",
   "execution_count": null,
   "metadata": {},
   "outputs": [],
   "source": [
    "def rutmask_fun(mask, schema, table):\n",
    "    qry = \"\"\"set role direccion_trabajo_inspections_write;\n",
    "    select {}, count(*) \n",
    "    from {}.{} \n",
    "    group by {};\"\"\".format(mask, schema, table, mask)\n",
    "    result = plsql.query(qry, engine)\n",
    "    return result"
   ]
  },
  {
   "cell_type": "code",
   "execution_count": null,
   "metadata": {},
   "outputs": [],
   "source": [
    "# Social\n",
    "massoc_soc = rutmask_fun('razonsocialmask', 'cleaned', 'social')\n",
    "masemp_soc = rutmask_fun('rutempleadormask', 'cleaned', 'social')\n",
    "masafi_soc = rutmask_fun('rutafiliadomask', 'cleaned', 'social')\n",
    "masnom_soc = rutmask_fun('nombredelafiliadomask', 'cleaned', 'social')\n",
    "\n",
    "# Taxes\n",
    "massoc_tax = rutmask_fun('razonsocialmask', 'raw', 'taxes')\n",
    "masrut_tax = rutmask_fun('rutmask', 'raw', 'taxes')\n",
    "\n",
    "# Inspections\n",
    "masemp_insp = rutmask_fun('rutempresamask', 'raw', 'inspections_complete')"
   ]
  },
  {
   "cell_type": "code",
   "execution_count": null,
   "metadata": {},
   "outputs": [],
   "source": [
    "print(massoc_soc.shape)\n",
    "print(masemp_soc.shape)\n",
    "print(masafi_soc.shape)\n",
    "print(masnom_soc.shape)"
   ]
  },
  {
   "cell_type": "markdown",
   "metadata": {},
   "source": [
    "Three datasets joined"
   ]
  },
  {
   "cell_type": "code",
   "execution_count": null,
   "metadata": {},
   "outputs": [],
   "source": [
    "tt = masemp_soc.merge(masrut_tax, left_on='rutempleadormask', right_on='rutmask')\n",
    "tt2 = tt.merge(masemp_insp, left_on='rutmask', right_on='rutempresamask')"
   ]
  },
  {
   "cell_type": "code",
   "execution_count": null,
   "metadata": {},
   "outputs": [],
   "source": [
    "tt2.shape"
   ]
  },
  {
   "cell_type": "markdown",
   "metadata": {},
   "source": [
    "Pairs merged"
   ]
  },
  {
   "cell_type": "code",
   "execution_count": null,
   "metadata": {},
   "outputs": [],
   "source": [
    "# Social - Taxes\n",
    "print(massoc_soc.merge(massoc_tax, left_on='razonsocialmask', right_on='razonsocialmask').shape)\n",
    "print(masemp_soc.merge(massoc_tax, left_on='rutempleadormask', right_on='razonsocialmask').shape)\n",
    "print(masafi_soc.merge(massoc_tax, left_on='rutafiliadomask', right_on='razonsocialmask').shape)\n",
    "print(masnom_soc.merge(massoc_tax, left_on='nombredelafiliadomask', right_on='razonsocialmask').shape)"
   ]
  },
  {
   "cell_type": "code",
   "execution_count": null,
   "metadata": {},
   "outputs": [],
   "source": [
    "print(massoc_soc.merge(masrut_tax, left_on='razonsocialmask', right_on='rutmask').shape)\n",
    "print(masemp_soc.merge(masrut_tax, left_on='rutempleadormask', right_on='rutmask').shape)\n",
    "print(masafi_soc.merge(masrut_tax, left_on='rutafiliadomask', right_on='rutmask').shape)\n",
    "print(masnom_soc.merge(masrut_tax, left_on='nombredelafiliadomask', right_on='rutmask').shape)"
   ]
  },
  {
   "cell_type": "code",
   "execution_count": null,
   "metadata": {},
   "outputs": [],
   "source": [
    "# Social - Inspections\n",
    "print(massoc_soc.merge(masemp_insp, left_on='razonsocialmask', right_on='rutempresamask', how='inner').shape)\n",
    "print(masemp_soc.merge(masemp_insp, left_on='rutempleadormask', right_on='rutempresamask', how='inner').shape)\n",
    "print(masafi_soc.merge(masemp_insp, left_on='rutafiliadomask', right_on='rutempresamask', how='inner').shape)\n",
    "print(masnom_soc.merge(masemp_insp, left_on='nombredelafiliadomask', right_on='rutempresamask', how='inner').shape)"
   ]
  },
  {
   "cell_type": "code",
   "execution_count": null,
   "metadata": {},
   "outputs": [],
   "source": [
    "print(masemp_insp.shape)\n",
    "print(masrut_tax.shape)\n",
    "print(masemp_insp.merge(masrut_tax, left_on='rutempresamask', right_on='rutmask', how='inner').shape)\n",
    "print(masemp_insp.merge(massoc_tax, left_on='rutempresamask', right_on='razonsocialmask', how='inner').shape)"
   ]
  },
  {
   "cell_type": "markdown",
   "metadata": {},
   "source": [
    "Story of one company"
   ]
  },
  {
   "cell_type": "code",
   "execution_count": null,
   "metadata": {},
   "outputs": [],
   "source": [
    "# tt2[\"rutmask\"][1802]\n",
    "# id_company = 'ab19b49ba5d811743b7c2239014ef41c9164fa0b931e950f6358a00925791597'\n",
    "# id_company = tt2[\"rutmask\"][9262]\n",
    "id_company = '4b2b6b965944e652b08af06b031e020ce5dc4b66598a18c53e0ca9e8a9fa1322'\n",
    "id_company"
   ]
  },
  {
   "cell_type": "code",
   "execution_count": null,
   "metadata": {},
   "outputs": [],
   "source": [
    "edads.facility_info(engine, id_company)"
   ]
  },
  {
   "cell_type": "code",
   "execution_count": null,
   "metadata": {},
   "outputs": [],
   "source": [
    "edads.time_graphs(engine, id_company)"
   ]
  },
  {
   "cell_type": "code",
   "execution_count": null,
   "metadata": {},
   "outputs": [],
   "source": [
    "edads.economicactivity_info(engine, id_company)"
   ]
  },
  {
   "cell_type": "code",
   "execution_count": null,
   "metadata": {},
   "outputs": [],
   "source": []
  },
  {
   "cell_type": "code",
   "execution_count": null,
   "metadata": {},
   "outputs": [],
   "source": []
  }
 ],
 "metadata": {
  "kernelspec": {
   "display_name": "Python 3",
   "language": "python",
   "name": "python3"
  },
  "language_info": {
   "codemirror_mode": {
    "name": "ipython",
    "version": 3
   },
   "file_extension": ".py",
   "mimetype": "text/x-python",
   "name": "python",
   "nbconvert_exporter": "python",
   "pygments_lexer": "ipython3",
   "version": "3.6.5"
  }
 },
 "nbformat": 4,
 "nbformat_minor": 2
}
