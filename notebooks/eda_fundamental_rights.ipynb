{
 "cells": [
  {
   "cell_type": "markdown",
   "metadata": {},
   "source": [
    "# Investigation of violations related to Fundamental Rights"
   ]
  },
  {
   "cell_type": "markdown",
   "metadata": {},
   "source": [
    "Overall takeaway: there is nothing obvious or shocking in these variables, as far as I can tell."
   ]
  },
  {
   "cell_type": "code",
   "execution_count": null,
   "metadata": {},
   "outputs": [],
   "source": [
    "import sys\n",
    "sys.path.append('../')\n",
    "import pipeline.sql as plsql\n",
    "import functions_datastory as fds"
   ]
  },
  {
   "cell_type": "code",
   "execution_count": null,
   "metadata": {},
   "outputs": [],
   "source": [
    "engine = plsql.create_engine('../config.yaml')\n",
    "role = 'set role direccion_trabajo_inspections_write;'"
   ]
  },
  {
   "cell_type": "code",
   "execution_count": null,
   "metadata": {},
   "outputs": [],
   "source": [
    "def get_taxes_tab(role, company, engine):\n",
    "    return plsql.query(\"\"\"{} select agno, ntrabajadores, rubro, subrubro, actividadeconomica, region from raw.taxes\n",
    "    where rutmask = '{}' order by agno;\"\"\".format(role, company), engine)"
   ]
  },
  {
   "cell_type": "code",
   "execution_count": null,
   "metadata": {},
   "outputs": [],
   "source": [
    "def pretty_print(bad_string, sep):\n",
    "    s = str(bad_string).split(sep)\n",
    "    for i in range(len(s)):\n",
    "        s[i] = s[i].strip()\n",
    "        print(s[i])\n",
    "\n",
    "def get_violation(df, ind):\n",
    "    print(\"\")\n",
    "    pretty_print(df.grupoglosatipomaterias[ind], ',')\n",
    "    pretty_print(df.grupoglosainfra[ind], ',')\n",
    "    pretty_print(df.grupoglosainfra_det[ind], '||')"
   ]
  },
  {
   "cell_type": "markdown",
   "metadata": {},
   "source": [
    "How many inspections have resulted in violations of fundamental rights?"
   ]
  },
  {
   "cell_type": "code",
   "execution_count": null,
   "metadata": {},
   "outputs": [],
   "source": [
    "plsql.query(\"\"\"{} select count(*) from raw.inspections_complete where derechofund != 0;\"\"\".format(role), engine)"
   ]
  },
  {
   "cell_type": "code",
   "execution_count": null,
   "metadata": {},
   "outputs": [],
   "source": [
    "df = plsql.query(\"\"\"{} select *\n",
    "from raw.inspections_complete where derechofund != 0;\"\"\".format(role), engine)\n",
    "df"
   ]
  },
  {
   "cell_type": "markdown",
   "metadata": {},
   "source": [
    "All of these inspections were considered \"urgent\", and all were reactive."
   ]
  },
  {
   "cell_type": "markdown",
   "metadata": {},
   "source": [
    "## August 8, 2011\n",
    "\n",
    "This facility is in region XV and its industry is construction. There are 26 employees at this facility.\n",
    "\n",
    "Two infractions were found. It did not result in a fine."
   ]
  },
  {
   "cell_type": "code",
   "execution_count": null,
   "metadata": {},
   "outputs": [],
   "source": [
    "company = '2ca6715b0d57dbfc9734ae9882719a1b4c85f9010448ca9d51647facd2956d16'\n",
    "date = '2011-08-2017'"
   ]
  },
  {
   "cell_type": "code",
   "execution_count": null,
   "metadata": {},
   "outputs": [],
   "source": [
    "fds.facility_info(engine, company)"
   ]
  },
  {
   "cell_type": "code",
   "execution_count": null,
   "metadata": {},
   "outputs": [],
   "source": [
    "fds.time_graphs(engine, company)"
   ]
  },
  {
   "cell_type": "code",
   "execution_count": null,
   "metadata": {},
   "outputs": [],
   "source": [
    "get_taxes_tab(role, company, engine)"
   ]
  },
  {
   "cell_type": "markdown",
   "metadata": {},
   "source": [
    "This company has existed throughout the span of our data, although it has not been inspected many times. It has greatly increased in size (number of employees -- from around 2000 to 4000) throughout the years, and according to the tax data its industry is management, rather than construction. Its headquarters are clearly in Santiago."
   ]
  },
  {
   "cell_type": "code",
   "execution_count": null,
   "metadata": {},
   "outputs": [],
   "source": [
    "get_violation(df, 0)"
   ]
  },
  {
   "cell_type": "markdown",
   "metadata": {},
   "source": [
    "Translation: \n",
    "```\n",
    "DAY AND BREAKS\n",
    "DAY AND BREAKS\n",
    "DAY AND BREAKS\n",
    "DAY AND BREAKS\n",
    "REMUNERATIONS\n",
    "VULNERATION FUNDAMENTAL RIGHTS (GENERAL)\n",
    "VULNERATION FUNDAMENTAL RIGHTS (GENERAL)\n",
    "VULNERATION FUNDAMENTAL RIGHTS (GENERAL)\n",
    "WORK CONTRACT\n",
    "WORK CONTRACT\n",
    "WORK CONTRACT\n",
    "HYGIENE AND SECURITY\n",
    "HYGIENE AND SECURITY\n",
    "DAY AND BREAKS\n",
    "HYGIENE AND SECURITY\n",
    "\n",
    "Do not carry attendance record correctly\n",
    "Not having a work program approved by the legal representative of the company (contractor or subcontractor)\n",
    "```"
   ]
  },
  {
   "cell_type": "markdown",
   "metadata": {},
   "source": [
    "## October 9, 2009\n",
    "\n",
    "This facility is in region VII and its industry is manufacturing. There are 50 employees at this facility.\n",
    "\n",
    "One infraction was found. It did not result in a fine."
   ]
  },
  {
   "cell_type": "code",
   "execution_count": null,
   "metadata": {},
   "outputs": [],
   "source": [
    "company = 'ee0ec25a9268dc2c8f43257cadd1c2af4d297d75e8b5719a60b4c3ccea680da7'\n",
    "date = '2009-10-09'"
   ]
  },
  {
   "cell_type": "code",
   "execution_count": null,
   "metadata": {},
   "outputs": [],
   "source": [
    "fds.facility_info(engine, company)"
   ]
  },
  {
   "cell_type": "code",
   "execution_count": null,
   "metadata": {},
   "outputs": [],
   "source": [
    "fds.time_graphs(engine, company)"
   ]
  },
  {
   "cell_type": "code",
   "execution_count": null,
   "metadata": {},
   "outputs": [],
   "source": [
    "get_taxes_tab(role, company, engine)"
   ]
  },
  {
   "cell_type": "code",
   "execution_count": null,
   "metadata": {},
   "outputs": [],
   "source": [
    "get_violation(df, 1)"
   ]
  },
  {
   "cell_type": "markdown",
   "metadata": {},
   "source": [
    "Translation:\n",
    "\n",
    "```\n",
    "COLLECTIVE NEGOTIATION\n",
    "VULNERATION FUNDAMENTAL RIGHTS (GENERAL)\n",
    "VULNERATION FUNDAMENTAL RIGHTS (GENERAL)\n",
    "HOLIDAY AND PERMITS\n",
    "HYGIENE AND SECURITY\n",
    "HYGIENE AND SECURITY\n",
    "HYGIENE AND SECURITY\n",
    "\n",
    "COMMITTEE PARITARIO / DO NOT CARRY OUT AN OBLIGATORY MEETING\n",
    "```"
   ]
  },
  {
   "cell_type": "markdown",
   "metadata": {},
   "source": [
    "## November 17, 2011\n",
    "\n",
    "This facility is in region VII and its industry is transportation. There are 11 employees at this facility.\n",
    "\n",
    "One infraction was found. It did result in a fine."
   ]
  },
  {
   "cell_type": "code",
   "execution_count": null,
   "metadata": {},
   "outputs": [],
   "source": [
    "company = '8b3f173ed958011650e3527ea944de140378400c4b5a34e29e0c9bb82cd46a79'\n",
    "date = '2011-11-17'"
   ]
  },
  {
   "cell_type": "code",
   "execution_count": null,
   "metadata": {},
   "outputs": [],
   "source": [
    "fds.facility_info(engine, company)"
   ]
  },
  {
   "cell_type": "code",
   "execution_count": null,
   "metadata": {},
   "outputs": [],
   "source": [
    "fds.time_graphs(engine, company)"
   ]
  },
  {
   "cell_type": "code",
   "execution_count": null,
   "metadata": {},
   "outputs": [],
   "source": [
    "get_taxes_tab(role, company, engine)"
   ]
  },
  {
   "cell_type": "code",
   "execution_count": null,
   "metadata": {},
   "outputs": [],
   "source": [
    "get_violation(df, 2)"
   ]
  },
  {
   "cell_type": "markdown",
   "metadata": {},
   "source": [
    "Translation:\n",
    "```\n",
    "VULNERATION FUNDAMENTAL RIGHTS (GENERAL)\n",
    "VULNERATION FUNDAMENTAL RIGHTS (GENERAL)\n",
    "```"
   ]
  },
  {
   "cell_type": "markdown",
   "metadata": {},
   "source": [
    "## February 18, 2009\n",
    "\n",
    "This facility is in region V and its industry is real estate. There are 650 employees at this facility.\n",
    "\n",
    "No infractions were found."
   ]
  },
  {
   "cell_type": "code",
   "execution_count": null,
   "metadata": {},
   "outputs": [],
   "source": [
    "company = '0feb1088e58b43fd124212062bf605327a1643d7f4b9631b72c5456d6d2d2820'\n",
    "date = '2009-02-18'"
   ]
  },
  {
   "cell_type": "code",
   "execution_count": null,
   "metadata": {},
   "outputs": [],
   "source": [
    "fds.facility_info(engine, company)"
   ]
  },
  {
   "cell_type": "code",
   "execution_count": null,
   "metadata": {},
   "outputs": [],
   "source": [
    "fds.time_graphs(engine, company)"
   ]
  },
  {
   "cell_type": "code",
   "execution_count": null,
   "metadata": {},
   "outputs": [],
   "source": [
    "get_taxes_tab(role, company, engine)"
   ]
  },
  {
   "cell_type": "code",
   "execution_count": null,
   "metadata": {},
   "outputs": [],
   "source": [
    "get_violation(df, 3)"
   ]
  },
  {
   "cell_type": "markdown",
   "metadata": {},
   "source": [
    "Translation:\n",
    "```\n",
    "VULNERATION FUNDAMENTAL RIGHTS (SPECIAL)\n",
    "```"
   ]
  }
 ],
 "metadata": {
  "kernelspec": {
   "display_name": "Python 3",
   "language": "python",
   "name": "python3"
  },
  "language_info": {
   "codemirror_mode": {
    "name": "ipython",
    "version": 3
   },
   "file_extension": ".py",
   "mimetype": "text/x-python",
   "name": "python",
   "nbconvert_exporter": "python",
   "pygments_lexer": "ipython3",
   "version": "3.6.5"
  }
 },
 "nbformat": 4,
 "nbformat_minor": 2
}
