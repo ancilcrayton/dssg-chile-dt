{
 "cells": [
  {
   "cell_type": "code",
   "execution_count": null,
   "metadata": {},
   "outputs": [],
   "source": [
    "import sys\n",
    "sys.path.append('../')\n",
    "\n",
    "import pipeline.sql as plsql\n",
    "\n",
    "import pandas as pd\n",
    "import numpy as np\n",
    "\n",
    "from plotnine import *\n",
    "import pandas as pd\n",
    "from mizani.breaks import date_breaks\n",
    "from mizani.formatters import date_format\n",
    "from datetime import date\n",
    "\n",
    "theme_set(theme_bw())\n",
    "\n",
    "engine = plsql.create_engine('../config.yaml')\n",
    "role = 'set role direccion_trabajo_inspections_write'"
   ]
  },
  {
   "cell_type": "code",
   "execution_count": null,
   "metadata": {},
   "outputs": [],
   "source": []
  },
  {
   "cell_type": "code",
   "execution_count": null,
   "metadata": {},
   "outputs": [],
   "source": [
    "qry = \"\"\"{};\n",
    "    select  count( distinct entity_id) \n",
    "    from cleaned.inspections_se;\n",
    "\"\"\".format(role)\n",
    "#plsql.query(qry, engine)"
   ]
  },
  {
   "cell_type": "code",
   "execution_count": null,
   "metadata": {},
   "outputs": [],
   "source": []
  },
  {
   "cell_type": "code",
   "execution_count": null,
   "metadata": {},
   "outputs": [],
   "source": [
    "# Copper\n",
    "qry = \"\"\"{};\n",
    "    SELECT avg_copper_price,\n",
    "    DATE_TRUNC('month', month_plus_one) as month_year\n",
    "    FROM cleaned.copper_formatted\n",
    "    order by month_plus_one;\n",
    "    \"\"\".format(role)\n",
    "tab_copper = plsql.query(qry, engine)\n",
    "print(tab_copper.shape)\n",
    "tab_copper.head()"
   ]
  },
  {
   "cell_type": "code",
   "execution_count": null,
   "metadata": {},
   "outputs": [],
   "source": [
    "(ggplot(tab_copper, aes('month_year', 'avg_copper_price')) + \n",
    "    geom_line(color = 'blue', size = 1) + \n",
    "    ylab('Copper Price') + \n",
    "    xlab('Date') + \n",
    "    ylim(0, 6))"
   ]
  },
  {
   "cell_type": "code",
   "execution_count": null,
   "metadata": {},
   "outputs": [],
   "source": [
    "# Macro econ\n",
    "qry = \"\"\"{};\n",
    "    SELECT *\n",
    "    FROM cleaned.macro_month\n",
    "    limit 3;\n",
    "    \"\"\".format(role)\n",
    "plsql.query(qry, engine)\n"
   ]
  },
  {
   "cell_type": "code",
   "execution_count": null,
   "metadata": {},
   "outputs": [],
   "source": [
    "print(tab_copper.shape)\n",
    "tab_copper.head()"
   ]
  },
  {
   "cell_type": "code",
   "execution_count": null,
   "metadata": {},
   "outputs": [],
   "source": [
    "# Inspectors\n",
    "qry = \"\"\"{};\n",
    "    SELECT date_monthyear as month_year, \n",
    "    count(distinct funasignadomask) as inspectors\n",
    "    FROM cleaned.inspections_se\n",
    "    where tipotermino != 'empleador no ubicado'\n",
    "    group by month_year;\n",
    "    \"\"\".format(role)\n",
    "tab_inspt = plsql.query(qry, engine)\n",
    "tab_inspt.month_year = pd.to_datetime(tab_inspt.month_year)\n",
    "print(tab_inspt.shape)\n",
    "tab_inspt.head()"
   ]
  },
  {
   "cell_type": "code",
   "execution_count": null,
   "metadata": {},
   "outputs": [],
   "source": [
    "tab_inspt.head()"
   ]
  },
  {
   "cell_type": "code",
   "execution_count": null,
   "metadata": {},
   "outputs": [],
   "source": []
  },
  {
   "cell_type": "code",
   "execution_count": null,
   "metadata": {},
   "outputs": [],
   "source": []
  },
  {
   "cell_type": "markdown",
   "metadata": {},
   "source": [
    "## Total month year"
   ]
  },
  {
   "cell_type": "code",
   "execution_count": null,
   "metadata": {},
   "outputs": [],
   "source": [
    "qry = \"\"\"{};\n",
    "    SELECT date_monthyear as month_year, \n",
    "        count(distinct entity_id) as infracted_entities,\n",
    "        count(entity_id) as infractions_total\n",
    "    FROM cleaned.inspections_se\n",
    "    WHERE tipotermino != 'empleador no ubicado'\n",
    "        and infractor = 'true'\n",
    "    GROUP BY month_year;\n",
    "    \"\"\".format(role)\n",
    "tab_inf_tot = plsql.query(qry, engine)"
   ]
  },
  {
   "cell_type": "code",
   "execution_count": null,
   "metadata": {},
   "outputs": [],
   "source": [
    "qry = \"\"\"{};\n",
    "    SELECT date_monthyear as month_year, \n",
    "    count(distinct entity_id) as inspected_entities,\n",
    "    count(entity_id) as inspections_total,\n",
    "    count(distinct funasignadomask) as inspectors\n",
    "    FROM cleaned.inspections_se\n",
    "    where tipotermino != 'empleador no ubicado'\n",
    "    group by month_year;\"\"\".format(role)\n",
    "tab_ins_tot = plsql.query(qry, engine)"
   ]
  },
  {
   "cell_type": "code",
   "execution_count": null,
   "metadata": {},
   "outputs": [],
   "source": []
  },
  {
   "cell_type": "code",
   "execution_count": null,
   "metadata": {},
   "outputs": [],
   "source": [
    "tab_inf_tot.month_year = pd.to_datetime(tab_inf_tot.month_year)\n",
    "tab_ins_tot.month_year = pd.to_datetime(tab_ins_tot.month_year)\n",
    "tab_union_tot = (tab_ins_tot.merge(tab_inf_tot, how = 'inner', \n",
    "                              left_on = ['month_year'], \n",
    "                              right_on = ['month_year']))\n",
    "tab_union_tot.head()"
   ]
  },
  {
   "cell_type": "code",
   "execution_count": null,
   "metadata": {},
   "outputs": [],
   "source": [
    "tab_union_tot['prop_infra'] = 100*tab_union_tot['infracted_entities']/tab_union_tot['inspected_entities']\n",
    "tab_union_tot['prop_inspc'] = 100*tab_union_tot['inspected_entities']/tab_union_tot['inspectors']"
   ]
  },
  {
   "cell_type": "code",
   "execution_count": null,
   "metadata": {},
   "outputs": [],
   "source": [
    "tab_union_tot['prop_infra'].describe()"
   ]
  },
  {
   "cell_type": "code",
   "execution_count": null,
   "metadata": {},
   "outputs": [],
   "source": [
    "(ggplot(tab_union_tot, aes('month_year', 'inspected_entities')) + \n",
    "    geom_line(size =1) + \n",
    "    ylab('Inspected entities) + \n",
    "    xlab('Date') +  \n",
    "    ylim(0, 60))"
   ]
  },
  {
   "cell_type": "code",
   "execution_count": null,
   "metadata": {},
   "outputs": [],
   "source": [
    "(ggplot(tab_union_tot, aes('month_year', 'prop_infra')) + \n",
    "    geom_line(size =1) + \n",
    "    ylab('Infracted/Inspected') + \n",
    "    xlab('Date') +  \n",
    "    ylim(0, 60))"
   ]
  },
  {
   "cell_type": "code",
   "execution_count": null,
   "metadata": {},
   "outputs": [],
   "source": [
    "(ggplot(tab_union_tot, aes('month_year', 'prop_inspc')) + \n",
    "    geom_line(size =1) + \n",
    "    ylab('Entities by Infractor') + \n",
    "    xlab('Date'))"
   ]
  },
  {
   "cell_type": "code",
   "execution_count": null,
   "metadata": {},
   "outputs": [],
   "source": [
    "tab_union_tot.prop_inspc.describe()"
   ]
  },
  {
   "cell_type": "code",
   "execution_count": null,
   "metadata": {},
   "outputs": [],
   "source": []
  },
  {
   "cell_type": "markdown",
   "metadata": {},
   "source": [
    "## Total by program"
   ]
  },
  {
   "cell_type": "code",
   "execution_count": null,
   "metadata": {},
   "outputs": [],
   "source": [
    "qry = \"\"\"{};\n",
    "    SELECT \n",
    "        case when solicitante = 'Por Programa' then 'proactive' else 'reactive' end as program,\n",
    "        count(distinct entity_id) as infracted_entities,\n",
    "        count(entity_id) as infractions_total\n",
    "    FROM cleaned.inspections_se\n",
    "    WHERE tipotermino != 'empleador no ubicado'\n",
    "        and infractor = 'true'\n",
    "    GROUP BY program;\n",
    "    \"\"\".format(role)\n",
    "tab_inf_cprog = plsql.query(qry, engine)"
   ]
  },
  {
   "cell_type": "code",
   "execution_count": null,
   "metadata": {},
   "outputs": [],
   "source": [
    "qry = \"\"\"{};\n",
    "    SELECT \n",
    "        case when solicitante = 'Por Programa' then 'proactive' else 'reactive' end as program,\n",
    "        count(distinct entity_id) as inspected_entities,\n",
    "        count(entity_id) as inspections_total,\n",
    "        count(distinct funasignadomask) as inspectors\n",
    "    FROM cleaned.inspections_se\n",
    "    where tipotermino != 'empleador no ubicado'\n",
    "    GROUP BY program;\n",
    "    \"\"\".format(role)\n",
    "tab_ins_cprog = plsql.query(qry, engine)"
   ]
  },
  {
   "cell_type": "code",
   "execution_count": null,
   "metadata": {},
   "outputs": [],
   "source": [
    "tab_inf_cprog"
   ]
  },
  {
   "cell_type": "code",
   "execution_count": null,
   "metadata": {},
   "outputs": [],
   "source": [
    "tab_ins_cprog"
   ]
  },
  {
   "cell_type": "code",
   "execution_count": null,
   "metadata": {},
   "outputs": [],
   "source": []
  },
  {
   "cell_type": "code",
   "execution_count": null,
   "metadata": {},
   "outputs": [],
   "source": []
  },
  {
   "cell_type": "markdown",
   "metadata": {},
   "source": [
    "## Total"
   ]
  },
  {
   "cell_type": "code",
   "execution_count": null,
   "metadata": {},
   "outputs": [],
   "source": [
    "qry = \"\"\"{};\n",
    "    SELECT \n",
    "        count(distinct entity_id) as infracted_entities,\n",
    "        count(entity_id) as infractions_total\n",
    "    FROM cleaned.inspections_se\n",
    "    WHERE tipotermino != 'empleador no ubicado'\n",
    "        and infractor = 'true';\n",
    "    \"\"\".format(role)\n",
    "tab_inf_com = plsql.query(qry, engine)"
   ]
  },
  {
   "cell_type": "code",
   "execution_count": null,
   "metadata": {},
   "outputs": [],
   "source": [
    "qry = \"\"\"{};\n",
    "    SELECT \n",
    "        count(distinct entity_id) as inspected_entities,\n",
    "        count(entity_id) as inspections_total,\n",
    "        count(distinct funasignadomask) as inspectors\n",
    "    FROM cleaned.inspections_se\n",
    "    where tipotermino != 'empleador no ubicado';\n",
    "    \"\"\".format(role)\n",
    "tab_ins_com = plsql.query(qry, engine)"
   ]
  },
  {
   "cell_type": "code",
   "execution_count": null,
   "metadata": {},
   "outputs": [],
   "source": [
    "tab_inf_com"
   ]
  },
  {
   "cell_type": "code",
   "execution_count": null,
   "metadata": {},
   "outputs": [],
   "source": [
    "tab_ins_com"
   ]
  },
  {
   "cell_type": "code",
   "execution_count": null,
   "metadata": {},
   "outputs": [],
   "source": []
  },
  {
   "cell_type": "code",
   "execution_count": null,
   "metadata": {},
   "outputs": [],
   "source": []
  },
  {
   "cell_type": "code",
   "execution_count": null,
   "metadata": {},
   "outputs": [],
   "source": []
  },
  {
   "cell_type": "markdown",
   "metadata": {},
   "source": [
    "## Total  year"
   ]
  },
  {
   "cell_type": "code",
   "execution_count": null,
   "metadata": {},
   "outputs": [],
   "source": [
    "qry = \"\"\"{};\n",
    "    SELECT \n",
    "        DATE_TRUNC('year', date_monthyear) as year, \n",
    "        count(distinct entity_id) as infracted_entities,\n",
    "        count(entity_id) as infractions_total\n",
    "    FROM cleaned.inspections_se\n",
    "    WHERE tipotermino != 'empleador no ubicado'\n",
    "        and infractor = 'true'\n",
    "    GROUP BY year;\n",
    "    \"\"\".format(role)\n",
    "tab_inf_yr = plsql.query(qry, engine)"
   ]
  },
  {
   "cell_type": "code",
   "execution_count": null,
   "metadata": {},
   "outputs": [],
   "source": [
    "qry = \"\"\"{};\n",
    "    SELECT \n",
    "        DATE_TRUNC('year', date_monthyear) as year, \n",
    "        count(distinct entity_id) as inspected_entities,\n",
    "        count(entity_id) as inspections_total,\n",
    "        count(distinct funasignadomask) as inspectors\n",
    "    FROM cleaned.inspections_se\n",
    "    WHERE tipotermino != 'empleador no ubicado'\n",
    "    GROUP BY year;\"\"\".format(role)\n",
    "tab_ins_yr = plsql.query(qry, engine)"
   ]
  },
  {
   "cell_type": "code",
   "execution_count": null,
   "metadata": {},
   "outputs": [],
   "source": [
    "tab_inf_yr.head()"
   ]
  },
  {
   "cell_type": "code",
   "execution_count": null,
   "metadata": {},
   "outputs": [],
   "source": [
    "tab_ins_yr.head()"
   ]
  },
  {
   "cell_type": "code",
   "execution_count": null,
   "metadata": {},
   "outputs": [],
   "source": [
    "tab_inf_yr.year = pd.to_datetime(tab_inf_yr.year)\n",
    "tab_ins_yr.year = pd.to_datetime(tab_ins_yr.year)\n",
    "tab_union_yr = tab_ins_yr.merge(tab_inf_yr, how = 'inner', left_on = ['year'], right_on = ['year'])"
   ]
  },
  {
   "cell_type": "code",
   "execution_count": null,
   "metadata": {},
   "outputs": [],
   "source": [
    "tab_union_yr['prop'] = 100*tab_union_yr['infracted_entities']/tab_union_yr['inspected_entities']\n",
    "tab_union_yr['infract'] = 100*tab_union_yr['infractions_total']/tab_union_yr['inspections_total']\n",
    "tab_union_yr['insp_insp'] = tab_union_yr['inspections_total']/tab_union_yr['inspectors']"
   ]
  },
  {
   "cell_type": "code",
   "execution_count": null,
   "metadata": {},
   "outputs": [],
   "source": [
    "tab_union_yr"
   ]
  },
  {
   "cell_type": "code",
   "execution_count": null,
   "metadata": {},
   "outputs": [],
   "source": [
    "tab_union_yr.inspected_entities.mean()\n",
    "tab_union_yr.inspections_total.mean()\n",
    "tab_union_yr.infracted_entities.mean()\n",
    "tab_union_yr.infractions_total.mean()\n",
    "tab_union_yr.inspectors.mean()\n",
    "tab_union_yr.infract.mean()\n",
    "tab_union_yr.insp_insp.mean()"
   ]
  },
  {
   "cell_type": "code",
   "execution_count": null,
   "metadata": {},
   "outputs": [],
   "source": []
  },
  {
   "cell_type": "markdown",
   "metadata": {},
   "source": [
    "## Program by year"
   ]
  },
  {
   "cell_type": "code",
   "execution_count": null,
   "metadata": {},
   "outputs": [],
   "source": [
    "qry = \"\"\"{};\n",
    "    SELECT \n",
    "        DATE_TRUNC('year', date_monthyear) as year, \n",
    "        case when solicitante = 'Por Programa' then 'proactive' else 'reactive' end as program,\n",
    "        count(distinct entity_id) as infracted_entities,\n",
    "        count(entity_id) as infractions_total\n",
    "    FROM cleaned.inspections_se\n",
    "    WHERE tipotermino != 'empleador no ubicado'\n",
    "        and infractor = 'true'\n",
    "    GROUP BY year, program;\n",
    "    \"\"\".format(role)\n",
    "tab_inf_progyr = plsql.query(qry, engine)"
   ]
  },
  {
   "cell_type": "code",
   "execution_count": null,
   "metadata": {},
   "outputs": [],
   "source": [
    "qry = \"\"\"{};\n",
    "    SELECT \n",
    "        DATE_TRUNC('year', date_monthyear) as year, \n",
    "        case when solicitante = 'Por Programa' then 'proactive' else 'reactive' end as program,\n",
    "        count(distinct entity_id) as inspected_entities,\n",
    "        count(entity_id) as inspections_total,\n",
    "        count(distinct funasignadomask) as inspectors\n",
    "    FROM cleaned.inspections_se\n",
    "    WHERE tipotermino != 'empleador no ubicado'\n",
    "    GROUP BY year, program;\"\"\".format(role)\n",
    "tab_ins_progyr = plsql.query(qry, engine)"
   ]
  },
  {
   "cell_type": "code",
   "execution_count": null,
   "metadata": {},
   "outputs": [],
   "source": [
    "tab_inf_progyr.head()"
   ]
  },
  {
   "cell_type": "code",
   "execution_count": null,
   "metadata": {},
   "outputs": [],
   "source": [
    "tab_ins_progyr.head()"
   ]
  },
  {
   "cell_type": "code",
   "execution_count": null,
   "metadata": {},
   "outputs": [],
   "source": [
    "tab_inf_progyr.year = pd.to_datetime(tab_inf_progyr.year)\n",
    "tab_ins_progyr.year = pd.to_datetime(tab_ins_progyr.year)\n",
    "tab_union_progyr = (tab_ins_progyr.merge(tab_inf_progyr, how = 'inner',\n",
    "                                        left_on = ['year', 'program'], \n",
    "                                        right_on = ['year', 'program']).\n",
    "                    reindex())"
   ]
  },
  {
   "cell_type": "code",
   "execution_count": null,
   "metadata": {},
   "outputs": [],
   "source": [
    "tab_union_progyr['prop'] = 100*tab_union_progyr['infracted_entities']/tab_union_progyr['inspected_entities']\n",
    "tab_union_progyr['infract'] = 100*tab_union_progyr['infractions_total']/tab_union_progyr['inspections_total']\n",
    "tab_union_progyr['inspinsp'] = tab_union_progyr['inspections_total']/tab_union_progyr['inspectors']"
   ]
  },
  {
   "cell_type": "code",
   "execution_count": null,
   "metadata": {},
   "outputs": [],
   "source": [
    "tab_union_progyr[tab_union_progyr.program == 'proactive'].sort_values(['program', 'year']).head()"
   ]
  },
  {
   "cell_type": "code",
   "execution_count": null,
   "metadata": {},
   "outputs": [],
   "source": [
    "tab_melt_yr = pd.melt(tab_union_progyr, id_vars=['year', 'program'], \n",
    "        value_vars=['inspected_entities', 'inspections_total',\n",
    "                    'inspectors', 'infracted_entities', 'infractions_total', 'prop', \n",
    "                    'infract', 'insp_insp', 'insp_day'])\n",
    "tab_melt_yr.groupby(['program', 'variable']).mean()"
   ]
  },
  {
   "cell_type": "code",
   "execution_count": null,
   "metadata": {},
   "outputs": [],
   "source": []
  },
  {
   "cell_type": "code",
   "execution_count": null,
   "metadata": {},
   "outputs": [],
   "source": [
    "tab_union_progyr[tab_union_progyr.year == '2015-01-01 '].sort_values(['program', 'year'])"
   ]
  },
  {
   "cell_type": "code",
   "execution_count": null,
   "metadata": {},
   "outputs": [],
   "source": []
  },
  {
   "cell_type": "code",
   "execution_count": null,
   "metadata": {},
   "outputs": [],
   "source": []
  },
  {
   "cell_type": "markdown",
   "metadata": {},
   "source": [
    "## Program by month and year"
   ]
  },
  {
   "cell_type": "code",
   "execution_count": null,
   "metadata": {},
   "outputs": [],
   "source": [
    "qry = \"\"\"{};\n",
    "    SELECT date_monthyear as month_year, \n",
    "        case when solicitante = 'Por Programa' then 'proactive' else 'reactive' end as program,\n",
    "        count(distinct entity_id) as infracted_entities,\n",
    "        count(entity_id) as infractions_total\n",
    "    FROM cleaned.inspections_se\n",
    "    WHERE tipotermino != 'empleador no ubicado'\n",
    "        and infractor = 'true'\n",
    "    GROUP BY month_year, program;\n",
    "    \"\"\".format(role)\n",
    "tab_inf = plsql.query(qry, engine)"
   ]
  },
  {
   "cell_type": "code",
   "execution_count": null,
   "metadata": {},
   "outputs": [],
   "source": [
    "qry = \"\"\"{};\n",
    "    SELECT date_monthyear as month_year, \n",
    "    count(distinct entity_id) as inspected_entities,\n",
    "    count(entity_id) as inspections_total,\n",
    "    count(distinct funasignadomask) as inspectors,\n",
    "    case when solicitante = 'Por Programa' then 'proactive' else 'reactive' end as program\n",
    "    FROM cleaned.inspections_se\n",
    "    where tipotermino != 'empleador no ubicado'\n",
    "    group by month_year, program;\"\"\".format(role)\n",
    "tab_ins = plsql.query(qry, engine)"
   ]
  },
  {
   "cell_type": "code",
   "execution_count": null,
   "metadata": {},
   "outputs": [],
   "source": [
    "tab_inf.head()"
   ]
  },
  {
   "cell_type": "code",
   "execution_count": null,
   "metadata": {},
   "outputs": [],
   "source": [
    "tab_ins.head()"
   ]
  },
  {
   "cell_type": "code",
   "execution_count": null,
   "metadata": {},
   "outputs": [],
   "source": [
    "print(tab_inf.shape)\n",
    "tab_inf.dtypes"
   ]
  },
  {
   "cell_type": "code",
   "execution_count": null,
   "metadata": {},
   "outputs": [],
   "source": [
    "print(tab_ins.shape)\n",
    "tab_ins.dtypes"
   ]
  },
  {
   "cell_type": "code",
   "execution_count": null,
   "metadata": {},
   "outputs": [],
   "source": [
    "tab_inf.month_year = pd.to_datetime(tab_inf.month_year)\n",
    "tab_ins.month_year = pd.to_datetime(tab_ins.month_year)\n",
    "tab_union = tab_ins.merge(tab_inf, how = 'inner', left_on = ['month_year', 'program'], right_on = ['month_year', 'program'])"
   ]
  },
  {
   "cell_type": "code",
   "execution_count": null,
   "metadata": {},
   "outputs": [],
   "source": [
    "tab_union['prop'] = 100*tab_union['infracted_entities']/tab_union['inspected_entities']\n",
    "tab_union['infract'] = 100*tab_union['infractions_total']/tab_union['inspections_total']\n",
    "tab_union['insp_insp'] = tab_union['inspections_total']/tab_union['inspectors']\n",
    "tab_union['insp_day'] = tab_union['inspections_total']/20"
   ]
  },
  {
   "cell_type": "code",
   "execution_count": null,
   "metadata": {},
   "outputs": [],
   "source": [
    "tab_union.shape\n",
    "tab_union.head()"
   ]
  },
  {
   "cell_type": "code",
   "execution_count": null,
   "metadata": {},
   "outputs": [],
   "source": [
    "tab_melt_u = pd.melt(tab_union, id_vars=['month_year', 'program'], \n",
    "        value_vars=['inspected_entities', 'inspections_total',\n",
    "                    'inspectors', 'infracted_entities', 'infractions_total', 'prop', \n",
    "                    'infract', 'insp_insp', 'insp_day'])\n",
    "tab_melt_u.groupby(['program', 'variable']).mean()"
   ]
  },
  {
   "cell_type": "code",
   "execution_count": null,
   "metadata": {},
   "outputs": [],
   "source": [
    "(ggplot(tab_union, aes('month_year', 'infract', color = 'program')) + \n",
    "    geom_line(size =1) + \n",
    "    ylab('Infracted/Inspected') + \n",
    "    xlab('Date') +  \n",
    "    ylim(0, 60))"
   ]
  },
  {
   "cell_type": "code",
   "execution_count": null,
   "metadata": {},
   "outputs": [],
   "source": []
  },
  {
   "cell_type": "code",
   "execution_count": null,
   "metadata": {},
   "outputs": [],
   "source": []
  },
  {
   "cell_type": "markdown",
   "metadata": {},
   "source": [
    "# Month year total"
   ]
  },
  {
   "cell_type": "code",
   "execution_count": null,
   "metadata": {},
   "outputs": [],
   "source": [
    "qry = \"\"\"{};\n",
    "    SELECT date_monthyear as month_year, \n",
    "        count(distinct entity_id) as infracted_entities,\n",
    "        count(entity_id) as infractions_total\n",
    "    FROM cleaned.inspections_se\n",
    "    WHERE tipotermino != 'empleador no ubicado'\n",
    "        and infractor = 'true'\n",
    "    GROUP BY month_year;\n",
    "    \"\"\".format(role)\n",
    "tab_inf = plsql.query(qry, engine)"
   ]
  },
  {
   "cell_type": "code",
   "execution_count": null,
   "metadata": {},
   "outputs": [],
   "source": [
    "qry = \"\"\"{};\n",
    "    SELECT date_monthyear as month_year, \n",
    "    count(distinct entity_id) as inspected_entities,\n",
    "    count(entity_id) as inspections_total,\n",
    "    count(distinct funasignadomask) as inspectors\n",
    "    FROM cleaned.inspections_se\n",
    "    where tipotermino != 'empleador no ubicado'\n",
    "    group by month_year;\"\"\".format(role)\n",
    "tab_ins = plsql.query(qry, engine)"
   ]
  },
  {
   "cell_type": "code",
   "execution_count": null,
   "metadata": {},
   "outputs": [],
   "source": [
    "tab_inf.month_year = pd.to_datetime(tab_inf.month_year)\n",
    "tab_ins.month_year = pd.to_datetime(tab_ins.month_year)\n",
    "tab_union = tab_ins.merge(tab_inf, how = 'inner', \n",
    "                          left_on = ['month_year'],\n",
    "                          right_on = ['month_year'])\n",
    "\n"
   ]
  },
  {
   "cell_type": "code",
   "execution_count": null,
   "metadata": {},
   "outputs": [],
   "source": [
    "tab_union['prop'] = 100*tab_union['infracted_entities']/tab_union['inspected_entities']\n",
    "tab_union['infract'] = 100*tab_union['infractions_total']/tab_union['inspections_total']\n",
    "tab_union['insp_insp'] = tab_union['inspections_total']/tab_union['inspectors']\n",
    "tab_union['insp_day'] = tab_union['inspections_total']/20"
   ]
  },
  {
   "cell_type": "code",
   "execution_count": null,
   "metadata": {},
   "outputs": [],
   "source": [
    "tab_melt_u = pd.melt(tab_union, id_vars=['month_year'], \n",
    "        value_vars=['inspected_entities', 'inspections_total',\n",
    "                    'inspectors', 'infracted_entities', 'infractions_total', 'prop', \n",
    "                    'infract', 'insp_insp', 'insp_day'])\n",
    "tab_melt_u.groupby(['variable']).mean()"
   ]
  },
  {
   "cell_type": "code",
   "execution_count": null,
   "metadata": {},
   "outputs": [],
   "source": []
  }
 ],
 "metadata": {
  "kernelspec": {
   "display_name": "Python 3",
   "language": "python",
   "name": "python3"
  },
  "language_info": {
   "codemirror_mode": {
    "name": "ipython",
    "version": 3
   },
   "file_extension": ".py",
   "mimetype": "text/x-python",
   "name": "python",
   "nbconvert_exporter": "python",
   "pygments_lexer": "ipython3",
   "version": "3.6.5"
  }
 },
 "nbformat": 4,
 "nbformat_minor": 2
}
