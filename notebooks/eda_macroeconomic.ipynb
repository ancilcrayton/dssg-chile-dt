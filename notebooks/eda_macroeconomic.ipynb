{
 "cells": [
  {
   "cell_type": "markdown",
   "metadata": {},
   "source": [
    "# Exploratory Data Analysis with Macroeconomic Data"
   ]
  },
  {
   "cell_type": "code",
   "execution_count": null,
   "metadata": {},
   "outputs": [],
   "source": [
    "import yaml\n",
    "import numpy as np\n",
    "import pandas as pd\n",
    "from string import ascii_letters\n",
    "from sqlalchemy import create_engine\n",
    "from plotnine import *\n",
    "import matplotlib.pyplot as plt\n",
    "import seaborn as sns"
   ]
  },
  {
   "cell_type": "markdown",
   "metadata": {},
   "source": [
    "## Connect With Server"
   ]
  },
  {
   "cell_type": "code",
   "execution_count": null,
   "metadata": {},
   "outputs": [],
   "source": [
    "# Import profile information\n",
    "# Requires a .yaml file \n",
    "\n",
    "# MUST EDIT THIS LINE FOR YOUR FILE NAME\n",
    "file = open(\"../config.yaml\", 'r')\n",
    "config = yaml.load(file)"
   ]
  },
  {
   "cell_type": "code",
   "execution_count": null,
   "metadata": {},
   "outputs": [],
   "source": [
    "# Create engine\n",
    "engine_path = 'postgresql://{}:{}@{}/direccion_trabajo_inspections'\n",
    "engine = create_engine(engine_path.format(config['db']['username'], config['db']['password'], config['db']['host']))"
   ]
  },
  {
   "cell_type": "markdown",
   "metadata": {},
   "source": [
    "## Example of SQL query from database"
   ]
  },
  {
   "cell_type": "code",
   "execution_count": null,
   "metadata": {},
   "outputs": [],
   "source": [
    "# Example!!\n",
    "# Notice that you will have to set role at the beginning of each query\n",
    "qry = 'set role direccion_trabajo_inspections_write;select * from raw.inspections_sample limit 30;'\n",
    "pd.read_sql_query(qry, engine)"
   ]
  },
  {
   "cell_type": "code",
   "execution_count": null,
   "metadata": {},
   "outputs": [],
   "source": [
    "qry = \"\"\"\n",
    "        set role direccion_trabajo_inspections_write; select variable_name, \n",
    "        description_spanish, description_english from raw.metadata;\n",
    "        \"\"\""
   ]
  },
  {
   "cell_type": "code",
   "execution_count": null,
   "metadata": {},
   "outputs": [],
   "source": [
    "pd.read_sql_query(qry, engine)"
   ]
  },
  {
   "cell_type": "code",
   "execution_count": null,
   "metadata": {},
   "outputs": [],
   "source": [
    "qry = \"\"\"\n",
    "        set role direccion_trabajo_inspections_write;\n",
    "        select emptrabhombres, infra\n",
    "        from raw.inspections_complete where infra > 0;\n",
    "    \"\"\"\n",
    "df = pd.read_sql_query(qry, engine)"
   ]
  },
  {
   "cell_type": "code",
   "execution_count": null,
   "metadata": {},
   "outputs": [],
   "source": [
    "df.tail()"
   ]
  },
  {
   "cell_type": "code",
   "execution_count": null,
   "metadata": {},
   "outputs": [],
   "source": [
    "fig, ax = plt.subplots()\n",
    "ax.scatter(df['emptrabhombres'], df['infra'], marker='+')\n",
    "ax.set_xlabel('Number of Employees')\n",
    "ax.set_ylabel('Number of Infractions')\n",
    "ax.set_title('Infractions-Size Plot')\n",
    "plt.show()"
   ]
  },
  {
   "cell_type": "code",
   "execution_count": null,
   "metadata": {},
   "outputs": [],
   "source": [
    "qry = \"\"\"\n",
    "        set role direccion_trabajo_inspections_write;\n",
    "        select totalafectados, infra\n",
    "        from raw.inspections_complete where infra > 0;\n",
    "    \"\"\"\n",
    "df = pd.read_sql_query(qry, engine)"
   ]
  },
  {
   "cell_type": "code",
   "execution_count": null,
   "metadata": {},
   "outputs": [],
   "source": [
    "fig, ax = plt.subplots()\n",
    "ax.scatter(df['totalafectados'], df['infra'], marker='o')\n",
    "ax.set_xlabel('Number of Employees Affected')\n",
    "ax.set_ylabel('Number of Infractions')\n",
    "ax.set_title('Infractions-Total Affected Plot')\n",
    "plt.show()"
   ]
  },
  {
   "cell_type": "code",
   "execution_count": null,
   "metadata": {},
   "outputs": [],
   "source": [
    "qry = \"\"\"\n",
    "        set role direccion_trabajo_inspections_write;\n",
    "        select cast(region as int), avg(emptrabhombres) as avgsize\n",
    "        from raw.inspections_complete group by region order by region asc;\n",
    "    \"\"\"\n",
    "df = pd.read_sql_query(qry, engine)"
   ]
  },
  {
   "cell_type": "code",
   "execution_count": null,
   "metadata": {},
   "outputs": [],
   "source": [
    "df"
   ]
  },
  {
   "cell_type": "code",
   "execution_count": null,
   "metadata": {},
   "outputs": [],
   "source": [
    "fig, ax = plt.subplots()\n",
    "ax.bar(df['region'], df['avgsize'])\n",
    "ax.set_xlabel('Region')\n",
    "ax.set_ylabel('Average Number of Employees')\n",
    "ax.set_title('Average Number of Employees by Region')\n",
    "plt.show()"
   ]
  },
  {
   "cell_type": "code",
   "execution_count": null,
   "metadata": {},
   "outputs": [],
   "source": [
    "qry = \"\"\"\n",
    "        set role direccion_trabajo_inspections_write;\n",
    "        select cast(region as int), avg(infra) as avginfra\n",
    "        from raw.inspections_complete where infra > 0 group by region order by region asc;\n",
    "    \"\"\"\n",
    "df = pd.read_sql_query(qry, engine)"
   ]
  },
  {
   "cell_type": "code",
   "execution_count": null,
   "metadata": {},
   "outputs": [],
   "source": [
    "fig, ax = plt.subplots()\n",
    "ax.bar(df['region'], df['avginfra'])\n",
    "ax.set_xlabel('Region')\n",
    "ax.set_ylabel('Average Number of Infractions')\n",
    "ax.set_title('Average Number of Infractions by Region')\n",
    "plt.show()"
   ]
  },
  {
   "cell_type": "code",
   "execution_count": null,
   "metadata": {},
   "outputs": [],
   "source": [
    "qry = \"\"\"\n",
    "        set role direccion_trabajo_inspections_write;\n",
    "        select cast(region as int), avg(num_materias) as avgnummaterias\n",
    "        from raw.inspections_complete where num_materias > 0 group by region order by region asc;\n",
    "    \"\"\"\n",
    "df = pd.read_sql_query(qry, engine)"
   ]
  },
  {
   "cell_type": "code",
   "execution_count": null,
   "metadata": {},
   "outputs": [],
   "source": [
    "fig, ax = plt.subplots()\n",
    "ax.bar(df['region'], df['avgnummaterias'])\n",
    "ax.set_xlabel('Region')\n",
    "ax.set_ylabel('Avg. Number of Matters Inspected')\n",
    "ax.set_title('Average Number of Inspected Matters by Region')\n",
    "plt.show()"
   ]
  },
  {
   "cell_type": "code",
   "execution_count": null,
   "metadata": {},
   "outputs": [],
   "source": [
    "qry = \"\"\"\n",
    "        set role direccion_trabajo_inspections_write;\n",
    "        select cast(mesreg as int), cast(region as int), avg(infra) as avginfra\n",
    "        from raw.inspections_complete where infra > 0 group by mesreg, region order by mesreg, region asc;\n",
    "    \"\"\"\n",
    "df = pd.read_sql_query(qry, engine)"
   ]
  },
  {
   "cell_type": "code",
   "execution_count": null,
   "metadata": {},
   "outputs": [],
   "source": [
    "# Edit this\n",
    "fig = plt.figure()\n",
    "ax = fig.add_subplot(111)\n",
    "\n",
    "yvals = df['avginfra']\n",
    "rects1 = ax.bar(df['mesreg'], yvals, 0.25, color='r')\n",
    "zvals = df['mesreg']\n",
    "rects2 = ax.bar(df['mesreg']+.25, zvals, 0.25, color='g')\n",
    "kvals = df['region']\n",
    "rects3 = ax.bar(df['mesreg']+.25*2, kvals, 0.25, color='b')\n",
    "\n",
    "ax.set_ylabel('Scores')\n",
    "ax.legend( (rects1[0], rects2[0], rects3[0]), ('y', 'z', 'k') )\n",
    "\n",
    "plt.show()"
   ]
  },
  {
   "cell_type": "markdown",
   "metadata": {},
   "source": [
    "## Macroeconomic Data"
   ]
  },
  {
   "cell_type": "code",
   "execution_count": null,
   "metadata": {},
   "outputs": [],
   "source": [
    "qry = \"\"\"\n",
    "        set role direccion_trabajo_inspections_write;\n",
    "        select inspect.datereg as date, avg(copper.value) as copprice, count(inspect.infra) as numinfra from \n",
    "        raw.inspections_complete as inspect left join raw.copper as copper on\n",
    "        inspect.datereg=copper.date group by inspect.datereg order by inspect.datereg desc;\n",
    "    \"\"\"\n",
    "df = pd.read_sql_query(qry, engine)"
   ]
  },
  {
   "cell_type": "code",
   "execution_count": null,
   "metadata": {},
   "outputs": [],
   "source": [
    "df.head()"
   ]
  },
  {
   "cell_type": "code",
   "execution_count": null,
   "metadata": {},
   "outputs": [],
   "source": [
    "# Time series plot of infractions and copper price scaled by maximum value\n",
    "fig = plt.figure()\n",
    "ax1 = fig.add_subplot(111)\n",
    "\n",
    "ax1.plot_date(df['date'], df['copprice']/max(df['copprice']), color='black', label='Copper Price')\n",
    "ax1.plot_date(df['date'], df['numinfra']/max(df['numinfra']), color='green', label='Infractions')\n",
    "ax1.set_title('(Scaled) Infractions and Copper Price over Time')\n",
    "\n",
    "plt.rcParams[\"figure.figsize\"] = [20,15]\n",
    "plt.legend()\n",
    "plt.show()"
   ]
  },
  {
   "cell_type": "code",
   "execution_count": null,
   "metadata": {},
   "outputs": [],
   "source": [
    "qry = \"\"\"\n",
    "        set role direccion_trabajo_inspections_write;\n",
    "        select inspect.datereg as date, avg(copper.value) as copprice, count(inspect.infra) as numinfra from \n",
    "        raw.inspections_complete as inspect left join raw.copper as copper on\n",
    "        inspect.datereg=copper.date where inspect.crae = '103'group by inspect.datereg order by inspect.datereg desc;\n",
    "    \"\"\"\n",
    "df = pd.read_sql_query(qry, engine)"
   ]
  },
  {
   "cell_type": "code",
   "execution_count": null,
   "metadata": {},
   "outputs": [],
   "source": [
    "df.head()"
   ]
  },
  {
   "cell_type": "code",
   "execution_count": null,
   "metadata": {},
   "outputs": [],
   "source": [
    "# Time series plot of infractions and copper price scaled by maximum value\n",
    "fig = plt.figure()\n",
    "ax1 = fig.add_subplot(111)\n",
    "\n",
    "ax1.plot_date(df['date'], df['copprice']/max(df['copprice']), color='black', label='Copper Price')\n",
    "ax1.plot_date(df['date'], df['numinfra']/max(df['numinfra']), color='purple', label='Infractions')\n",
    "ax1.set_title('(Scaled) Infractions and Copper Price over Time in Mining Sector')\n",
    "\n",
    "plt.legend()\n",
    "plt.show()"
   ]
  },
  {
   "cell_type": "code",
   "execution_count": null,
   "metadata": {},
   "outputs": [],
   "source": [
    "qry = \"\"\"\n",
    "        set role direccion_trabajo_inspections_write;\n",
    "        select inspect.datereg as date, avg(copper.value) as copprice, count(inspect.infra) as numinfra from \n",
    "        raw.inspections_complete as inspect left join raw.copper as copper on\n",
    "        inspect.datereg=copper.date where inspect.ccae = '133000' AND inspect.infra > 0 group by inspect.datereg order by inspect.datereg desc;\n",
    "    \"\"\"\n",
    "df = pd.read_sql_query(qry, engine)"
   ]
  },
  {
   "cell_type": "code",
   "execution_count": null,
   "metadata": {},
   "outputs": [],
   "source": [
    "df.head()"
   ]
  },
  {
   "cell_type": "code",
   "execution_count": null,
   "metadata": {},
   "outputs": [],
   "source": [
    "df.corr()"
   ]
  },
  {
   "cell_type": "code",
   "execution_count": null,
   "metadata": {},
   "outputs": [],
   "source": [
    "# Time series plot of infractions and copper price scaled by maximum value\n",
    "fig = plt.figure()\n",
    "ax1 = fig.add_subplot(111)\n",
    "\n",
    "ax1.plot_date(df['date'], df['copprice']/df['copprice'].max(), color='black', label='Copper Price')\n",
    "ax1.plot_date(df['date'], df['numinfra']/df['numinfra'].max(), color='blue', label='Infractions')\n",
    "ax1.set_title('(Scaled) Infractions and Copper Price over Time in Copper Mining Sector')\n",
    "\n",
    "plt.legend()\n",
    "plt.show()"
   ]
  },
  {
   "cell_type": "code",
   "execution_count": null,
   "metadata": {},
   "outputs": [],
   "source": [
    "qry = \"\"\"\n",
    "        set role direccion_trabajo_inspections_write;\n",
    "        select inspect.mesreg as date, avg(macroeconomic_monthly.total_retail_trade) as retail_trade, count(inspect.infra) as \n",
    "        numinfra from raw.inspections_complete as inspect left join raw.macroeconomic_monthly as macroeconomic_monthly on\n",
    "        inspect.datereg=macroeconomic_monthly.date group by inspect.mesreg order by date asc;\n",
    "    \"\"\"\n",
    "df = pd.read_sql_query(qry, engine)"
   ]
  },
  {
   "cell_type": "code",
   "execution_count": null,
   "metadata": {},
   "outputs": [],
   "source": [
    "df.head(n=30)"
   ]
  },
  {
   "cell_type": "code",
   "execution_count": null,
   "metadata": {},
   "outputs": [],
   "source": [
    "# Time series plot of infractions and retauk trade scaled by maximum value\n",
    "fig = plt.figure()\n",
    "ax1 = fig.add_subplot(111)\n",
    "\n",
    "ax1.plot(df['date'], df['retail_trade']/max(df['retail_trade']), color='blue', label='Retail Trade')\n",
    "ax1.plot(df['date'], df['numinfra']/max(df['numinfra']), color='red', label='Infractions')\n",
    "ax1.set_title('(Scaled) Total Retail Trade and Number of Infractions over Time')\n",
    "\n",
    "plt.rcParams[\"figure.figsize\"] = [20,15]\n",
    "plt.legend()\n",
    "plt.show()"
   ]
  },
  {
   "cell_type": "code",
   "execution_count": null,
   "metadata": {},
   "outputs": [],
   "source": [
    "qry = \"\"\"\n",
    "        set role direccion_trabajo_inspections_write;\n",
    "        select * from raw.copper;\n",
    "    \"\"\"\n",
    "copper = pd.read_sql_query(qry, engine)"
   ]
  },
  {
   "cell_type": "code",
   "execution_count": null,
   "metadata": {},
   "outputs": [],
   "source": [
    "copper.describe()"
   ]
  },
  {
   "cell_type": "code",
   "execution_count": null,
   "metadata": {},
   "outputs": [],
   "source": [
    "qry = \"\"\"\n",
    "        set role direccion_trabajo_inspections_write;\n",
    "        select * from raw.macroeconomic_monthly;\n",
    "    \"\"\"\n",
    "macro_monthly = pd.read_sql_query(qry, engine)"
   ]
  },
  {
   "cell_type": "code",
   "execution_count": null,
   "metadata": {},
   "outputs": [],
   "source": [
    "macro_monthly.describe()"
   ]
  },
  {
   "cell_type": "code",
   "execution_count": null,
   "metadata": {},
   "outputs": [],
   "source": [
    "corr = macro_monthly.corr()\n",
    "\n",
    "mask = np.zeros_like(corr, dtype=np.bool)\n",
    "mask[np.triu_indices_from(mask)] = True\n",
    "\n",
    "f, ax = plt.subplots(figsize=(11, 9))\n",
    "\n",
    "cmap = sns.diverging_palette(220, 10, as_cmap=True)\n",
    "\n",
    "sns.heatmap(corr, mask=mask, cmap=cmap, vmax=.3, center=0,\n",
    "            square=True, linewidths=.5, cbar_kws={\"shrink\": .5})"
   ]
  },
  {
   "cell_type": "code",
   "execution_count": null,
   "metadata": {},
   "outputs": [],
   "source": [
    "qry = \"\"\"\n",
    "        set role direccion_trabajo_inspections_write;\n",
    "        select * from raw.macroeconomic_quarterly;\n",
    "    \"\"\"\n",
    "macro_quarterly = pd.read_sql_query(qry, engine)"
   ]
  },
  {
   "cell_type": "code",
   "execution_count": null,
   "metadata": {},
   "outputs": [],
   "source": [
    "macro_quarterly.describe()"
   ]
  },
  {
   "cell_type": "code",
   "execution_count": null,
   "metadata": {},
   "outputs": [],
   "source": [
    "corr2 = macro_quarterly.corr()\n",
    "\n",
    "mask = np.zeros_like(corr2, dtype=np.bool)\n",
    "mask[np.triu_indices_from(mask)] = True\n",
    "\n",
    "f, ax = plt.subplots(figsize=(11, 9))\n",
    "\n",
    "cmap = sns.color_palette('deep', 10)\n",
    "\n",
    "sns.heatmap(corr2, mask=mask, cmap=cmap, vmax=.3, center=0,\n",
    "            square=True, linewidths=.5, cbar_kws={\"shrink\": .5})"
   ]
  },
  {
   "cell_type": "code",
   "execution_count": null,
   "metadata": {},
   "outputs": [],
   "source": [
    "qry = \"\"\"\n",
    "        set role direccion_trabajo_inspections_write;\n",
    "        select * from\n",
    "        \n",
    "        (select idfiscalizacion, extract(month from datereg) as month, extract(year from datereg) as year, infra,\n",
    "        emptrabhombres\n",
    "        from raw.inspections_complete) inspect\n",
    "        \n",
    "        join\n",
    "        \n",
    "        (select extract(month from date) as month, extract(year from date) as year,\n",
    "        cpi, exchange_rate, civilian_labor_force, total_retail_trade, active_population,\n",
    "        employment_rate, inactivity_rate, unemployment_rate\n",
    "        from raw.macroeconomic_monthly) macro_data\n",
    "        \n",
    "        on inspect.month=macro_data.month and inspect.year=macro_data.year;\n",
    "    \"\"\"\n",
    "join_macro_inspections = pd.read_sql_query(qry, engine)"
   ]
  },
  {
   "cell_type": "code",
   "execution_count": null,
   "metadata": {},
   "outputs": [],
   "source": [
    "join_macro_inspections.head()"
   ]
  },
  {
   "cell_type": "code",
   "execution_count": null,
   "metadata": {},
   "outputs": [],
   "source": [
    "join_macro_inspections.describe()"
   ]
  },
  {
   "cell_type": "code",
   "execution_count": null,
   "metadata": {},
   "outputs": [],
   "source": [
    "corr3 = join_macro_inspections.corr()\n",
    "\n",
    "mask = np.zeros_like(corr3, dtype=np.bool)\n",
    "mask[np.triu_indices_from(mask)] = True\n",
    "\n",
    "f, ax = plt.subplots(figsize=(11, 9))\n",
    "\n",
    "cmap = sns.diverging_palette(220, 10, as_cmap=True)\n",
    "\n",
    "sns.heatmap(corr3, mask=mask, cmap=cmap, vmax=.3, center=0,\n",
    "            square=True, linewidths=.5, cbar_kws={\"shrink\": .5})"
   ]
  },
  {
   "cell_type": "code",
   "execution_count": null,
   "metadata": {},
   "outputs": [],
   "source": []
  }
 ],
 "metadata": {
  "kernelspec": {
   "display_name": "Python 3",
   "language": "python",
   "name": "python3"
  },
  "language_info": {
   "codemirror_mode": {
    "name": "ipython",
    "version": 3
   },
   "file_extension": ".py",
   "mimetype": "text/x-python",
   "name": "python",
   "nbconvert_exporter": "python",
   "pygments_lexer": "ipython3",
   "version": "3.6.5"
  }
 },
 "nbformat": 4,
 "nbformat_minor": 2
}
