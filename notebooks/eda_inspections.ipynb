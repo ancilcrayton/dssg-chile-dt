{
 "cells": [
  {
   "cell_type": "markdown",
   "metadata": {},
   "source": [
    "# Inspections EDA"
   ]
  },
  {
   "cell_type": "code",
   "execution_count": null,
   "metadata": {},
   "outputs": [],
   "source": [
    "import sys\n",
    "sys.path.append('../')\n",
    "\n",
    "import pipeline.sql as plsql\n",
    "import pipeline.eda as pleda\n",
    "import eda.eda_functions as lceda\n",
    "\n",
    "from plotnine import *\n",
    "import pandas as pd"
   ]
  },
  {
   "cell_type": "code",
   "execution_count": null,
   "metadata": {},
   "outputs": [],
   "source": [
    "engine = plsql.create_engine('../config.yaml')"
   ]
  },
  {
   "cell_type": "code",
   "execution_count": null,
   "metadata": {},
   "outputs": [],
   "source": [
    "role = 'direccion_trabajo_inspections_write'"
   ]
  },
  {
   "cell_type": "markdown",
   "metadata": {},
   "source": [
    "### Metadata"
   ]
  },
  {
   "cell_type": "code",
   "execution_count": null,
   "metadata": {},
   "outputs": [],
   "source": [
    "qry = \"\"\"\n",
    "        set role direccion_trabajo_inspections_write; select variable_name, \n",
    "        description_spanish, description_english from raw.metadata;\n",
    "        \"\"\""
   ]
  },
  {
   "cell_type": "code",
   "execution_count": null,
   "metadata": {},
   "outputs": [],
   "source": [
    "pd.read_sql_query(qry, engine)"
   ]
  },
  {
   "cell_type": "markdown",
   "metadata": {},
   "source": [
    "### Inspections complete"
   ]
  },
  {
   "cell_type": "code",
   "execution_count": null,
   "metadata": {},
   "outputs": [],
   "source": [
    "qry = \"\"\"\n",
    "        set role direccion_trabajo_inspections_write;\n",
    "        select region, count(distinct ccae) as numindus, \n",
    "            count(distinct codoficina) as numoffice, sum(infra) as numinfra, count(*) as total\n",
    "        from raw.inspections_complete\n",
    "        group by region\n",
    "        order by region;\n",
    "    \"\"\""
   ]
  },
  {
   "cell_type": "code",
   "execution_count": null,
   "metadata": {},
   "outputs": [],
   "source": [
    "df = pd.read_sql_query(qry, engine)\n"
   ]
  },
  {
   "cell_type": "code",
   "execution_count": null,
   "metadata": {},
   "outputs": [],
   "source": [
    "(ggplot(df, aes('region', 'numoffice') ) +\n",
    "    geom_bar(stat = 'identity', fill = \"purple\") +\n",
    "    #scale_x_continuous(breaks = range(0, 16)) +\n",
    "    theme_bw() + \n",
    "    #coord_flip() +\n",
    "    ggtitle(\"Number of Offices by Region\"))"
   ]
  },
  {
   "cell_type": "code",
   "execution_count": null,
   "metadata": {},
   "outputs": [],
   "source": [
    "(ggplot(df, aes('region', 'numinfra') ) +\n",
    "    geom_bar(stat = 'identity', fill = \"purple\") +\n",
    "    scale_x_continuous(breaks = range(0, 16)) +\n",
    "    theme_bw() + \n",
    "    #coord_flip() +\n",
    "    ggtitle(\"Number of Infractions by Region\"))"
   ]
  },
  {
   "cell_type": "code",
   "execution_count": null,
   "metadata": {},
   "outputs": [],
   "source": [
    "(ggplot(df, aes('region', 'total') ) +\n",
    "    geom_bar(stat = 'identity', fill = \"purple\") +\n",
    "    #scale_x_continuous(breaks = range(0, 16)) +\n",
    "    theme_bw() + \n",
    "    #coord_flip() +\n",
    "    ggtitle(\"Number of Inspections by Region\"))"
   ]
  },
  {
   "cell_type": "code",
   "execution_count": null,
   "metadata": {},
   "outputs": [],
   "source": [
    "(ggplot(df, aes('region', 'numindus') ) +\n",
    "    geom_bar(stat = 'identity', fill = \"purple\") +\n",
    "    #scale_x_continuous(breaks = range(0, 16)) +\n",
    "    theme_bw() + \n",
    "    #coord_flip() +\n",
    "    ggtitle(\"Number of Industries by Region\"))"
   ]
  },
  {
   "cell_type": "code",
   "execution_count": null,
   "metadata": {},
   "outputs": [],
   "source": [
    "qry = \"\"\"\n",
    "        set role direccion_trabajo_inspections_write;\n",
    "        select agno, region, count(distinct codoficina) as numoffice, sum(infra) as numinfra, count(*)p as total\n",
    "        from raw.inspections_complete\n",
    "        group by agno, region\n",
    "        order by region, agno;\n",
    "    \"\"\""
   ]
  },
  {
   "cell_type": "code",
   "execution_count": null,
   "metadata": {},
   "outputs": [],
   "source": [
    "df = pd.read_sql_query(qry, engine)\n"
   ]
  },
  {
   "cell_type": "code",
   "execution_count": null,
   "metadata": {},
   "outputs": [],
   "source": [
    "(ggplot(df, aes('agno', 'total')) + \n",
    "    geom_point() + \n",
    "    geom_line() + \n",
    "    theme_bw() + \n",
    "    theme(axis_text_x=element_text(angle=90)) +\n",
    "    facet_wrap('~region') + \n",
    "    ggtitle(\"Number of inspections over time by region\"))"
   ]
  },
  {
   "cell_type": "code",
   "execution_count": null,
   "metadata": {},
   "outputs": [],
   "source": [
    "(ggplot(df, aes('agno', 'numoffice')) + \n",
    "    geom_point() + \n",
    "    geom_line() + \n",
    "    theme_bw() + \n",
    "    theme(axis_text_x=element_text(angle=90)) +\n",
    "    facet_wrap('~region') + \n",
    "    ggtitle(\"Number of offices over time by region\"))"
   ]
  },
  {
   "cell_type": "code",
   "execution_count": null,
   "metadata": {},
   "outputs": [],
   "source": [
    "(ggplot(df, aes('agno', 'numinfra')) + \n",
    "    geom_point() + \n",
    "    geom_line() + \n",
    "    theme_bw() + \n",
    "    theme(axis_text_x=element_text(angle=90)) +\n",
    "    facet_wrap('~region', scales = 'free') + \n",
    "    ggtitle(\"Number of infractions over time by region\"))"
   ]
  },
  {
   "cell_type": "code",
   "execution_count": null,
   "metadata": {},
   "outputs": [],
   "source": [
    "qry = \"\"\"\n",
    "        set role direccion_trabajo_inspections_write;\n",
    "        select agno, count(distinct codoficina) as numoffice, sum(infra) as numinfra, count(*) as total\n",
    "        from raw.inspections_complete\n",
    "        group by agno\n",
    "        order by agno;\n",
    "    \"\"\""
   ]
  },
  {
   "cell_type": "code",
   "execution_count": null,
   "metadata": {},
   "outputs": [],
   "source": [
    "df = pd.read_sql_query(qry, engine)"
   ]
  },
  {
   "cell_type": "code",
   "execution_count": null,
   "metadata": {},
   "outputs": [],
   "source": []
  },
  {
   "cell_type": "code",
   "execution_count": null,
   "metadata": {},
   "outputs": [],
   "source": [
    "(ggplot(df, aes('agno', 'numinfra')) + \n",
    "    geom_point() + \n",
    "    geom_line() + \n",
    "    theme_bw() + \n",
    "    theme(axis_text_x=element_text(angle=90)) +\n",
    "    ggtitle(\"Number of infractions over time\") + \n",
    "    ylim(0,150000))"
   ]
  },
  {
   "cell_type": "code",
   "execution_count": null,
   "metadata": {},
   "outputs": [],
   "source": [
    "(ggplot(df, aes('agno', 'total')) + \n",
    "    geom_point() + \n",
    "    geom_line() + \n",
    "    theme_bw() + \n",
    "    theme(axis_text_x=element_text(angle=90)) +\n",
    "    ggtitle(\"Number of inspections over time\") +\n",
    "    ylim(0,200000))"
   ]
  },
  {
   "cell_type": "code",
   "execution_count": null,
   "metadata": {},
   "outputs": [],
   "source": [
    "(ggplot(df, aes('agno', 'numoffice')) + \n",
    "    geom_point() + \n",
    "    geom_line() + \n",
    "    theme_bw() + \n",
    "    theme(axis_text_x=element_text(angle=90)) +\n",
    "    ggtitle(\"Number of offices active each year\") + \n",
    "    ylim(0,140))"
   ]
  },
  {
   "cell_type": "code",
   "execution_count": null,
   "metadata": {},
   "outputs": [],
   "source": [
    "qry = \"\"\"\n",
    "        set role direccion_trabajo_inspections_write;\n",
    "        select region, count(distinct ccae) as numindus, sum(infra) as numinfra, count(*) as total\n",
    "        from raw.inspections_complete\n",
    "        group by region\n",
    "        order by total;\n",
    "    \"\"\"\n",
    "df = pd.read_sql_query(qry, engine)"
   ]
  },
  {
   "cell_type": "code",
   "execution_count": null,
   "metadata": {},
   "outputs": [],
   "source": [
    "df"
   ]
  },
  {
   "cell_type": "code",
   "execution_count": null,
   "metadata": {},
   "outputs": [],
   "source": [
    "df = pd.read_sql_query(\"\"\"set role direccion_trabajo_inspections_write;\n",
    "                       select agno, mesreg, count(*), sum(infra) from raw.inspections_complete \n",
    "                       group by agno, mesreg order by agno, mesreg;\"\"\", engine)"
   ]
  },
  {
   "cell_type": "code",
   "execution_count": null,
   "metadata": {},
   "outputs": [],
   "source": [
    "(ggplot(df, aes('mesreg', 'sum')) + \n",
    "    geom_point() + \n",
    "    geom_line() + \n",
    "    theme_bw() + \n",
    "    theme(axis_text_x=element_text(angle=90)) +\n",
    "    facet_wrap('~agno') + \n",
    "    ggtitle(\"Number of infractions over months by year\"))"
   ]
  },
  {
   "cell_type": "code",
   "execution_count": null,
   "metadata": {},
   "outputs": [],
   "source": [
    "(ggplot(df, aes('mesreg', 'count')) + \n",
    "    geom_point() + \n",
    "    geom_line() + \n",
    "    theme_bw() + \n",
    "    theme(axis_text_x=element_text(angle=90)) +\n",
    "    facet_wrap('~agno') + \n",
    "    ggtitle(\"Number of inspections over months by year\"))"
   ]
  },
  {
   "cell_type": "code",
   "execution_count": null,
   "metadata": {},
   "outputs": [],
   "source": [
    "plsql.query(\"select count(distinct rutempresamask), agno from raw.inspections_complete group by agno;\")"
   ]
  },
  {
   "cell_type": "code",
   "execution_count": null,
   "metadata": {},
   "outputs": [],
   "source": [
    "plsql.query(\"select count(distinct rutempresamask), agno from raw.taxes group by agno;\")"
   ]
  },
  {
   "cell_type": "code",
   "execution_count": null,
   "metadata": {},
   "outputs": [],
   "source": [
    "role = \"set role direccion_trabajo_inspections_write;\"\n",
    "df = plsql.query(\"{} select cast(ntrabajadores as int), 1 as cat from raw.taxes;\".format(role), engine)"
   ]
  },
  {
   "cell_type": "code",
   "execution_count": null,
   "metadata": {},
   "outputs": [],
   "source": [
    "pleda.count_nulls(engine, 'direccion_trabajo_inspections_write', 'raw', 'taxes', 'ntrabajadores')"
   ]
  },
  {
   "cell_type": "code",
   "execution_count": null,
   "metadata": {},
   "outputs": [],
   "source": [
    "df.ntrabajadores.min()"
   ]
  },
  {
   "cell_type": "code",
   "execution_count": null,
   "metadata": {},
   "outputs": [],
   "source": [
    "df.ntrabajadores.max()"
   ]
  },
  {
   "cell_type": "code",
   "execution_count": null,
   "metadata": {},
   "outputs": [],
   "source": [
    "df.ntrabajadores.mean()"
   ]
  },
  {
   "cell_type": "code",
   "execution_count": null,
   "metadata": {},
   "outputs": [],
   "source": [
    "df.ntrabajadores.median()"
   ]
  },
  {
   "cell_type": "code",
   "execution_count": null,
   "metadata": {},
   "outputs": [],
   "source": [
    "(ggplot(df, aes(x = 'cat', y = 'ntrabajadores')) + \n",
    "    geom_boxplot() +\n",
    "    coord_flip())"
   ]
  },
  {
   "cell_type": "code",
   "execution_count": null,
   "metadata": {},
   "outputs": [],
   "source": [
    "(ggplot(df, aes('ntrabajadores')) + \n",
    "    geom_density())"
   ]
  },
  {
   "cell_type": "code",
   "execution_count": null,
   "metadata": {},
   "outputs": [],
   "source": [
    "df = plsql.query(\"{} select cast(emptrabhombres as int), 1 as cat from raw.inspections_complete where emptrabhombres != '99999';\".format(role), engine)"
   ]
  },
  {
   "cell_type": "code",
   "execution_count": null,
   "metadata": {},
   "outputs": [],
   "source": [
    "pleda.count_nulls(engine, 'direccion_trabajo_inspections_write', 'raw', 'inspections_complete', 'emptrabhombres')"
   ]
  },
  {
   "cell_type": "code",
   "execution_count": null,
   "metadata": {},
   "outputs": [],
   "source": [
    "df.emptrabhombres.min()"
   ]
  },
  {
   "cell_type": "code",
   "execution_count": null,
   "metadata": {},
   "outputs": [],
   "source": [
    "df.emptrabhombres.max()"
   ]
  },
  {
   "cell_type": "code",
   "execution_count": null,
   "metadata": {},
   "outputs": [],
   "source": [
    "df.emptrabhombres.mean()"
   ]
  },
  {
   "cell_type": "code",
   "execution_count": null,
   "metadata": {},
   "outputs": [],
   "source": [
    "df.emptrabhombres.median()"
   ]
  },
  {
   "cell_type": "code",
   "execution_count": null,
   "metadata": {},
   "outputs": [],
   "source": [
    "(ggplot(df, aes(x = 'cat', y = 'emptrabhombres')) + \n",
    "    geom_boxplot() +\n",
    "    coord_flip())"
   ]
  },
  {
   "cell_type": "markdown",
   "metadata": {},
   "source": [
    "### NULL values"
   ]
  },
  {
   "cell_type": "code",
   "execution_count": null,
   "metadata": {},
   "outputs": [],
   "source": [
    "df_nulls = pleda.proportion_nulls_all_columns(engine, role, 'raw', 'inspections_complete')\n",
    "df_nulls.head()"
   ]
  },
  {
   "cell_type": "code",
   "execution_count": null,
   "metadata": {},
   "outputs": [],
   "source": [
    "(ggplot(df_nulls, aes(x = 'column_name', y = \"1\", fill = 'proportion')) +\n",
    "     geom_tile()+ \n",
    "    theme(axis_text_x = element_text(angle = 90),\n",
    "          figure_size = (7, 2)) + \n",
    "    ggtitle(\"Inspections NULL\"))"
   ]
  },
  {
   "cell_type": "code",
   "execution_count": null,
   "metadata": {},
   "outputs": [],
   "source": [
    "qry = \"\"\"set role {};\n",
    "    select *\n",
    "    from raw.inspections_complete\n",
    "    limit 3;\"\"\". format(role)\n",
    "colnames = plsql.query(qry, engine).columns\n",
    "colnames"
   ]
  },
  {
   "cell_type": "code",
   "execution_count": null,
   "metadata": {},
   "outputs": [],
   "source": [
    "len(colnames)"
   ]
  },
  {
   "cell_type": "code",
   "execution_count": null,
   "metadata": {},
   "outputs": [],
   "source": [
    "def description_colname(colname):\n",
    "    print(colname)\n",
    "    print('\\nNulls:')\n",
    "    print(pleda.count_nulls(engine, role, 'raw', 'inspections_complete', colname))\n",
    "    tab = pleda.rows_by_group(engine, role, 'raw', 'inspections_complete', colname)\n",
    "    print('\\nDescription:')\n",
    "    print(tab[colname].describe())\n",
    "    print('\\n')\n",
    "    return tab"
   ]
  },
  {
   "cell_type": "code",
   "execution_count": null,
   "metadata": {},
   "outputs": [],
   "source": [
    "tab = description_colname(colnames[0])\n",
    "# unique value\n",
    "tab['count'].describe() "
   ]
  },
  {
   "cell_type": "code",
   "execution_count": null,
   "metadata": {},
   "outputs": [],
   "source": [
    "tab = description_colname(colnames[1])\n",
    "print(sum(tab.codoficina == 99))\n",
    "print(pleda.count_nulls(engine, role, 'raw', 'inspections_complete', colnames[1], \n",
    "                        na = '99', ind = 'false'))\n",
    "tab.shape"
   ]
  },
  {
   "cell_type": "code",
   "execution_count": null,
   "metadata": {},
   "outputs": [],
   "source": [
    "qry = \"\"\"set role {};\n",
    "    select * \n",
    "    from raw.office_data;\n",
    "    \"\"\".format(role)\n",
    "tt = tab.merge(plsql.query(qry, engine), left_on = 'codoficina', right_on = 'codeoffice', how='left')\n",
    "tt.head()\n",
    "tt[pd.isnull(tt['codeoffice'])].shape"
   ]
  },
  {
   "cell_type": "code",
   "execution_count": null,
   "metadata": {},
   "outputs": [],
   "source": [
    "tab = description_colname(colnames[2])\n",
    "print(sum(tab.agno == 99))\n",
    "print(pleda.count_nulls(engine, role, 'raw', 'inspections_complete', colnames[2]))\n",
    "tab"
   ]
  },
  {
   "cell_type": "code",
   "execution_count": null,
   "metadata": {},
   "outputs": [],
   "source": [
    "tab = description_colname(colnames[3])\n",
    "print(sum(tab.nrocomision == 99))\n",
    "print(sum(tab.nrocomision == 9999))"
   ]
  },
  {
   "cell_type": "code",
   "execution_count": null,
   "metadata": {},
   "outputs": [],
   "source": [
    "qry = \"\"\"set role {};\n",
    "    select * \n",
    "    from raw.office_data;\n",
    "    \"\"\".format(role)\n",
    "tt = tab.merge(plsql.query(qry, engine), left_on = 'nrocomision', right_on = 'codeoffice', how='left')\n",
    "print( tt.head() )\n",
    "print( tab.shape )\n",
    "print( tt[pd.isnull(tt['codeoffice'])].shape )\n",
    "print( sum(pd.isnull(tt['codeoffice'])) )"
   ]
  },
  {
   "cell_type": "code",
   "execution_count": null,
   "metadata": {},
   "outputs": [],
   "source": [
    "tab = description_colname(colnames[4])"
   ]
  },
  {
   "cell_type": "code",
   "execution_count": null,
   "metadata": {},
   "outputs": [],
   "source": [
    "qry = \"\"\"set role {};\n",
    "    select \n",
    "    case when totalafectados in (9999, 'NaN') then NULL else totalafectados end as totalafectados_rec, count(*)\n",
    "    from raw.inspections_complete\n",
    "    group by totalafectados_rec;\"\"\".format(role)\n",
    "tab = plsql.query(qry, engine)\n",
    "sum(tab.totalafectados_rec == 9999)"
   ]
  },
  {
   "cell_type": "code",
   "execution_count": null,
   "metadata": {},
   "outputs": [],
   "source": [
    "description_colname(colnames[5])"
   ]
  },
  {
   "cell_type": "code",
   "execution_count": null,
   "metadata": {},
   "outputs": [],
   "source": [
    "description_colname(colnames[6])"
   ]
  },
  {
   "cell_type": "code",
   "execution_count": null,
   "metadata": {},
   "outputs": [],
   "source": [
    "description_colname(colnames[7])\n",
    "description_colname(colnames[8])\n",
    "qry = \"\"\"set role {};\n",
    "    select codtiposol, solicitante, count(*) \n",
    "    from raw.inspections_complete\n",
    "    group by codtiposol, solicitante;\n",
    "    \"\"\".format(role)\n",
    "plsql.query(qry, engine)"
   ]
  },
  {
   "cell_type": "code",
   "execution_count": null,
   "metadata": {},
   "outputs": [],
   "source": [
    "description_colname(colnames[9])\n",
    "description_colname(colnames[10])\n",
    "qry = \"\"\"set role {};\n",
    "    select codunidadorigen, unidadorigen, count(*) \n",
    "    from raw.inspections_complete\n",
    "    group by codunidadorigen, unidadorigen;\n",
    "    \"\"\".format(role)\n",
    "plsql.query(qry, engine)"
   ]
  },
  {
   "cell_type": "code",
   "execution_count": null,
   "metadata": {},
   "outputs": [],
   "source": []
  },
  {
   "cell_type": "code",
   "execution_count": null,
   "metadata": {},
   "outputs": [],
   "source": [
    "description_colname(colnames[11])\n",
    "description_colname(colnames[12])\n",
    "qry = \"\"\"set role {};\n",
    "    select codtipotermino, tipotermino, count(*) \n",
    "    from raw.inspections_complete\n",
    "    group by codtipotermino, tipotermino;\n",
    "    \"\"\".format(role)\n",
    "plsql.query(qry, engine)"
   ]
  },
  {
   "cell_type": "code",
   "execution_count": null,
   "metadata": {},
   "outputs": [],
   "source": [
    "print( description_colname(colnames[13]) )"
   ]
  },
  {
   "cell_type": "code",
   "execution_count": null,
   "metadata": {},
   "outputs": [],
   "source": [
    "tab = description_colname(colnames[14])\n",
    "print( sum(tab.empdfcodcomuna == 99) )\n",
    "print( sum(tab.empdfcodcomuna == 999) )\n",
    "print( sum(tab.empdfcodcomuna == 9999) )\n",
    "tab.empdfcodcomuna = tab.empdfcodcomuna.astype('float')\n",
    "tab.empdfcodcomuna.describe()\n",
    "print( tab[tab.empdfcodcomuna < 1] )\n",
    "print( tab[tab.empdfcodcomuna > 3].empdfcodcomuna.describe() )\n",
    "print( tab[tab.empdfcodcomuna > 1].empdfcodcomuna.nunique() )"
   ]
  },
  {
   "cell_type": "code",
   "execution_count": null,
   "metadata": {},
   "outputs": [],
   "source": [
    "tab = description_colname(colnames[15])\n",
    "print( sum(tab.empdmcodcomuna == 99) )\n",
    "print( sum(tab.empdmcodcomuna == 999) )\n",
    "print( sum(tab.empdmcodcomuna == 9999) )\n",
    "tab.empdmcodcomuna = tab.empdmcodcomuna.astype('float')\n",
    "print( tab.empdmcodcomuna.describe() )\n",
    "print( tab[tab.empdmcodcomuna < 1] )\n",
    "print( tab[tab.empdmcodcomuna > 1].empdmcodcomuna.describe() )\n",
    "print( tab[tab.empdmcodcomuna > 1].empdmcodcomuna.nunique() )"
   ]
  },
  {
   "cell_type": "code",
   "execution_count": null,
   "metadata": {},
   "outputs": [],
   "source": [
    "tab = description_colname(colnames[16])\n",
    "print( sum(tab.emptrabhombres == 99) )\n",
    "print( sum(tab.emptrabhombres == 999) )\n",
    "print( sum(tab.emptrabhombres == 9999) )\n",
    "print( sum(tab.emptrabhombres == 99999) )"
   ]
  },
  {
   "cell_type": "code",
   "execution_count": null,
   "metadata": {},
   "outputs": [],
   "source": [
    "tab = description_colname(colnames[17])\n",
    "tab.codcae.nunique()\n",
    "print( tab[tab.codcae.isin(['0', '1', '-1', 'None'])] )\n",
    "print( tab[pd.isnull(tab.codcae)].codcae )"
   ]
  },
  {
   "cell_type": "code",
   "execution_count": null,
   "metadata": {},
   "outputs": [],
   "source": [
    "description_colname(colnames[18])"
   ]
  },
  {
   "cell_type": "code",
   "execution_count": null,
   "metadata": {},
   "outputs": [],
   "source": [
    "for i in range(19, 32):\n",
    "    print(i)\n",
    "    tab = description_colname(colnames[i])"
   ]
  },
  {
   "cell_type": "code",
   "execution_count": null,
   "metadata": {},
   "outputs": [],
   "source": [
    "print( description_colname(colnames[32]).head() )\n",
    "print( description_colname(colnames[33]).head() )\n",
    "qry = \"\"\"set role {};\n",
    "    select ccae, gcae, count(*) \n",
    "    from raw.inspections_complete\n",
    "    group by ccae, gcae;\n",
    "    \"\"\".format(role)\n",
    "plsql.query(qry, engine)"
   ]
  },
  {
   "cell_type": "code",
   "execution_count": null,
   "metadata": {},
   "outputs": [],
   "source": [
    "print( description_colname(colnames[34]).head() )\n",
    "print( description_colname(colnames[35]).head() )\n",
    "qry = \"\"\"set role {};\n",
    "    select crae, grae, count(*) \n",
    "    from raw.inspections_complete\n",
    "    group by crae, grae;\n",
    "    \"\"\".format(role)\n",
    "plsql.query(qry, engine)"
   ]
  },
  {
   "cell_type": "code",
   "execution_count": null,
   "metadata": {},
   "outputs": [],
   "source": [
    "tab = description_colname(colnames[36])\n",
    "tab = description_colname(colnames[37])"
   ]
  },
  {
   "cell_type": "code",
   "execution_count": null,
   "metadata": {},
   "outputs": [],
   "source": [
    "tab = description_colname(colnames[38])\n",
    "tab"
   ]
  },
  {
   "cell_type": "code",
   "execution_count": null,
   "metadata": {},
   "outputs": [],
   "source": [
    "description_colname(colnames[39])"
   ]
  },
  {
   "cell_type": "code",
   "execution_count": null,
   "metadata": {},
   "outputs": [],
   "source": [
    "description_colname(colnames[40])"
   ]
  },
  {
   "cell_type": "code",
   "execution_count": null,
   "metadata": {},
   "outputs": [],
   "source": [
    "print( description_colname(colnames[41]) )"
   ]
  },
  {
   "cell_type": "code",
   "execution_count": null,
   "metadata": {},
   "outputs": [],
   "source": [
    "print( description_colname(colnames[42]) )"
   ]
  },
  {
   "cell_type": "code",
   "execution_count": null,
   "metadata": {},
   "outputs": [],
   "source": [
    "print( description_colname(colnames[43]) )"
   ]
  },
  {
   "cell_type": "code",
   "execution_count": null,
   "metadata": {},
   "outputs": [],
   "source": [
    "tab = description_colname(colnames[44])\n",
    "tab.head()\n",
    "pd.to_datetime(tab.datereg).describe()"
   ]
  },
  {
   "cell_type": "code",
   "execution_count": null,
   "metadata": {},
   "outputs": [],
   "source": [
    "description_colname(colnames[45])"
   ]
  },
  {
   "cell_type": "code",
   "execution_count": null,
   "metadata": {},
   "outputs": [],
   "source": [
    "description_colname(colnames[46])"
   ]
  },
  {
   "cell_type": "code",
   "execution_count": null,
   "metadata": {},
   "outputs": [],
   "source": []
  },
  {
   "cell_type": "code",
   "execution_count": null,
   "metadata": {},
   "outputs": [],
   "source": [
    "colnames"
   ]
  },
  {
   "cell_type": "code",
   "execution_count": null,
   "metadata": {},
   "outputs": [],
   "source": [
    "qry = \"\"\"set role {};\n",
    "    select idfiscalizacion, codoficina, \n",
    "    agno, \n",
    "    datereg, \n",
    "    mesreg, \n",
    "    date(agno || '-' || mesreg || '-01') as datereg_monthyear,\n",
    "    nrocomision, \n",
    "    case when totalafectados in (9999, 'NaN') then NULL else totalafectados end as totalafectados_rec,\n",
    "    urgencia, \n",
    "    solesafectado, \n",
    "    codtipotermino, tipotermino,\n",
    "    case when empdfcodcomuna in ('0', '-1', '3') then NULL else empdfcodcomuna end as empdfcodcomuna_rec,\n",
    "    case when empdmcodcomuna in ('0', '-1', 'None') then NULL else empdmcodcomuna end as empdmcodcomuna_rec,\n",
    "    egresoconmulta, emptrabhombres, \n",
    "    codtipoempresa, \n",
    "    grupocodtipomaterias, \n",
    "    grupocodtipomaterias2,\n",
    "    grupoglosatipomaterias,\n",
    "    grupoglosatipomaterias2, \n",
    "    grupoglosainfra, \n",
    "    grupoglosainfra2, \n",
    "    grupocodigoinfra, \n",
    "    grupocodigoinfra2, \n",
    "    grupoglosainfra_det, \n",
    "    grupoglosainfra2_det, \n",
    "    grupocodigoinfra_det,\n",
    "    grupocodigoinfra2_det, \n",
    "    grupocodigonormainfra2_det,\n",
    "    grupocodigonormainfra2_det,\n",
    "    case when codcae in ('0', '-1', 'None', '1') then NULL else codcae end as codcae_rec,\n",
    "    ccae, gcae, \n",
    "    case when crae in ('1') then '101' else crae end as crae_rec,\n",
    "    case when grae in ('AGRICULTURA, CAZA, SILVICULTURA Y PESCA                                         ') then 'agricultura, ganadería, caza y silvicultura' else lower(grae) end as grae_rec,\n",
    "    infra, noinfra, derechofund, num_materias, num_sind, region, \n",
    "    infractor, exsind\n",
    "    rutempresamask\n",
    "    from raw.inspections_complete\n",
    "    limit 4;\"\"\".format(role)\n",
    "plsql.query(qry, engine)"
   ]
  },
  {
   "cell_type": "code",
   "execution_count": null,
   "metadata": {},
   "outputs": [],
   "source": [
    "qry = \"\"\"SET ROLE {};\n",
    "    SELECT idfiscalizacion, codoficina,  \n",
    "    CASE WHEN grupocodtipomaterias = '99' THEN \n",
    "        ( CASE WHEN grupocodtipomaterias2 = '99' THEN \n",
    "            NULL ELSE \n",
    "            regexp_replace(grupocodtipomaterias2, ';', '|', 'g') \n",
    "            END) ELSE \n",
    "        ( CASE WHEN grupocodtipomaterias = '99' THEN \n",
    "            NULL ELSE \n",
    "            regexp_replace(grupocodtipomaterias, ',', '|', 'g') \n",
    "            END) END \n",
    "            AS grupocodtipomaterias_union,\n",
    "    CASE WHEN grupoglosatipomaterias = '99' THEN \n",
    "        ( CASE WHEN grupoglosatipomaterias2 = '99' THEN \n",
    "            NULL ELSE \n",
    "            grupoglosatipomaterias2 \n",
    "            END) ELSE \n",
    "        ( CASE WHEN grupoglosatipomaterias = '99' THEN \n",
    "            NULL ELSE \n",
    "            grupoglosatipomaterias END) \n",
    "            END \n",
    "            AS grupoglosatipomaterias_union,\n",
    "    CASE WHEN grupoglosainfra = '99' THEN \n",
    "        ( CASE WHEN grupoglosainfra2 = '99' THEN \n",
    "            NULL ELSE \n",
    "            grupoglosainfra2 \n",
    "            END) ELSE \n",
    "        ( CASE WHEN grupoglosainfra = '99' \n",
    "            THEN NULL ELSE \n",
    "            grupoglosainfra \n",
    "            END) END \n",
    "            AS grupoglosainfra_union,\n",
    "    CASE WHEN grupocodigoinfra = '99' THEN \n",
    "        ( CASE WHEN grupocodigoinfra2 = '99' \n",
    "            THEN NULL ELSE \n",
    "            regexp_replace(grupocodigoinfra2 , ';', '|', 'g') \n",
    "            END) ELSE \n",
    "        ( CASE WHEN grupocodigoinfra = '99' \n",
    "            THEN NULL ELSE \n",
    "            regexp_replace(grupocodigoinfra , ',', '|', 'g') \n",
    "            END) END \n",
    "            AS grupocodigoinfra_union,\n",
    "    CASE WHEN grupoglosainfra_det = '99' THEN \n",
    "        ( CASE WHEN grupoglosainfra2_det = '99' \n",
    "            THEN NULL ELSE \n",
    "            grupoglosainfra2_det \n",
    "            END) ELSE \n",
    "        ( CASE WHEN grupoglosainfra_det = '99' \n",
    "            THEN NULL ELSE \n",
    "            grupoglosainfra_det \n",
    "            END) END \n",
    "            AS grupoglosainfra_det_union,\n",
    "    CASE WHEN grupocodigoinfra_det = '99' THEN \n",
    "        ( CASE WHEN grupocodigoinfra2_det = '99' \n",
    "            THEN NULL ELSE \n",
    "            grupocodigoinfra2_det\n",
    "            END) ELSE \n",
    "        ( CASE WHEN grupocodigoinfra_det = '99' \n",
    "            THEN NULL ELSE \n",
    "            grupocodigoinfra_det\n",
    "            END) END \n",
    "            AS grupocodigoinfra_det_union,\n",
    "    CASE WHEN grupocodigonormainfra2_det = '99'\n",
    "        THEN NULL ELSE\n",
    "        grupocodigonormainfra2_det\n",
    "        END AS grupocodigonormainfra2_det\n",
    "    FROM raw.inspections_complete\n",
    "    LIMIT 4;\"\"\".format(role)\n",
    "plsql.query(qry, engine)"
   ]
  },
  {
   "cell_type": "markdown",
   "metadata": {},
   "source": [
    "# Inspections cleaned"
   ]
  },
  {
   "cell_type": "code",
   "execution_count": null,
   "metadata": {},
   "outputs": [],
   "source": [
    "qry = \"\"\"SET ROLE {};\n",
    "    SELECT *\n",
    "    FROM cleaned.inspections_complete\n",
    "    LIMIT 4;\"\"\".format(role)\n",
    "plsql.query(qry, engine)"
   ]
  },
  {
   "cell_type": "markdown",
   "metadata": {},
   "source": [
    "### Matters inspected"
   ]
  },
  {
   "cell_type": "code",
   "execution_count": null,
   "metadata": {},
   "outputs": [],
   "source": [
    "lceda.description_colname(engine, role, \"raw\", \"inspections_complete\", \"grupocodtipomaterias\")"
   ]
  },
  {
   "cell_type": "code",
   "execution_count": null,
   "metadata": {},
   "outputs": [],
   "source": [
    "lceda.description_colname(engine, role, \"raw\", \"inspections_complete\", \"grupocodtipomaterias2\")"
   ]
  },
  {
   "cell_type": "code",
   "execution_count": null,
   "metadata": {},
   "outputs": [],
   "source": [
    "lceda.description_colname(engine, role, \"cleaned\", \"inspections_complete\", \"grupocodtipomaterias_union\")"
   ]
  },
  {
   "cell_type": "code",
   "execution_count": null,
   "metadata": {},
   "outputs": [],
   "source": [
    "lceda.description_colname(engine, role, \"cleaned\", \"inspected_matters\", \"matter_code\")"
   ]
  },
  {
   "cell_type": "markdown",
   "metadata": {},
   "source": [
    "### Matters infracted"
   ]
  },
  {
   "cell_type": "code",
   "execution_count": null,
   "metadata": {},
   "outputs": [],
   "source": [
    "lceda.description_colname(engine, role, \"raw\", \"inspections_complete\", \"grupocodigoinfra\")"
   ]
  },
  {
   "cell_type": "code",
   "execution_count": null,
   "metadata": {},
   "outputs": [],
   "source": [
    "lceda.description_colname(engine, role, \"raw\", \"inspections_complete\", \"grupocodigoinfra2\")"
   ]
  },
  {
   "cell_type": "code",
   "execution_count": null,
   "metadata": {},
   "outputs": [],
   "source": [
    "lceda.description_colname(engine, role, \"cleaned\", \"inspections_complete\", \"grupocodigoinfra_union\")"
   ]
  },
  {
   "cell_type": "code",
   "execution_count": null,
   "metadata": {},
   "outputs": [],
   "source": [
    "lceda.description_colname(engine, role, \"cleaned\", \"infracted_matters\", \"matter_code\")"
   ]
  },
  {
   "cell_type": "code",
   "execution_count": null,
   "metadata": {},
   "outputs": [],
   "source": []
  },
  {
   "cell_type": "markdown",
   "metadata": {},
   "source": [
    "### Matters infracted detailed"
   ]
  },
  {
   "cell_type": "code",
   "execution_count": null,
   "metadata": {},
   "outputs": [],
   "source": [
    "lceda.description_colname(engine, role, \"raw\", \"inspections_complete\", \"grupocodigoinfra_det\")"
   ]
  },
  {
   "cell_type": "code",
   "execution_count": null,
   "metadata": {},
   "outputs": [],
   "source": [
    "lceda.description_colname(engine, role, \"raw\", \"inspections_complete\", \"grupocodigoinfra2_det\")"
   ]
  },
  {
   "cell_type": "code",
   "execution_count": null,
   "metadata": {},
   "outputs": [],
   "source": [
    "lceda.description_colname(engine, role, \"cleaned\", \"inspections_complete\", \"grupocodigoinfra_det_union\")"
   ]
  },
  {
   "cell_type": "code",
   "execution_count": null,
   "metadata": {},
   "outputs": [],
   "source": [
    "lceda.description_colname(engine, role, \"cleaned\", \"infracted_matters_detailed\", \"matter_code\")"
   ]
  },
  {
   "cell_type": "code",
   "execution_count": null,
   "metadata": {},
   "outputs": [],
   "source": []
  },
  {
   "cell_type": "markdown",
   "metadata": {},
   "source": [
    "### Matters infracted updated book"
   ]
  },
  {
   "cell_type": "code",
   "execution_count": null,
   "metadata": {},
   "outputs": [],
   "source": [
    "lceda.description_colname(engine, role, \"raw\", \"inspections_complete\", \"grupocodigonormainfra2_det\")"
   ]
  },
  {
   "cell_type": "code",
   "execution_count": null,
   "metadata": {},
   "outputs": [],
   "source": [
    "lceda.description_colname(engine, role, \"cleaned\", \"inspections_complete\", \"grupocodigonormainfra2_det_union\")"
   ]
  },
  {
   "cell_type": "code",
   "execution_count": null,
   "metadata": {},
   "outputs": [],
   "source": [
    "lceda.description_colname(engine, role, \"cleaned\", \"infracted_matters_updatedbook\", \"matter_code\")"
   ]
  },
  {
   "cell_type": "code",
   "execution_count": null,
   "metadata": {},
   "outputs": [],
   "source": []
  }
 ],
 "metadata": {
  "kernelspec": {
   "display_name": "Python 3",
   "language": "python",
   "name": "python3"
  },
  "language_info": {
   "codemirror_mode": {
    "name": "ipython",
    "version": 3
   },
   "file_extension": ".py",
   "mimetype": "text/x-python",
   "name": "python",
   "nbconvert_exporter": "python",
   "pygments_lexer": "ipython3",
   "version": "3.6.5"
  }
 },
 "nbformat": 4,
 "nbformat_minor": 2
}
