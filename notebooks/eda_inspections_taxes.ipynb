{
 "cells": [
  {
   "cell_type": "code",
   "execution_count": null,
   "metadata": {},
   "outputs": [],
   "source": [
    "import psycopg2\n",
    "import numpy as np\n",
    "import pandas as pd\n",
    "from sqlalchemy import create_engine\n",
    "import yaml\n",
    "import matplotlib.pyplot as plt\n",
    "from plotnine import *\n",
    "theme_set(theme_bw())\n",
    "\n",
    "file = open(\"../pop.yaml\", 'r')\n",
    "config = yaml.load(file)\n",
    "\n",
    "engine_path = 'postgresql://{}:{}@{}/{}'\n",
    "engine = create_engine(engine_path.format(config['db']['username'], config['db']['password'], config['db']['host'],\n",
    "                                          config['db']['database']))"
   ]
  },
  {
   "cell_type": "code",
   "execution_count": null,
   "metadata": {},
   "outputs": [],
   "source": [
    "qry = 'set role direccion_trabajo_inspections_write;select * from raw.inspections_sample;'\n",
    "df3=pd.read_sql_query(qry, engine)"
   ]
  },
  {
   "cell_type": "code",
   "execution_count": null,
   "metadata": {},
   "outputs": [],
   "source": [
    "qry = \"\"\"\n",
    "        set role direccion_trabajo_inspections_write; select variable_name, description_english from raw.metadata;\n",
    "        \"\"\""
   ]
  },
  {
   "cell_type": "code",
   "execution_count": null,
   "metadata": {},
   "outputs": [],
   "source": [
    "pd.read_sql_query(qry, engine)"
   ]
  },
  {
   "cell_type": "code",
   "execution_count": null,
   "metadata": {},
   "outputs": [],
   "source": [
    "qry = \"\"\"\n",
    "        set role direccion_trabajo_inspections_write; select * from raw.inspections_complete limit 5;\n",
    "        \"\"\""
   ]
  },
  {
   "cell_type": "code",
   "execution_count": null,
   "metadata": {},
   "outputs": [],
   "source": [
    "pd.read_sql_query(qry, engine)"
   ]
  },
  {
   "cell_type": "code",
   "execution_count": null,
   "metadata": {},
   "outputs": [],
   "source": [
    "qry = \"\"\"\n",
    "        set role direccion_trabajo_inspections_write;\n",
    "        select mesreg, count(IDFiscalizacion) as numinspec, sum(num_materias) as Total_Inspections,\n",
    "        count(distinct codoficina) as numoffice, sum(infra) as numinfra\n",
    "        from raw.inspections_complete\n",
    "        where Agno = '2014'\n",
    "        group by mesreg\n",
    "        order by mesreg;\n",
    "    \"\"\""
   ]
  },
  {
   "cell_type": "code",
   "execution_count": null,
   "metadata": {},
   "outputs": [],
   "source": [
    "pd.read_sql_query(qry, engine)"
   ]
  },
  {
   "cell_type": "code",
   "execution_count": null,
   "metadata": {},
   "outputs": [],
   "source": [
    "df = pd.read_sql_query(qry, engine)"
   ]
  },
  {
   "cell_type": "code",
   "execution_count": null,
   "metadata": {},
   "outputs": [],
   "source": [
    "(ggplot(df, aes('mesreg', 'numinfra') ) +\n",
    "    geom_bar(stat = 'identity', fill = \"purple\") +\n",
    "    #scale_x_continuous(breaks = range(0, 16)) +\n",
    "    xlab('Month') + ylab('No of Infractions') +\n",
    "    theme_bw() + \n",
    "    #coord_flip() +\n",
    "    ggtitle(\"Number of Infractions per Month\"))"
   ]
  },
  {
   "cell_type": "code",
   "execution_count": null,
   "metadata": {},
   "outputs": [],
   "source": []
  },
  {
   "cell_type": "code",
   "execution_count": null,
   "metadata": {},
   "outputs": [],
   "source": []
  },
  {
   "cell_type": "code",
   "execution_count": null,
   "metadata": {},
   "outputs": [],
   "source": [
    "(ggplot(df, aes('mesreg', 'numinspec') ) +\n",
    "    geom_bar(stat = 'identity', fill = \"purple\") +\n",
    "    #scale_x_continuous(breaks = range(0, 16)) +\n",
    "    xlab('Month') + ylab('No of Inspections') +\n",
    "    theme_bw() + \n",
    "    #coord_flip() +\n",
    "    ggtitle(\"Number of Inspections per Month\"))"
   ]
  },
  {
   "cell_type": "code",
   "execution_count": null,
   "metadata": {},
   "outputs": [],
   "source": [
    "pd.read_sql_query(qry, engine)"
   ]
  },
  {
   "cell_type": "code",
   "execution_count": null,
   "metadata": {},
   "outputs": [],
   "source": [
    "qry = \"\"\"\n",
    "        set role direccion_trabajo_inspections_write;\n",
    "        select count(IDFiscalizacion) as numinspec, sum(EmpTrabHombres) as Num_Employees,\n",
    "            count(distinct codoficina) as numoffice, sum(infra) as numinfra, sum(num_materias) as Num_Matters_Inspected,\n",
    "            sum(TotalAfectados) as Total_Affected_Employees,count(distinct EmpDFCodComuna) as Total_Companies_Adr, \n",
    "            count(distinct RutEmpresaMask) as Total_Facilities\n",
    "        from raw.inspections_complete;\n",
    "    \"\"\""
   ]
  },
  {
   "cell_type": "code",
   "execution_count": null,
   "metadata": {},
   "outputs": [],
   "source": [
    "pd.read_sql_query(qry, engine)"
   ]
  },
  {
   "cell_type": "code",
   "execution_count": null,
   "metadata": {},
   "outputs": [],
   "source": [
    "qry = \"\"\"\n",
    "        set role direccion_trabajo_inspections_write;\n",
    "        select \n",
    "        sum(case when EgresoConMulta then 1 else 0 end) as Penalty from raw.inspections_complete;\n",
    "        \"\"\""
   ]
  },
  {
   "cell_type": "code",
   "execution_count": null,
   "metadata": {},
   "outputs": [],
   "source": [
    "pd.read_sql_query(qry, engine)"
   ]
  },
  {
   "cell_type": "code",
   "execution_count": null,
   "metadata": {},
   "outputs": [],
   "source": [
    "qry = \"\"\"\n",
    "    set role direccion_trabajo_inspections_write;\n",
    "    select count(EmpDMCodComuna) as HQ, count(distinct EmpDFCodComuna) as Company_Address from raw.inspections_complete limit 20;\n",
    "\"\"\""
   ]
  },
  {
   "cell_type": "code",
   "execution_count": null,
   "metadata": {},
   "outputs": [],
   "source": [
    "pd.read_sql_query(qry, engine)"
   ]
  },
  {
   "cell_type": "code",
   "execution_count": null,
   "metadata": {},
   "outputs": [],
   "source": [
    "qry = \"\"\"\n",
    "        set role direccion_trabajo_inspections_write; select variable_name, description_english from raw.metadata;\n",
    "        \"\"\""
   ]
  },
  {
   "cell_type": "code",
   "execution_count": null,
   "metadata": {},
   "outputs": [],
   "source": [
    "qry = \"\"\"\n",
    "        set role direccion_trabajo_inspections_write;\n",
    "        select * from cleaned.inspections_se limit 10;\n",
    "        \"\"\""
   ]
  },
  {
   "cell_type": "code",
   "execution_count": null,
   "metadata": {},
   "outputs": [],
   "source": [
    "pd.read_sql_query(qry, engine)"
   ]
  },
  {
   "cell_type": "code",
   "execution_count": null,
   "metadata": {},
   "outputs": [],
   "source": [
    "pd.read_sql_query(qry, engine)"
   ]
  },
  {
   "cell_type": "code",
   "execution_count": null,
   "metadata": {},
   "outputs": [],
   "source": [
    "qry = \"\"\"\n",
    "     set role direccion_trabajo_inspections_write;\n",
    "     select EmpDFCodComuna, max(sum(num_materias)) from raw.inspections_complete\n",
    "     group by EmpDFCodComuna;\n",
    "    \"\"\""
   ]
  },
  {
   "cell_type": "code",
   "execution_count": null,
   "metadata": {},
   "outputs": [],
   "source": [
    "qry = \"\"\"\n",
    " set role direccion_trabajo_inspections_write;\n",
    " select Agno, sum(TotalAfectados), sum(infra) as Infra\n",
    " from raw.inspections_complete\n",
    " group by Agno\n",
    " order by Agno;\n",
    "\"\"\""
   ]
  },
  {
   "cell_type": "code",
   "execution_count": null,
   "metadata": {},
   "outputs": [],
   "source": [
    "df = pd.read_sql_query(qry, engine)"
   ]
  },
  {
   "cell_type": "code",
   "execution_count": null,
   "metadata": {},
   "outputs": [],
   "source": [
    "df"
   ]
  },
  {
   "cell_type": "code",
   "execution_count": null,
   "metadata": {},
   "outputs": [],
   "source": [
    "import matplotlib.pyplot as plt"
   ]
  },
  {
   "cell_type": "code",
   "execution_count": null,
   "metadata": {},
   "outputs": [],
   "source": [
    "df"
   ]
  },
  {
   "cell_type": "code",
   "execution_count": null,
   "metadata": {},
   "outputs": [],
   "source": [
    "plt.plot( 'agno', 'sum', data=df, marker='', color='olive', linewidth=2)\n",
    "plt.plot( 'agno', 'infra', data=df, marker='', color='olive', linewidth=2, linestyle='dashed', label=\"toto\")\n"
   ]
  },
  {
   "cell_type": "code",
   "execution_count": null,
   "metadata": {},
   "outputs": [],
   "source": [
    "plt.subplot(2, 1, 1)\n",
    "plt.plot( 'agno', 'sum', data=df, marker='', color='olive', linewidth=2)\n",
    "plt.title('# Employees Affected vs # Infranctions Year Wise')\n",
    "plt.ylabel('Number of Employees Affected')\n",
    "\n",
    "plt.subplot(2, 1, 2)\n",
    "plt.plot( 'agno', 'infra', data=df, marker='', color='olive', linewidth=2, linestyle='dashed', label=\"toto\")\n",
    "plt.xlabel('Year')\n",
    "plt.ylabel('Number of Infractions')\n",
    "\n",
    "plt.rcParams[\"figure.figsize\"] = [12,7]\n"
   ]
  },
  {
   "cell_type": "code",
   "execution_count": null,
   "metadata": {},
   "outputs": [],
   "source": [
    "(ggplot(df, aes('agno')) +\n",
    " geom_line(aes(y = 'sum')) + \n",
    "  geom_line(aes(y = 'infra')))"
   ]
  },
  {
   "cell_type": "code",
   "execution_count": null,
   "metadata": {},
   "outputs": [],
   "source": [
    "pd"
   ]
  },
  {
   "cell_type": "code",
   "execution_count": null,
   "metadata": {},
   "outputs": [],
   "source": [
    "import plotly.plotly as py\n",
    "import plotly.graph_objs as go"
   ]
  },
  {
   "cell_type": "code",
   "execution_count": null,
   "metadata": {},
   "outputs": [],
   "source": [
    "qry = \"\"\"\n",
    "        set role direccion_trabajo_inspections_write;\n",
    "        select datereg, count(IDFiscalizacion) as numinspec, sum(num_materias) as Total_Inspections,\n",
    "        count(distinct codoficina) as numoffice, sum(infra) as numinfra\n",
    "        from raw.inspections_complete\n",
    "        where Agno = '2014' and mesreg = '10'\n",
    "        group by inspections_complete.datereg\n",
    "        order by inspections_complete.datereg;\n",
    "    \"\"\""
   ]
  },
  {
   "cell_type": "code",
   "execution_count": null,
   "metadata": {},
   "outputs": [],
   "source": [
    "df1 = pd.read_sql_query(qry, engine)"
   ]
  },
  {
   "cell_type": "code",
   "execution_count": null,
   "metadata": {},
   "outputs": [],
   "source": [
    "df1"
   ]
  },
  {
   "cell_type": "code",
   "execution_count": null,
   "metadata": {},
   "outputs": [],
   "source": [
    "ggplot(df, aes(x = 'datereg', y = 'numinfra')) + \\\n",
    "geom_point(color='steelblue') +\\\n",
    "theme(axis_text_x = element_text(angle = 90, vjust = 1, hjust=1))"
   ]
  },
  {
   "cell_type": "code",
   "execution_count": null,
   "metadata": {},
   "outputs": [],
   "source": [
    "plt.plot( 'datereg', 'numinfra', data=df1, marker='o', markerfacecolor='blue', markersize=12, color='skyblue', linewidth=4)\n",
    "plt.rcParams[\"figure.figsize\"] = [12,7]\n",
    "plt.xlabel('Date')\n",
    "plt.ylabel('Number of Infractions')\n",
    "plt.title('October 2014 Spike in Infractions')\n",
    "\n"
   ]
  },
  {
   "cell_type": "code",
   "execution_count": null,
   "metadata": {},
   "outputs": [],
   "source": [
    "qry = \"\"\"\n",
    "        set role direccion_trabajo_inspections_write; select variable_name, description_english from raw.metadata;\n",
    "        \"\"\""
   ]
  },
  {
   "cell_type": "code",
   "execution_count": null,
   "metadata": {},
   "outputs": [],
   "source": [
    "pd.set_option('display.max_colwidth', 100)"
   ]
  },
  {
   "cell_type": "code",
   "execution_count": null,
   "metadata": {},
   "outputs": [],
   "source": [
    "meta = pd.read_sql_query(qry,engine)"
   ]
  },
  {
   "cell_type": "code",
   "execution_count": null,
   "metadata": {},
   "outputs": [],
   "source": []
  },
  {
   "cell_type": "code",
   "execution_count": null,
   "metadata": {},
   "outputs": [],
   "source": [
    "meta"
   ]
  },
  {
   "cell_type": "code",
   "execution_count": null,
   "metadata": {},
   "outputs": [],
   "source": [
    "qry = \"\"\"\n",
    "        set role direccion_trabajo_inspections_write;\n",
    "        select count(idfiscalizacion) as count_infrac, matter_code\n",
    "        from cleaned.infracted_matters\n",
    "        group by matter_code\n",
    "        order by count_infrac DESC\n",
    "        limit 15;\"\"\""
   ]
  },
  {
   "cell_type": "code",
   "execution_count": null,
   "metadata": {},
   "outputs": [],
   "source": [
    "post = pd.read_sql_query(qry, engine)"
   ]
  },
  {
   "cell_type": "code",
   "execution_count": null,
   "metadata": {},
   "outputs": [],
   "source": [
    "post[\"Violation\"] = \"\""
   ]
  },
  {
   "cell_type": "code",
   "execution_count": null,
   "metadata": {},
   "outputs": [],
   "source": [
    "post.head(6)"
   ]
  },
  {
   "cell_type": "code",
   "execution_count": null,
   "metadata": {},
   "outputs": [],
   "source": [
    "poster = post.loc[post['count_infrac'] > 50000]"
   ]
  },
  {
   "cell_type": "code",
   "execution_count": null,
   "metadata": {},
   "outputs": [],
   "source": [
    "poster"
   ]
  },
  {
   "cell_type": "code",
   "execution_count": null,
   "metadata": {},
   "outputs": [],
   "source": [
    "poster.sort_values(by=['count_infrac'], ascending=False)"
   ]
  },
  {
   "cell_type": "code",
   "execution_count": null,
   "metadata": {},
   "outputs": [],
   "source": [
    "post.loc[post['matter_code'] == '10', 'Violation'] = \"Day and Breaks\"\n",
    "post.loc[post['matter_code'] == '9', 'Violation'] = \"Hygiene and Security\"\n",
    "post.loc[post['matter_code'] == '15', 'Violation'] = \"Remunerations\"\n",
    "post.loc[post['matter_code'] == '3', 'Violation'] = \"Work Contract\"\n",
    "post.loc[post['matter_code'] == '12', 'Violation'] = \"Trade Union Organizations\""
   ]
  },
  {
   "cell_type": "code",
   "execution_count": null,
   "metadata": {},
   "outputs": [],
   "source": [
    "post.loc[post['matter_code'] == '6', 'Violation'] = \"Predictive Quotations\"\n",
    "post.loc[post['matter_code'] == '4', 'Violation'] = \"Informal Labor\"\n",
    "post.loc[post['matter_code'] == '52', 'Violation'] = \"Remunerations\""
   ]
  },
  {
   "cell_type": "code",
   "execution_count": null,
   "metadata": {},
   "outputs": [],
   "source": [
    "poster.loc[poster['matter_code'] == '64', 'Violation'] = \"Workers' Health/Life Protn.\""
   ]
  },
  {
   "cell_type": "code",
   "execution_count": null,
   "metadata": {},
   "outputs": [],
   "source": [
    "p=(ggplot(poster, aes('Violation', 'count_infrac') ) +\n",
    "    geom_bar(stat = 'identity', fill = \"steelblue\") +\n",
    "    #scale_x_continuous(breaks = range(0, 16)) +\n",
    "    xlab('') + \n",
    "    ylab('No. of Violations') +\n",
    "    theme(\n",
    "         axis_text_x  = element_text(size = 6, angle = 20, hjust = 1, color='black'),\n",
    "         axis_text_y  = element_text(size = 6, color='black'),\n",
    "         axis_title=element_text(size=7)) +\n",
    "    #coord_flip() +\n",
    "    ggtitle(\"Top 5 Violation Categories (2006-2016)\")\n",
    "  )"
   ]
  },
  {
   "cell_type": "code",
   "execution_count": null,
   "metadata": {},
   "outputs": [],
   "source": [
    "ggsave(p, \"Top 5 Violation Categories (2006-2016).png\", width = 5, height = 3)"
   ]
  },
  {
   "cell_type": "code",
   "execution_count": null,
   "metadata": {},
   "outputs": [],
   "source": [
    "print(p)"
   ]
  },
  {
   "cell_type": "code",
   "execution_count": null,
   "metadata": {},
   "outputs": [],
   "source": []
  },
  {
   "cell_type": "code",
   "execution_count": null,
   "metadata": {},
   "outputs": [],
   "source": []
  },
  {
   "cell_type": "code",
   "execution_count": null,
   "metadata": {},
   "outputs": [],
   "source": []
  },
  {
   "cell_type": "code",
   "execution_count": null,
   "metadata": {},
   "outputs": [],
   "source": []
  },
  {
   "cell_type": "code",
   "execution_count": null,
   "metadata": {},
   "outputs": [],
   "source": [
    "post['matter_code'] = post['matter_code'].str.strip()"
   ]
  },
  {
   "cell_type": "code",
   "execution_count": null,
   "metadata": {},
   "outputs": [],
   "source": [
    "qry = \"\"\"\n",
    "        set role direccion_trabajo_inspections_write; \n",
    "        select sum(infra) as Infractions, Urgencia from raw.inspections_complete\n",
    "        group by Urgencia;\n",
    "        \"\"\""
   ]
  },
  {
   "cell_type": "code",
   "execution_count": null,
   "metadata": {},
   "outputs": [],
   "source": [
    "pd.read_sql_query(qry, engine)"
   ]
  },
  {
   "cell_type": "code",
   "execution_count": null,
   "metadata": {},
   "outputs": [],
   "source": [
    "qry = \"\"\"\n",
    "        set role direccion_trabajo_inspections_write;\n",
    "        select comuna from raw.taxes limit 10;\n",
    "        \"\"\""
   ]
  },
  {
   "cell_type": "code",
   "execution_count": null,
   "metadata": {},
   "outputs": [],
   "source": [
    "pd.read_sql_query(qry, engine)"
   ]
  },
  {
   "cell_type": "code",
   "execution_count": null,
   "metadata": {},
   "outputs": [],
   "source": [
    "qry = \"\"\"\n",
    "        set role direccion_trabajo_inspections_write;\n",
    "        select count (distinct rutmask), count (rutmask) from raw.taxes;\n",
    "        \"\"\""
   ]
  },
  {
   "cell_type": "code",
   "execution_count": null,
   "metadata": {},
   "outputs": [],
   "source": [
    "pd.read_sql_query(qry, engine)"
   ]
  },
  {
   "cell_type": "code",
   "execution_count": null,
   "metadata": {},
   "outputs": [],
   "source": [
    "pd.set_option('display.max_colwidth', 100)"
   ]
  },
  {
   "cell_type": "code",
   "execution_count": null,
   "metadata": {},
   "outputs": [],
   "source": [
    "pd.read_sql_query(qry, engine)"
   ]
  },
  {
   "cell_type": "code",
   "execution_count": null,
   "metadata": {},
   "outputs": [],
   "source": [
    "qry = \"\"\"\n",
    "        set role direccion_trabajo_inspections_write;\n",
    "        select agno, ntrabajadores, rutmask, dv from raw.taxes\n",
    "        where rutmask = '3a925175e5bb378637e5eaf09624c1ebcdaff3cc9f87b57362a1d5ab586d037a' OR rutmask = 'cc90a6a0ebf1c561bb93d2af459d211aa85c36ca2d5b69e31ebd896ac72a58ba'\n",
    "        OR rutmask = '1c90c5ae35062796e81562c42b1ea1122a7d7e7587d42991897a7796b48bfc1a' OR rutmask = '2be11218e6f0e0edc70d62d1ab924ed6ca58bd47054e0b8e7766d044da37c2ff'\n",
    "        order by rutmask, agno\n",
    "        \"\"\""
   ]
  },
  {
   "cell_type": "code",
   "execution_count": null,
   "metadata": {},
   "outputs": [],
   "source": [
    "pd.read_sql_query(qry, engine)"
   ]
  },
  {
   "cell_type": "code",
   "execution_count": null,
   "metadata": {},
   "outputs": [],
   "source": [
    "qry = \"\"\"\n",
    "        set role direccion_trabajo_inspections_write;\n",
    "        select count (distinct rubro) from raw.taxes;\n",
    "        \"\"\""
   ]
  },
  {
   "cell_type": "code",
   "execution_count": null,
   "metadata": {},
   "outputs": [],
   "source": [
    "pd.read_sql_query(qry, engine)"
   ]
  },
  {
   "cell_type": "code",
   "execution_count": null,
   "metadata": {},
   "outputs": [],
   "source": [
    "qry = \"\"\"\n",
    "        set role direccion_trabajo_inspections_write;\n",
    "        select avg(infra), agno from raw.inspections_complete\n",
    "        group by agno;\n",
    "        \"\"\""
   ]
  },
  {
   "cell_type": "code",
   "execution_count": null,
   "metadata": {},
   "outputs": [],
   "source": [
    "pd.read_sql_query(qry, engine)"
   ]
  },
  {
   "cell_type": "code",
   "execution_count": null,
   "metadata": {},
   "outputs": [],
   "source": [
    "meta"
   ]
  },
  {
   "cell_type": "code",
   "execution_count": null,
   "metadata": {},
   "outputs": [],
   "source": [
    "qry = \"\"\"\n",
    "        set role direccion_trabajo_inspections_write;\n",
    "        select i.Agno, i.RutEmpresaMask, i.IDFiscalizacion, i.TotalAfectados, i.Urgencia, i.EgresoConMulta, i.noInfra,\n",
    "        i.Infra, i.derechoFund, i.num_materias, i.num_sind, i.Region, i.datereg, i.mesreg,\n",
    "        t.ntrabajadores, t.rubro, t.fechatermino\n",
    "        from raw.inspections_complete i\n",
    "        inner join raw.taxes t\n",
    "        on i.RutEmpresaMask=t.RutMask\n",
    "        AND i.Agno=t.agno;\n",
    "        \"\"\""
   ]
  },
  {
   "cell_type": "code",
   "execution_count": null,
   "metadata": {},
   "outputs": [],
   "source": [
    "merged=pd.read_sql_query(qry, engine)"
   ]
  },
  {
   "cell_type": "code",
   "execution_count": null,
   "metadata": {},
   "outputs": [],
   "source": [
    "merged.head()"
   ]
  },
  {
   "cell_type": "code",
   "execution_count": null,
   "metadata": {},
   "outputs": [],
   "source": [
    "import pandas as pd\n",
    "import numpy as np\n",
    "import scipy as sp\n",
    "import plotly.plotly as py"
   ]
  },
  {
   "cell_type": "code",
   "execution_count": null,
   "metadata": {},
   "outputs": [],
   "source": [
    "import plotly.graph_objs as go"
   ]
  },
  {
   "cell_type": "code",
   "execution_count": null,
   "metadata": {},
   "outputs": [],
   "source": [
    "N = 20\n",
    "x = np.linspace(1, 10, N)\n",
    "y = np.random.randn(N)+3\n",
    "y2 = np.random.randn(N)+6\n",
    "y3 = np.random.randn(N)+9\n",
    "y4 = np.random.randn(N)+12\n",
    "df = pd.DataFrame({'x': x, 'y': y, 'y2':y2, 'y3':y3, 'y4':y4})\n",
    "df.head()b"
   ]
  },
  {
   "cell_type": "code",
   "execution_count": null,
   "metadata": {},
   "outputs": [],
   "source": [
    "industries = merged.groupby(['rubro'])[[\"noinfra\", \"infra\", \"num_materias\"]].sum()"
   ]
  },
  {
   "cell_type": "code",
   "execution_count": null,
   "metadata": {},
   "outputs": [],
   "source": [
    "industries['sum'] = industries['infra'] + industries['noinfra']"
   ]
  },
  {
   "cell_type": "code",
   "execution_count": null,
   "metadata": {},
   "outputs": [],
   "source": [
    "industries"
   ]
  },
  {
   "cell_type": "code",
   "execution_count": null,
   "metadata": {},
   "outputs": [],
   "source": [
    "industries.drop(columns=['num_materias','sum']).plot.bar(stacked=True,figsize=(12,7), title = \"Infractions/ No Infractions by Business Tyoe\")\n",
    "plt.xlabel('Business Type')"
   ]
  },
  {
   "cell_type": "code",
   "execution_count": null,
   "metadata": {},
   "outputs": [],
   "source": [
    "plt.matshow(merged.corr())"
   ]
  },
  {
   "cell_type": "code",
   "execution_count": null,
   "metadata": {},
   "outputs": [],
   "source": [
    "def plot_corr(df,size=10):\n",
    "    '''Function plots a graphical correlation matrix for each pair of columns in the dataframe.\n",
    "\n",
    "    Input:\n",
    "        df: pandas DataFrame\n",
    "        size: vertical and horizontal size of the plot'''\n",
    "\n",
    "    corr = df.corr()\n",
    "    fig, ax = plt.subplots(figsize=(size, size))\n",
    "    ax.matshow(corr)\n",
    "    plt.xticks(range(len(corr.columns)), corr.columns);\n",
    "    plt.yticks(range(len(corr.columns)), corr.columns);"
   ]
  },
  {
   "cell_type": "code",
   "execution_count": null,
   "metadata": {},
   "outputs": [],
   "source": [
    "merged.shape"
   ]
  },
  {
   "cell_type": "code",
   "execution_count": null,
   "metadata": {},
   "outputs": [],
   "source": [
    "qry = \"\"\"\n",
    "        set role direccion_trabajo_inspections_write;\n",
    "        select agno, sum(Infra) as Infra, sum(noInfra) as No_Infra, sum(num_materias) as Num_Materias_Inspected from raw.inspections_complete\n",
    "        group by agno;\n",
    "        \"\"\"\n",
    "\n",
    "discrepancy = pd.read_sql_query(qry, engine)\n",
    "\n",
    "discrepancy['Sum of Infra and No Infra'] = discrepancy['infra'] + discrepancy['no_infra']\n",
    "\n",
    "discrepancy['difference'] = discrepancy['num_materias_inspected'] - discrepancy['Sum of Infra and No Infra']\n",
    "\n",
    "discrepancy.loc['Total']= discrepancy.sum()"
   ]
  },
  {
   "cell_type": "code",
   "execution_count": null,
   "metadata": {},
   "outputs": [],
   "source": [
    "discrepancy"
   ]
  },
  {
   "cell_type": "code",
   "execution_count": null,
   "metadata": {},
   "outputs": [],
   "source": [
    "meta"
   ]
  },
  {
   "cell_type": "code",
   "execution_count": null,
   "metadata": {},
   "outputs": [],
   "source": [
    "qry = \"\"\"\n",
    "        set role direccion_trabajo_inspections_write;\n",
    "        select derechoFund, RutEmpresaMask, IDFiscalizacion  from raw.inspections_complete\n",
    "        where derechoFund > 0.0;\n",
    "        \"\"\""
   ]
  },
  {
   "cell_type": "code",
   "execution_count": null,
   "metadata": {},
   "outputs": [],
   "source": [
    "pd.read_sql_query(qry,engine)"
   ]
  },
  {
   "cell_type": "code",
   "execution_count": null,
   "metadata": {},
   "outputs": [],
   "source": [
    "qry = \"\"\"\n",
    "        set role direccion_trabajo_inspections_write;\n",
    "        select derechoFund, RutEmpresaMask  from raw.inspections_complete\n",
    "        where RutEmpresaMask='2ca6715b0d57dbfc9734ae9882719a1b4c85f9010448ca9d51647facd2956d16';\n",
    "        \"\"\""
   ]
  },
  {
   "cell_type": "code",
   "execution_count": null,
   "metadata": {},
   "outputs": [],
   "source": [
    "pd.read_sql_query(qry,engine)"
   ]
  },
  {
   "cell_type": "code",
   "execution_count": null,
   "metadata": {},
   "outputs": [],
   "source": [
    "qry = \"\"\"\n",
    "        set role direccion_trabajo_inspections_write; \n",
    "        select count(IDFiscalizacion), Infractor from raw.inspections_complete\n",
    "        group by Infractor;\n",
    "        \"\"\""
   ]
  },
  {
   "cell_type": "code",
   "execution_count": null,
   "metadata": {},
   "outputs": [],
   "source": [
    "pd.read_sql_query(qry,engine)"
   ]
  },
  {
   "cell_type": "code",
   "execution_count": null,
   "metadata": {},
   "outputs": [],
   "source": [
    "qry = \"\"\"\n",
    "        set role direccion_trabajo_inspections_write; \n",
    "        select count(RutEmpresaMask\t), Exsind from raw.inspections_complete\n",
    "        group by Exsind;\n",
    "        \"\"\""
   ]
  },
  {
   "cell_type": "code",
   "execution_count": null,
   "metadata": {},
   "outputs": [],
   "source": [
    "pd.read_sql_query(qry, engine)"
   ]
  },
  {
   "cell_type": "code",
   "execution_count": null,
   "metadata": {},
   "outputs": [],
   "source": [
    "qry = \"\"\"\n",
    "        set role direccion_trabajo_inspections_write; \n",
    "        select avg(stat) as avg_Inspec_year from \n",
    "        (select count(IDFiscalizacion) as stat, Agno from raw.inspections_complete\n",
    "        group by Agno) sub;\n",
    "        \"\"\""
   ]
  },
  {
   "cell_type": "code",
   "execution_count": null,
   "metadata": {},
   "outputs": [],
   "source": [
    "pd.read_sql_query(qry, engine)"
   ]
  },
  {
   "cell_type": "code",
   "execution_count": null,
   "metadata": {},
   "outputs": [],
   "source": [
    "qry = \"\"\"\n",
    "        set role direccion_trabajo_inspections_write; \n",
    "        select avg(stat) as Avg_Infrac_Year  from \n",
    "        (select sum(Infra) as stat, Agno from raw.inspections_complete\n",
    "        group by Agno) sub;\n",
    "        \"\"\""
   ]
  },
  {
   "cell_type": "code",
   "execution_count": null,
   "metadata": {},
   "outputs": [],
   "source": [
    "pd.read_sql_query(qry, engine)"
   ]
  },
  {
   "cell_type": "code",
   "execution_count": null,
   "metadata": {},
   "outputs": [],
   "source": [
    "qry = \"\"\"\n",
    "        set role direccion_trabajo_inspections_write; \n",
    "        select avg(stat) avg_Infrac_Region from \n",
    "        (select sum(Infra) as stat, Region from raw.inspections_complete\n",
    "        group by Region) sub;\n",
    "        \"\"\""
   ]
  },
  {
   "cell_type": "code",
   "execution_count": null,
   "metadata": {},
   "outputs": [],
   "source": [
    "pd.read_sql_query(qry, engine)"
   ]
  },
  {
   "cell_type": "code",
   "execution_count": null,
   "metadata": {},
   "outputs": [],
   "source": [
    "qry = \"\"\"\n",
    "        set role direccion_trabajo_inspections_write; \n",
    "        select avg(stat) avg_Inspec_Region from \n",
    "        (select count(IDFiscalizacion) as stat, Region from raw.inspections_complete\n",
    "        group by Region) sub;\n",
    "        \"\"\""
   ]
  },
  {
   "cell_type": "code",
   "execution_count": null,
   "metadata": {},
   "outputs": [],
   "source": [
    "pd.read_sql_query(qry,engine)"
   ]
  },
  {
   "cell_type": "code",
   "execution_count": null,
   "metadata": {},
   "outputs": [],
   "source": [
    "qry = \"\"\"\n",
    "        set role direccion_trabajo_inspections_write; \n",
    "        select avg(stat) avg_Inspec_Company from \n",
    "        (select count(IDFiscalizacion) as stat, RutEmpresaMask from raw.inspections_complete\n",
    "        group by RutEmpresaMask) sub;\n",
    "        \"\"\""
   ]
  },
  {
   "cell_type": "code",
   "execution_count": null,
   "metadata": {},
   "outputs": [],
   "source": [
    "pd.read_sql_query(qry, engine)"
   ]
  },
  {
   "cell_type": "code",
   "execution_count": null,
   "metadata": {},
   "outputs": [],
   "source": [
    "qry = \"\"\"\n",
    "        set role direccion_trabajo_inspections_write; \n",
    "        select avg(stat) avg_Infrac_Company from \n",
    "        (select sum(Infra) as stat, RutEmpresaMask from raw.inspections_complete\n",
    "        group by RutEmpresaMask) sub;\n",
    "        \"\"\""
   ]
  },
  {
   "cell_type": "code",
   "execution_count": null,
   "metadata": {},
   "outputs": [],
   "source": [
    "pd.read_sql_query(qry, engine)"
   ]
  },
  {
   "cell_type": "code",
   "execution_count": null,
   "metadata": {},
   "outputs": [],
   "source": [
    "qry = \"\"\"\n",
    "        set role direccion_trabajo_inspections_write; \n",
    "        select avg(stat) as avg_LabUnion_Company from \n",
    "        (select num_sind as stat, RutEmpresaMask from raw.inspections_complete) sub;\n",
    "        \"\"\""
   ]
  },
  {
   "cell_type": "code",
   "execution_count": null,
   "metadata": {},
   "outputs": [],
   "source": [
    "pd.read_sql_query(qry, engine)"
   ]
  },
  {
   "cell_type": "code",
   "execution_count": null,
   "metadata": {},
   "outputs": [],
   "source": [
    "qry = \"\"\"\n",
    "        set role direccion_trabajo_inspections_write; \n",
    "    \n",
    "        select distinct num_sind, RutEmpresaMask from raw.inspections_complete\n",
    "        where num_sind = 5\n",
    "        \n",
    "         limit 10;\n",
    "        \n",
    "        \"\"\""
   ]
  },
  {
   "cell_type": "code",
   "execution_count": null,
   "metadata": {},
   "outputs": [],
   "source": [
    "pd.set_option('display.max_colwidth', 100)"
   ]
  },
  {
   "cell_type": "code",
   "execution_count": null,
   "metadata": {},
   "outputs": [],
   "source": [
    "qry = \"\"\"\n",
    "        set role direccion_trabajo_inspections_write; \n",
    "        select num_sind, RutEmpresaMask from raw.inspections_complete\n",
    "        where RutEmpresaMask = 'c1d072b7c8b9a5deff04a6f94aed8e3431f247df1156d3d63161b38c7bacf542';\n",
    "        \"\"\""
   ]
  },
  {
   "cell_type": "code",
   "execution_count": null,
   "metadata": {},
   "outputs": [],
   "source": [
    "qry = \"\"\"\n",
    "        set role direccion_trabajo_inspections_write;\n",
    "        select i.Agno, i.RutEmpresaMask, i.IDFiscalizacion, i.TotalAfectados, i.Urgencia, i.EgresoConMulta, i.noInfra,\n",
    "        i.Infra, i.derechoFund, i.num_materias, i.num_sind, i.Region, i.datereg, i.mesreg,\n",
    "        t.ntrabajadores, t.rubro, t.fechatermino\n",
    "        from raw.inspections_complete i\n",
    "        inner join raw.taxes t\n",
    "        on i.RutEmpresaMask=t.RutMask\n",
    "        AND i.Agno=t.agno;\n",
    "        \"\"\""
   ]
  },
  {
   "cell_type": "code",
   "execution_count": null,
   "metadata": {},
   "outputs": [],
   "source": [
    "merged = pd.read_sql_query(qry, engine)"
   ]
  },
  {
   "cell_type": "code",
   "execution_count": null,
   "metadata": {},
   "outputs": [],
   "source": [
    "merged.head()"
   ]
  },
  {
   "cell_type": "code",
   "execution_count": null,
   "metadata": {},
   "outputs": [],
   "source": [
    "new = pd.DataFrame(merged[np.isfinite(merged['ntrabajadores'])].groupby(['rutempresamask'])['ntrabajadores'].mean())"
   ]
  },
  {
   "cell_type": "code",
   "execution_count": null,
   "metadata": {},
   "outputs": [],
   "source": [
    "new.head()"
   ]
  },
  {
   "cell_type": "code",
   "execution_count": null,
   "metadata": {},
   "outputs": [],
   "source": [
    "new['ntrabajadores'].mean()"
   ]
  },
  {
   "cell_type": "code",
   "execution_count": null,
   "metadata": {},
   "outputs": [],
   "source": [
    "qry = \"\"\"\n",
    "        set role direccion_trabajo_inspections_write;\n",
    "        SELECT sum(case Urgencia when null then 1 else 0 end) as Null_Values\n",
    "        FROM raw.inspections_complete;\n",
    "        \"\"\""
   ]
  },
  {
   "cell_type": "code",
   "execution_count": null,
   "metadata": {},
   "outputs": [],
   "source": [
    "pd.read_sql_query(qry, engine)"
   ]
  },
  {
   "cell_type": "code",
   "execution_count": null,
   "metadata": {},
   "outputs": [],
   "source": [
    "qry = \"\"\"\n",
    "        set role direccion_trabajo_inspections_write;\n",
    "        SELECT count(Urgencia)\n",
    "        FROM raw.inspections_complete\n",
    "        where Urgencia is null;\n",
    "        \"\"\""
   ]
  },
  {
   "cell_type": "code",
   "execution_count": null,
   "metadata": {},
   "outputs": [],
   "source": [
    "pd.read_sql_query(qry, engine)"
   ]
  },
  {
   "cell_type": "code",
   "execution_count": null,
   "metadata": {},
   "outputs": [],
   "source": [
    "qry = \"\"\"\n",
    "        set role direccion_trabajo_inspections_write;\n",
    "        SELECT *\n",
    "        FROM staging.simple\n",
    "        limit 5;\n",
    "        \"\"\""
   ]
  },
  {
   "cell_type": "code",
   "execution_count": null,
   "metadata": {},
   "outputs": [],
   "source": [
    "pd.read_sql_query(qry, engine)"
   ]
  },
  {
   "cell_type": "code",
   "execution_count": null,
   "metadata": {},
   "outputs": [],
   "source": [
    "qry = \"\"\"\n",
    "        set role direccion_trabajo_inspections_write;\n",
    "        SELECT count(rutempresamask)\n",
    "        FROM staging.simple\n",
    "        group by santiago;\n",
    "        \"\"\""
   ]
  },
  {
   "cell_type": "code",
   "execution_count": null,
   "metadata": {},
   "outputs": [],
   "source": [
    "pd.read_sql_query(qry, engine)"
   ]
  },
  {
   "cell_type": "code",
   "execution_count": null,
   "metadata": {},
   "outputs": [],
   "source": [
    "qry = \"\"\"\n",
    "        set role direccion_trabajo_inspections_write;\n",
    "        SELECT count(rutempresamask)\n",
    "        FROM staging.simple\n",
    "        group by infractor;\n",
    "        \"\"\""
   ]
  },
  {
   "cell_type": "code",
   "execution_count": null,
   "metadata": {},
   "outputs": [],
   "source": [
    "pd.read_sql_query(qry, engine)"
   ]
  },
  {
   "cell_type": "code",
   "execution_count": null,
   "metadata": {},
   "outputs": [],
   "source": [
    "qry = \"\"\"\n",
    "        set role direccion_trabajo_inspections_write;\n",
    "        SELECT count(rutempresamask)\n",
    "        FROM staging.simple\n",
    "        where agno != 2016 and infractor is not null\n",
    "        group by infractor;\n",
    "        \"\"\""
   ]
  },
  {
   "cell_type": "code",
   "execution_count": null,
   "metadata": {},
   "outputs": [],
   "source": [
    "pd.read_sql_query(qry, engine)"
   ]
  },
  {
   "cell_type": "code",
   "execution_count": null,
   "metadata": {},
   "outputs": [],
   "source": [
    "qry = \"\"\"\n",
    "        set role direccion_trabajo_inspections_write;\n",
    "        SELECT count(rutempresamask)\n",
    "        FROM staging.simple\n",
    "        where agno != 2016 and infractor is not null and santiago = 1\n",
    "        group by infractor;\n",
    "        \"\"\""
   ]
  },
  {
   "cell_type": "code",
   "execution_count": null,
   "metadata": {},
   "outputs": [],
   "source": [
    "pd.read_sql_query(qry, engine)"
   ]
  },
  {
   "cell_type": "code",
   "execution_count": null,
   "metadata": {},
   "outputs": [],
   "source": [
    "qry = \"\"\"\n",
    "        set role direccion_trabajo_inspections_write;\n",
    "        SELECT count(distinct rutempresamask)\n",
    "        FROM staging.simple\n",
    "        where agno != 2016 and infractor is not null\n",
    "        group by santiago ;\n",
    "        \"\"\""
   ]
  },
  {
   "cell_type": "code",
   "execution_count": null,
   "metadata": {},
   "outputs": [],
   "source": [
    "pd.read_sql_query(qry, engine)"
   ]
  },
  {
   "cell_type": "code",
   "execution_count": null,
   "metadata": {},
   "outputs": [],
   "source": [
    "qry = \"\"\"\n",
    "        set role direccion_trabajo_inspections_write;\n",
    "        SELECT ntrabajadores, RutMask\n",
    "        FROM raw.taxes\n",
    "        \n",
    "        \"\"\""
   ]
  },
  {
   "cell_type": "code",
   "execution_count": null,
   "metadata": {},
   "outputs": [],
   "source": [
    "df = pd.read_sql_query(qry, engine)"
   ]
  },
  {
   "cell_type": "code",
   "execution_count": null,
   "metadata": {},
   "outputs": [],
   "source": [
    "df.ntrabajadores.describe()"
   ]
  },
  {
   "cell_type": "markdown",
   "metadata": {},
   "source": [
    "# Merging comunaglosa and inspections_se"
   ]
  },
  {
   "cell_type": "code",
   "execution_count": null,
   "metadata": {},
   "outputs": [],
   "source": [
    "qry = \"\"\"\n",
    "set role direccion_trabajo_inspections_write;\n",
    "select * from raw.comunaglosa;\"\"\""
   ]
  },
  {
   "cell_type": "code",
   "execution_count": null,
   "metadata": {},
   "outputs": [],
   "source": [
    "comuna = pd.read_sql_query(qry, engine)"
   ]
  },
  {
   "cell_type": "code",
   "execution_count": null,
   "metadata": {},
   "outputs": [],
   "source": [
    "qry = \"\"\"\n",
    "        set role direccion_trabajo_inspections_write; select variable_name, description_english from raw.metadata;\n",
    "        \"\"\""
   ]
  },
  {
   "cell_type": "code",
   "execution_count": null,
   "metadata": {},
   "outputs": [],
   "source": [
    "metadata = pd.read_sql_query(qry, engine)"
   ]
  },
  {
   "cell_type": "code",
   "execution_count": null,
   "metadata": {},
   "outputs": [],
   "source": [
    "metadata"
   ]
  },
  {
   "cell_type": "code",
   "execution_count": null,
   "metadata": {},
   "outputs": [],
   "source": [
    "qry = \"\"\"\n",
    "set role direccion_trabajo_inspections_write;\n",
    "select IDFiscalizacion, RutEmpresaMask, EmpDFCodComuna, EmpDMCodComuna, Region, Infra, num_materias from raw.inspections_se\"\"\""
   ]
  },
  {
   "cell_type": "code",
   "execution_count": null,
   "metadata": {},
   "outputs": [],
   "source": [
    "pd.set_option('display.max_colwidth', 100)"
   ]
  },
  {
   "cell_type": "code",
   "execution_count": null,
   "metadata": {},
   "outputs": [],
   "source": [
    "inspections = pd.read_sql_query(qry, engine)"
   ]
  },
  {
   "cell_type": "code",
   "execution_count": null,
   "metadata": {},
   "outputs": [],
   "source": [
    "qry = \"\"\"\n",
    "set role direccion_trabajo_inspections_write;\n",
    "select i.EmpDFCodComuna\n",
    "from raw.inspections_se i right outer join \n",
    "raw.comunaglosa c\n",
    "on (c.codigo = i.EmpDFCodComuna)\n",
    "where i.inspections is null\n",
    "group by c.codigo;\n",
    "\"\"\""
   ]
  },
  {
   "cell_type": "code",
   "execution_count": null,
   "metadata": {},
   "outputs": [],
   "source": [
    "pd.read_sql_query(qry, engine)"
   ]
  },
  {
   "cell_type": "code",
   "execution_count": null,
   "metadata": {},
   "outputs": [],
   "source": [
    "qry=\"\"\"\n",
    "set role direccion_trabajo_inspections_write; \n",
    "SELECT DATA_TYPE \n",
    "FROM INFORMATION_SCHEMA.COLUMNS\n",
    "WHERE \n",
    "     TABLE_NAME = 'comunaglosa' AND \n",
    "     COLUMN_NAME = 'codigo';\n",
    "     \"\"\""
   ]
  },
  {
   "cell_type": "code",
   "execution_count": null,
   "metadata": {},
   "outputs": [],
   "source": [
    "pd.read_sql_query(qry, engine)"
   ]
  },
  {
   "cell_type": "code",
   "execution_count": null,
   "metadata": {},
   "outputs": [],
   "source": [
    "qry=\"\"\"\n",
    "set role direccion_trabajo_inspections_write; \n",
    "SELECT DATA_TYPE \n",
    "FROM INFORMATION_SCHEMA.COLUMNS\n",
    "WHERE \n",
    "     TABLE_NAME = 'inspections_complete' AND \n",
    "     COLUMN_NAME = 'empdfcodcomuna';\n",
    "     \"\"\""
   ]
  },
  {
   "cell_type": "code",
   "execution_count": null,
   "metadata": {},
   "outputs": [],
   "source": [
    "pd.read_sql_query(qry, engine)"
   ]
  },
  {
   "cell_type": "code",
   "execution_count": null,
   "metadata": {},
   "outputs": [],
   "source": [
    "qry=\"\"\"\n",
    "set role direccion_trabajo_inspections_write; \n",
    "alter table raw.inspections_se ALTER COLUMN empdfcodcomuna TYPE numeric USING empdfcodcomuna::numeric;\n",
    ";\n",
    "\"\"\""
   ]
  },
  {
   "cell_type": "code",
   "execution_count": null,
   "metadata": {},
   "outputs": [],
   "source": [
    "pd.read_sql_query(qry, engine)"
   ]
  },
  {
   "cell_type": "code",
   "execution_count": null,
   "metadata": {},
   "outputs": [],
   "source": [
    "qry=\"\"\"\n",
    "set role direccion_trabajo_inspections_write; \n",
    "SELECT DATA_TYPE \n",
    "FROM INFORMATION_SCHEMA.COLUMNS\n",
    "WHERE \n",
    "     TABLE_NAME = 'inspections_complete' AND \n",
    "     COLUMN_NAME = 'empdfcodcomuna';\n",
    "     \"\"\""
   ]
  },
  {
   "cell_type": "code",
   "execution_count": null,
   "metadata": {},
   "outputs": [],
   "source": [
    "pd.read_sql_query(qry, engine)"
   ]
  },
  {
   "cell_type": "markdown",
   "metadata": {},
   "source": [
    "# Creating features from office data"
   ]
  },
  {
   "cell_type": "code",
   "execution_count": null,
   "metadata": {},
   "outputs": [],
   "source": [
    "role = 'direccion_trabajo_inspections_write'"
   ]
  },
  {
   "cell_type": "code",
   "execution_count": null,
   "metadata": {},
   "outputs": [],
   "source": [
    "import sys\n",
    "sys.path.append('../')\n",
    "import pipeline.metrics as plmet\n",
    "import pipeline.sql as plsql\n",
    "import pipeline.eda as pleda"
   ]
  },
  {
   "cell_type": "code",
   "execution_count": null,
   "metadata": {},
   "outputs": [],
   "source": [
    "qry = \"\"\"set role {};\n",
    "    select codoficina, count(*)  \n",
    "    from cleaned.inspections_se \n",
    "    group by codoficina order by codoficina;\n",
    "    \"\"\".format(role)"
   ]
  },
  {
   "cell_type": "code",
   "execution_count": null,
   "metadata": {},
   "outputs": [],
   "source": [
    "office = plsql.query(qry, engine)"
   ]
  },
  {
   "cell_type": "code",
   "execution_count": null,
   "metadata": {},
   "outputs": [],
   "source": [
    "office"
   ]
  },
  {
   "cell_type": "code",
   "execution_count": null,
   "metadata": {},
   "outputs": [],
   "source": [
    "tt = ('\\n').join(\"CASE WHEN codoficina = '{}' THEN 1 ELSE 0 END AS codoficina_{},\".format(item, item) for item in office.codoficina.head())\n",
    "print(tt)"
   ]
  },
  {
   "cell_type": "code",
   "execution_count": null,
   "metadata": {},
   "outputs": [],
   "source": [
    "tt = ('\\n').join(\"SUM(CASE WHEN codoficina = '{}' THEN 1 ELSE 0 END) AS codoficina_{},\".format(item, item) for item in office.codoficina)\n",
    "print(tt)"
   ]
  },
  {
   "cell_type": "code",
   "execution_count": null,
   "metadata": {},
   "outputs": [],
   "source": [
    "('\\n').join(\"CASE WHEN codoficina = '{}' THEN 1 ELSE 0 END AS codoficina_{},\".format(item, item) for item in office.codoficina.head())"
   ]
  },
  {
   "cell_type": "markdown",
   "metadata": {},
   "source": [
    "# company income levels from taxes data"
   ]
  },
  {
   "cell_type": "code",
   "execution_count": null,
   "metadata": {},
   "outputs": [],
   "source": [
    "import sys\n",
    "sys.path.append('../')\n",
    "import pipeline.metrics as plmet\n",
    "import pipeline.sql as plsql\n",
    "import pipeline.eda as pleda"
   ]
  },
  {
   "cell_type": "code",
   "execution_count": null,
   "metadata": {},
   "outputs": [],
   "source": [
    "role = 'direccion_trabajo_inspections_write'"
   ]
  },
  {
   "cell_type": "code",
   "execution_count": null,
   "metadata": {},
   "outputs": [],
   "source": [
    "qry = \"\"\"set role {};\n",
    "    select tramoventas, count(*)  \n",
    "    from staging.income_level_tax \n",
    "    group by tramoventas order by tramoventas;\n",
    "    \"\"\".format(role)"
   ]
  },
  {
   "cell_type": "code",
   "execution_count": null,
   "metadata": {},
   "outputs": [],
   "source": [
    "level = plsql.query(qry, engine)"
   ]
  },
  {
   "cell_type": "code",
   "execution_count": null,
   "metadata": {},
   "outputs": [],
   "source": [
    "level"
   ]
  },
  {
   "cell_type": "code",
   "execution_count": null,
   "metadata": {},
   "outputs": [],
   "source": [
    "tt = ('\\n').join(\"CASE WHEN tramoventas = '{}' THEN 1 ELSE 0 END AS company_income_level_{},\".format(item, item) for item in level.tramoventas)\n",
    "print(tt)"
   ]
  },
  {
   "cell_type": "code",
   "execution_count": null,
   "metadata": {},
   "outputs": [],
   "source": [
    "company_income_level_3',"
   ]
  },
  {
   "cell_type": "markdown",
   "metadata": {},
   "source": [
    "# region from taxes data"
   ]
  },
  {
   "cell_type": "code",
   "execution_count": null,
   "metadata": {},
   "outputs": [],
   "source": [
    "qry = \"\"\"set role {};\n",
    "    select region_tax, count(*)  \n",
    "    from staging.income_level_tax \n",
    "    group by region_tax order by region_tax;\n",
    "    \"\"\".format(role)"
   ]
  },
  {
   "cell_type": "code",
   "execution_count": null,
   "metadata": {},
   "outputs": [],
   "source": [
    "level = plsql.query(qry, engine)"
   ]
  },
  {
   "cell_type": "code",
   "execution_count": null,
   "metadata": {},
   "outputs": [],
   "source": [
    "level"
   ]
  },
  {
   "cell_type": "code",
   "execution_count": null,
   "metadata": {},
   "outputs": [],
   "source": [
    "tt = ('\\n').join(\"CASE WHEN region_tax = '{}' THEN 1 ELSE 0 END AS region_taxes_{},\".format(item, item) for item in level.tramoventas)\n",
    "print(tt)"
   ]
  },
  {
   "cell_type": "code",
   "execution_count": null,
   "metadata": {},
   "outputs": [],
   "source": []
  },
  {
   "cell_type": "code",
   "execution_count": null,
   "metadata": {},
   "outputs": [],
   "source": []
  },
  {
   "cell_type": "code",
   "execution_count": null,
   "metadata": {},
   "outputs": [],
   "source": []
  },
  {
   "cell_type": "code",
   "execution_count": null,
   "metadata": {},
   "outputs": [],
   "source": []
  },
  {
   "cell_type": "code",
   "execution_count": null,
   "metadata": {},
   "outputs": [],
   "source": []
  },
  {
   "cell_type": "code",
   "execution_count": null,
   "metadata": {},
   "outputs": [],
   "source": []
  },
  {
   "cell_type": "code",
   "execution_count": null,
   "metadata": {},
   "outputs": [],
   "source": []
  },
  {
   "cell_type": "code",
   "execution_count": null,
   "metadata": {},
   "outputs": [],
   "source": []
  },
  {
   "cell_type": "code",
   "execution_count": null,
   "metadata": {},
   "outputs": [],
   "source": []
  },
  {
   "cell_type": "code",
   "execution_count": null,
   "metadata": {},
   "outputs": [],
   "source": []
  },
  {
   "cell_type": "code",
   "execution_count": null,
   "metadata": {},
   "outputs": [],
   "source": []
  },
  {
   "cell_type": "code",
   "execution_count": null,
   "metadata": {},
   "outputs": [],
   "source": []
  },
  {
   "cell_type": "code",
   "execution_count": null,
   "metadata": {},
   "outputs": [],
   "source": []
  },
  {
   "cell_type": "code",
   "execution_count": null,
   "metadata": {},
   "outputs": [],
   "source": []
  },
  {
   "cell_type": "code",
   "execution_count": null,
   "metadata": {},
   "outputs": [],
   "source": []
  },
  {
   "cell_type": "code",
   "execution_count": null,
   "metadata": {},
   "outputs": [],
   "source": []
  },
  {
   "cell_type": "code",
   "execution_count": null,
   "metadata": {},
   "outputs": [],
   "source": []
  },
  {
   "cell_type": "code",
   "execution_count": null,
   "metadata": {},
   "outputs": [],
   "source": []
  },
  {
   "cell_type": "code",
   "execution_count": null,
   "metadata": {},
   "outputs": [],
   "source": []
  },
  {
   "cell_type": "code",
   "execution_count": null,
   "metadata": {},
   "outputs": [],
   "source": []
  },
  {
   "cell_type": "code",
   "execution_count": null,
   "metadata": {},
   "outputs": [],
   "source": []
  }
 ],
 "metadata": {
  "kernelspec": {
   "display_name": "Python 3",
   "language": "python",
   "name": "python3"
  },
  "language_info": {
   "codemirror_mode": {
    "name": "ipython",
    "version": 3
   },
   "file_extension": ".py",
   "mimetype": "text/x-python",
   "name": "python",
   "nbconvert_exporter": "python",
   "pygments_lexer": "ipython3",
   "version": "3.6.5"
  }
 },
 "nbformat": 4,
 "nbformat_minor": 2
}
