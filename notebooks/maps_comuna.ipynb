{
 "cells": [
  {
   "cell_type": "code",
   "execution_count": null,
   "metadata": {},
   "outputs": [],
   "source": [
    "import psycopg2\n",
    "import numpy as np\n",
    "import pandas as pd\n",
    "from sqlalchemy import create_engine\n",
    "import yaml\n",
    "import matplotlib.pyplot as plt\n",
    "from plotnine import *\n",
    "\n",
    "file = open(\"../pop.yaml\", 'r')\n",
    "config = yaml.load(file)\n",
    "\n",
    "engine_path = 'postgresql://{}:{}@{}/{}'\n",
    "engine = create_engine(engine_path.format(config['db']['username'], config['db']['password'], config['db']['host'],\n",
    "                                          config['db']['database']))"
   ]
  },
  {
   "cell_type": "code",
   "execution_count": null,
   "metadata": {},
   "outputs": [],
   "source": [
    "#importing required packages -- bokeh, geopandas, shapely, fiona\n",
    "import requests\n",
    "import zipfile\n",
    "import io \n",
    "\n",
    "\n",
    "!pip install fiona\n",
    "import fiona\n",
    "\n",
    "import geopandas as gp\n",
    "\n",
    "!pip install shapely \n",
    "from shapely.geometry.polygon import Polygon\n",
    "from shapely.geometry.multipolygon import MultiPolygon\n",
    "\n",
    "!pip install pysal\n",
    "import pysal as ps\n",
    "\n",
    "import matplotlib.pyplot as plt\n",
    "\n",
    "from bokeh.io import show, output_file, output_notebook, export_png\n",
    "from bokeh.models import ColumnDataSource, HoverTool, PanTool, WheelZoomTool, LinearColorMapper, BasicTicker, ColorBar, LogColorMapper\n",
    "from bokeh.palettes import brewer \n",
    "from bokeh.plotting import figure, save\n",
    "from bokeh.resources import CDN\n",
    "from bokeh.transform import transform\n",
    "output_notebook()"
   ]
  },
  {
   "cell_type": "code",
   "execution_count": null,
   "metadata": {},
   "outputs": [],
   "source": [
    "#comuna map\n",
    "url = 'https://www.bcn.cl/siit/obtienearchivo?id=repositorio/10221/10396/1/division_comunal.zip'\n",
    "request_file = requests.get(url)\n",
    "file_zip = zipfile.ZipFile(io.BytesIO(request_file.content))\n",
    "file_zip.extractall()"
   ]
  },
  {
   "cell_type": "code",
   "execution_count": null,
   "metadata": {},
   "outputs": [],
   "source": [
    "#region map\n",
    "url = 'https://www.bcn.cl/siit/obtienearchivo?id=repositorio/10221/10398/1/division_regional.zip'\n",
    "request_file = requests.get(url)\n",
    "file_zip = zipfile.ZipFile(io.BytesIO(request_file.content))\n",
    "file_zip.extractall()"
   ]
  },
  {
   "cell_type": "code",
   "execution_count": null,
   "metadata": {},
   "outputs": [],
   "source": [
    "#urban areas\n",
    "url = 'https://www.bcn.cl/siit/obtienearchivo?id=repositorio/10221/10405/1/areas_urbanas.zip'\n",
    "request_file = requests.get(url)\n",
    "file_zip = zipfile.ZipFile(io.BytesIO(request_file.content))\n",
    "file_zip.extractall()"
   ]
  },
  {
   "cell_type": "code",
   "execution_count": null,
   "metadata": {},
   "outputs": [],
   "source": [
    "comunas = gp.read_file('division_comunal.shp')"
   ]
  },
  {
   "cell_type": "code",
   "execution_count": null,
   "metadata": {},
   "outputs": [],
   "source": [
    "regions = gp.read_file('division_regional.shp')"
   ]
  },
  {
   "cell_type": "code",
   "execution_count": null,
   "metadata": {},
   "outputs": [],
   "source": [
    "urban = gp.read_file('areas_urbanas.shp')"
   ]
  },
  {
   "cell_type": "code",
   "execution_count": null,
   "metadata": {},
   "outputs": [],
   "source": [
    "#regions.head()"
   ]
  },
  {
   "cell_type": "code",
   "execution_count": null,
   "metadata": {},
   "outputs": [],
   "source": [
    "#urban.head()"
   ]
  },
  {
   "cell_type": "code",
   "execution_count": null,
   "metadata": {},
   "outputs": [],
   "source": [
    "#c = comunas.plot()"
   ]
  },
  {
   "cell_type": "code",
   "execution_count": null,
   "metadata": {},
   "outputs": [],
   "source": [
    "#comunas.head(10)"
   ]
  },
  {
   "cell_type": "code",
   "execution_count": null,
   "metadata": {},
   "outputs": [],
   "source": [
    "#comunas.loc[comunas['NOM_COM'] == 'Calera'].head(2)"
   ]
  },
  {
   "cell_type": "code",
   "execution_count": null,
   "metadata": {},
   "outputs": [],
   "source": [
    "qry = \"\"\"\n",
    "        set role direccion_trabajo_inspections_write;\n",
    "        SELECT count(IDFiscalizacion) as No_Inspections, empdfcodcomuna_rec, glosa\n",
    "        FROM cleaned.inspections_se\n",
    "        group by empdfcodcomuna_rec, glosa;\n",
    "        \"\"\"\n",
    "\n",
    "comuna_inspections =pd.read_sql_query(qry, engine)\n",
    "\n",
    "#comuna_inspections = comuna_inspections.rename(columns={'empdfcodcomuna_rec': 'COD_COMUNA'})\n",
    "comuna_inspections = comuna_inspections.rename(columns={'glosa': 'NOM_COM_inspec'})\n",
    "comuna_inspections['NOM_COM_lower'] = comuna_inspections[\"NOM_COM_inspec\"].map(lambda x: x if type(x)!=str else x.lower())"
   ]
  },
  {
   "cell_type": "code",
   "execution_count": null,
   "metadata": {},
   "outputs": [],
   "source": [
    "comuna_mp = comunas.set_index(['NOM_COM','COD_COMUNA','NOM_REG'])['geometry'].apply(pd.Series).stack().reset_index()"
   ]
  },
  {
   "cell_type": "code",
   "execution_count": null,
   "metadata": {},
   "outputs": [],
   "source": [
    "extract_multi = regions.set_index(['NOM_REG'])['geometry'].apply(pd.Series).stack().reset_index()"
   ]
  },
  {
   "cell_type": "code",
   "execution_count": null,
   "metadata": {},
   "outputs": [],
   "source": [
    "urban_mp = urban.set_index(['NOMBRE'])['geometry'].apply(pd.Series).stack().reset_index()"
   ]
  },
  {
   "cell_type": "code",
   "execution_count": null,
   "metadata": {},
   "outputs": [],
   "source": [
    "comuna_mp['NOM_COM_lower'] = comuna_mp[\"NOM_COM\"].map(lambda x: x.lower())"
   ]
  },
  {
   "cell_type": "code",
   "execution_count": null,
   "metadata": {},
   "outputs": [],
   "source": [
    "#comuna_mp[\"COD_COMUNA\"] = comuna_mp.COD_COMUNA.astype(int)"
   ]
  },
  {
   "cell_type": "code",
   "execution_count": null,
   "metadata": {},
   "outputs": [],
   "source": [
    "#fucntion for extraction of x,y co-ords\n",
    "def getPolyCoords(row, geom, coord_type):\n",
    "    \"\"\"Returns the coordinates ('x' or 'y') of edges of a Polygon exterior\"\"\"\n",
    "\n",
    "    # Parse the exterior of the coordinate\n",
    "    exterior = row[geom].exterior\n",
    "\n",
    "    if coord_type == 'x':\n",
    "        # Get the x coordinates of the exterior\n",
    "        return list( exterior.coords.xy[0] )\n",
    "    elif coord_type == 'y':\n",
    "        # Get the y coordinates of the exterior\n",
    "        return list( exterior.coords.xy[1] )"
   ]
  },
  {
   "cell_type": "code",
   "execution_count": null,
   "metadata": {},
   "outputs": [],
   "source": [
    "urban_mp['x'] = urban_mp.apply(getPolyCoords, geom=0, coord_type='x', axis=1)\n",
    "urban_mp['y'] = urban_mp.apply(getPolyCoords, geom=0, coord_type='y', axis=1)"
   ]
  },
  {
   "cell_type": "code",
   "execution_count": null,
   "metadata": {},
   "outputs": [],
   "source": [
    "comuna_mp['x'] = comuna_mp.apply(getPolyCoords, geom=0, coord_type='x', axis=1)\n",
    "comuna_mp['y'] = comuna_mp.apply(getPolyCoords, geom=0, coord_type='y', axis=1)"
   ]
  },
  {
   "cell_type": "code",
   "execution_count": null,
   "metadata": {},
   "outputs": [],
   "source": [
    "extract_multi['x'] = extract_multi.apply(getPolyCoords, geom=0, coord_type='x', axis=1)\n",
    "extract_multi['y'] = extract_multi.apply(getPolyCoords, geom=0, coord_type='y', axis=1)"
   ]
  },
  {
   "cell_type": "code",
   "execution_count": null,
   "metadata": {},
   "outputs": [],
   "source": [
    "# removing whitespaces from NOM_COM_lower from inspections database\n",
    "comuna_inspections['NOM_COM_lower'] = comuna_inspections['NOM_COM_lower'].str.strip()"
   ]
  },
  {
   "cell_type": "code",
   "execution_count": null,
   "metadata": {},
   "outputs": [],
   "source": [
    "comuna_mp = comuna_mp.merge(comuna_inspections, 'left', on='NOM_COM_lower')"
   ]
  },
  {
   "cell_type": "code",
   "execution_count": null,
   "metadata": {},
   "outputs": [],
   "source": [
    "#comuna_mp.head(5)"
   ]
  },
  {
   "cell_type": "code",
   "execution_count": null,
   "metadata": {},
   "outputs": [],
   "source": [
    "#comuna_mp.loc[comuna_mp['NOM_COM_lower'] == 'calera'].head(1)"
   ]
  },
  {
   "cell_type": "code",
   "execution_count": null,
   "metadata": {},
   "outputs": [],
   "source": [
    "#make map\n",
    "colors = brewer['YlGnBu'][9]\n",
    "mapper = LinearColorMapper(palette=colors,low=comuna_mp.no_inspections.min(), \n",
    "                           high=comuna_mp.no_inspections.max(), nan_color='#525252')\n",
    "\n",
    "source_1 = ColumnDataSource(data=dict(\n",
    "    x=comuna_mp['x'], \n",
    "    y=comuna_mp['y'], \n",
    "    inspections=comuna_mp['no_inspections'],\n",
    "    comuna_name=comuna_mp['NOM_COM'],\n",
    "    region=comuna_mp['NOM_REG']\n",
    "))\n",
    "\n",
    "source_2 = ColumnDataSource(data=dict(\n",
    "    x=extract_multi['x'], \n",
    "    y=extract_multi['y']\n",
    "))\n",
    "\n",
    "source_3 = ColumnDataSource(data=dict(\n",
    "    x=urban_mp['x'], \n",
    "    y=urban_mp['y']\n",
    "))\n",
    "\n",
    "c = figure(\n",
    "    title=\"No. of Inspections by Comuna in Chile\",\n",
    "    x_axis_location=None, y_axis_location=None,\n",
    "    plot_width=2500, plot_height=900\n",
    ")\n",
    "\n",
    "c.patches('x', 'y', source=source_1, name = 'comuna',\n",
    "          fill_color=transform('inspections', mapper),\n",
    "          fill_alpha=0.7, line_color=\"white\", line_width=0.5, legend = 'Comuna')\n",
    "\n",
    "c.patches('x', 'y', source=source_2,\n",
    "          fill_alpha=0.0, line_color='black', line_width=1, line_alpha=1, legend = 'Region')\n",
    "\n",
    "c.patches('x', 'y', source=source_3, line_color='red', fill_alpha=0.7, legend = 'Urban Areas in Chile')\n",
    "    \n",
    "#c.circle('x', 'y', source=source_3, size=5, color=\"navy\", alpha=0.5, legend = 'Urban Areas in Chile', \n",
    "         #muted_color='navy', muted_alpha=0.2)\n",
    "\n",
    "c.legend.location = \"bottom_right\"\n",
    "c.legend.click_policy=\"hide\"\n",
    "\n",
    "color_bar = ColorBar(color_mapper=mapper, ticker=BasicTicker(),\n",
    "                 label_standoff=12, border_line_color=None, location=(0,0),\n",
    "                 major_label_text_font = 'nunito')\n",
    "\n",
    "c.add_layout(color_bar, 'right')\n",
    "\n",
    "#Add tools\n",
    "hover= HoverTool(tooltips = [\n",
    "   (\"Comuna Name\",\"@comuna_name\"),\n",
    "    (\"No. of Inspections\",\"@inspections\"),\n",
    "    (\"Region\",\"@region\")], names=['comuna'])\n",
    "\n",
    "c.add_tools(PanTool(), WheelZoomTool(), hover)\n"
   ]
  },
  {
   "cell_type": "code",
   "execution_count": null,
   "metadata": {},
   "outputs": [],
   "source": [
    "show(c)"
   ]
  },
  {
   "cell_type": "code",
   "execution_count": null,
   "metadata": {},
   "outputs": [],
   "source": [
    "output_file(\"comuna_urban_region_mp_final.html\")"
   ]
  },
  {
   "cell_type": "code",
   "execution_count": null,
   "metadata": {},
   "outputs": [],
   "source": [
    "save(c)"
   ]
  },
  {
   "cell_type": "code",
   "execution_count": null,
   "metadata": {},
   "outputs": [],
   "source": []
  },
  {
   "cell_type": "code",
   "execution_count": null,
   "metadata": {},
   "outputs": [],
   "source": []
  },
  {
   "cell_type": "code",
   "execution_count": null,
   "metadata": {},
   "outputs": [],
   "source": []
  },
  {
   "cell_type": "code",
   "execution_count": null,
   "metadata": {},
   "outputs": [],
   "source": []
  },
  {
   "cell_type": "code",
   "execution_count": null,
   "metadata": {},
   "outputs": [],
   "source": []
  },
  {
   "cell_type": "code",
   "execution_count": null,
   "metadata": {},
   "outputs": [],
   "source": []
  },
  {
   "cell_type": "code",
   "execution_count": null,
   "metadata": {},
   "outputs": [],
   "source": []
  },
  {
   "cell_type": "code",
   "execution_count": null,
   "metadata": {},
   "outputs": [],
   "source": []
  },
  {
   "cell_type": "code",
   "execution_count": null,
   "metadata": {},
   "outputs": [],
   "source": []
  },
  {
   "cell_type": "code",
   "execution_count": null,
   "metadata": {},
   "outputs": [],
   "source": []
  },
  {
   "cell_type": "code",
   "execution_count": null,
   "metadata": {},
   "outputs": [],
   "source": []
  },
  {
   "cell_type": "code",
   "execution_count": null,
   "metadata": {},
   "outputs": [],
   "source": []
  },
  {
   "cell_type": "code",
   "execution_count": null,
   "metadata": {},
   "outputs": [],
   "source": []
  },
  {
   "cell_type": "code",
   "execution_count": null,
   "metadata": {},
   "outputs": [],
   "source": []
  },
  {
   "cell_type": "code",
   "execution_count": null,
   "metadata": {},
   "outputs": [],
   "source": []
  },
  {
   "cell_type": "code",
   "execution_count": null,
   "metadata": {},
   "outputs": [],
   "source": []
  },
  {
   "cell_type": "code",
   "execution_count": null,
   "metadata": {},
   "outputs": [],
   "source": []
  },
  {
   "cell_type": "code",
   "execution_count": null,
   "metadata": {},
   "outputs": [],
   "source": []
  },
  {
   "cell_type": "code",
   "execution_count": null,
   "metadata": {},
   "outputs": [],
   "source": []
  },
  {
   "cell_type": "code",
   "execution_count": null,
   "metadata": {},
   "outputs": [],
   "source": []
  },
  {
   "cell_type": "code",
   "execution_count": null,
   "metadata": {},
   "outputs": [],
   "source": []
  },
  {
   "cell_type": "code",
   "execution_count": null,
   "metadata": {},
   "outputs": [],
   "source": []
  },
  {
   "cell_type": "code",
   "execution_count": null,
   "metadata": {},
   "outputs": [],
   "source": []
  },
  {
   "cell_type": "code",
   "execution_count": null,
   "metadata": {},
   "outputs": [],
   "source": []
  }
 ],
 "metadata": {
  "kernelspec": {
   "display_name": "Python 3",
   "language": "python",
   "name": "python3"
  },
  "language_info": {
   "codemirror_mode": {
    "name": "ipython",
    "version": 3
   },
   "file_extension": ".py",
   "mimetype": "text/x-python",
   "name": "python",
   "nbconvert_exporter": "python",
   "pygments_lexer": "ipython3",
   "version": "3.6.5"
  }
 },
 "nbformat": 4,
 "nbformat_minor": 2
}
