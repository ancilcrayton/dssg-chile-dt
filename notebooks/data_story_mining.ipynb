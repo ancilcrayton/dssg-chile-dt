{
 "cells": [
  {
   "cell_type": "markdown",
   "metadata": {},
   "source": [
    "Data story using generalized functions"
   ]
  },
  {
   "cell_type": "code",
   "execution_count": null,
   "metadata": {},
   "outputs": [],
   "source": [
    "import sys\n",
    "sys.path.append('../')\n",
    "\n",
    "import pandas as pd\n",
    "from plotnine import *\n",
    "\n",
    "import pipeline.sql as plsql\n",
    "import eda.functions_datastory as funsds"
   ]
  },
  {
   "cell_type": "code",
   "execution_count": null,
   "metadata": {},
   "outputs": [],
   "source": [
    "engine = plsql.create_engine('../config.yaml')\n",
    "role = 'direccion_trabajo_inspections_write'"
   ]
  },
  {
   "cell_type": "code",
   "execution_count": null,
   "metadata": {},
   "outputs": [],
   "source": [
    "qry = \"\"\"set role direccion_trabajo_inspections_write;\n",
    "    select rutempresamask, sum(cast(urgencia as int)) as urgents, \n",
    "    sum(derechofund) as humanrights,\n",
    "    sum(infra) as infractions, count(*) as inspections\n",
    "    from raw.inspections_complete\n",
    "    where ccae = '133000'\n",
    "    group by rutempresamask;\"\"\"\n",
    "#tab_ins = plsql.query(qry, engine)\n",
    "#id_company = ''.join(tab_ins[tab_ins['urgents']>45].rutempresamask)\n",
    "\n",
    "id_company = 'ff11b3633e758a918f6a1a23425ef3304b724706aed0b2898b887a1c0b11f565'\n",
    "print (id_company)"
   ]
  },
  {
   "cell_type": "code",
   "execution_count": null,
   "metadata": {},
   "outputs": [],
   "source": [
    "qry = \"\"\"set role direccion_trabajo_inspections_write;\n",
    "    select rutempresamask, avg(emptrabhombres) as workers, count(*) as inspections, sum(infra) as infractions\n",
    "    from raw.inspections_complete\n",
    "    where ccae = '133000'\n",
    "    group by rutempresamask;\"\"\"\n",
    "tab = plsql.query(qry, engine)\n",
    "tab['ind'] = tab['inspections'] > 200"
   ]
  },
  {
   "cell_type": "code",
   "execution_count": null,
   "metadata": {},
   "outputs": [],
   "source": [
    "(ggplot(tab[pd.isnull(tab['infractions']) == False], \n",
    "        aes('inspections', 'infractions')) + \n",
    "    geom_point(aes( color = 'ind'), size = 2, \n",
    "              alpha = .9) + \n",
    "    scale_color_manual(values = (\"black\", '#e91d63'),\n",
    "                   guide = False) + \n",
    "    geom_abline(intercept = 0, slope = 1, color = \"#e91d63\") +\n",
    "    theme(figure_size = (4, 3)))"
   ]
  },
  {
   "cell_type": "code",
   "execution_count": null,
   "metadata": {},
   "outputs": [],
   "source": [
    "qry = \"\"\"set role direccion_trabajo_inspections_write;\n",
    "    select *\n",
    "    from raw.inspections_complete\n",
    "    limit 3;\"\"\"\n",
    "df = plsql.query(qry, engine)\n",
    "df.columns"
   ]
  },
  {
   "cell_type": "code",
   "execution_count": null,
   "metadata": {},
   "outputs": [],
   "source": [
    "funsds.facility_info(engine = engine, id_company = id_company)"
   ]
  },
  {
   "cell_type": "code",
   "execution_count": null,
   "metadata": {},
   "outputs": [],
   "source": [
    "funsds.time_graphs(engine = engine, id_company = id_company)"
   ]
  },
  {
   "cell_type": "code",
   "execution_count": null,
   "metadata": {},
   "outputs": [],
   "source": [
    "tab_result = funsds.freq_matters_bookupdated(engine, role, id_company)\n",
    "tab_result.head()"
   ]
  },
  {
   "cell_type": "code",
   "execution_count": null,
   "metadata": {},
   "outputs": [],
   "source": [
    "funsds.text_wordcloud_matters(tab_result)"
   ]
  },
  {
   "cell_type": "code",
   "execution_count": null,
   "metadata": {},
   "outputs": [],
   "source": []
  }
 ],
 "metadata": {
  "kernelspec": {
   "display_name": "Python 3",
   "language": "python",
   "name": "python3"
  },
  "language_info": {
   "codemirror_mode": {
    "name": "ipython",
    "version": 3
   },
   "file_extension": ".py",
   "mimetype": "text/x-python",
   "name": "python",
   "nbconvert_exporter": "python",
   "pygments_lexer": "ipython3",
   "version": "3.6.5"
  }
 },
 "nbformat": 4,
 "nbformat_minor": 2
}
